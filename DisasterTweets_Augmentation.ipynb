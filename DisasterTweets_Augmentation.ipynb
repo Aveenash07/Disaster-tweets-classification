{
  "nbformat": 4,
  "nbformat_minor": 0,
  "metadata": {
    "colab": {
      "provenance": []
    },
    "kernelspec": {
      "name": "python3",
      "display_name": "Python 3"
    },
    "language_info": {
      "name": "python"
    },
    "gpuClass": "standard",
    "accelerator": "GPU"
  },
  "cells": [
    {
      "cell_type": "code",
      "source": [],
      "metadata": {
        "id": "xrNdfCUB8lca"
      },
      "execution_count": null,
      "outputs": []
    },
    {
      "cell_type": "markdown",
      "source": [
        "IMPORT LIBRARIES"
      ],
      "metadata": {
        "id": "957SRVNqZWzG"
      }
    },
    {
      "cell_type": "code",
      "execution_count": null,
      "metadata": {
        "colab": {
          "base_uri": "https://localhost:8080/"
        },
        "id": "Bd1hjGOrg2Fo",
        "outputId": "06d5546f-90cb-4f61-f373-e71236ab156e"
      },
      "outputs": [
        {
          "output_type": "stream",
          "name": "stderr",
          "text": [
            "[nltk_data] Downloading package stopwords to /root/nltk_data...\n",
            "[nltk_data]   Unzipping corpora/stopwords.zip.\n",
            "[nltk_data] Downloading package omw-1.4 to /root/nltk_data...\n"
          ]
        },
        {
          "output_type": "execute_result",
          "data": {
            "text/plain": [
              "True"
            ]
          },
          "metadata": {},
          "execution_count": 1
        }
      ],
      "source": [
        "from google.colab import drive\n",
        "import keras\n",
        "import numpy as np\n",
        "import pandas as pd\n",
        "import nltk\n",
        "from nltk.corpus import stopwords\n",
        "import pickle\n",
        "from sklearn.metrics import accuracy_score\n",
        "from sklearn.metrics import precision_score\n",
        "from sklearn.metrics import recall_score\n",
        "from sklearn.metrics import f1_score\n",
        "import re\n",
        "from sklearn.model_selection import train_test_split\n",
        "from tensorflow.keras.layers import TextVectorization\n",
        "from keras.models import Sequential\n",
        "from keras.layers import Embedding, SimpleRNN, Dropout\n",
        "from keras.layers import Dense\n",
        "import matplotlib.pyplot as plt\n",
        "from keras.layers import LSTM\n",
        "from tensorflow.keras.layers import Bidirectional\n",
        "from nltk.stem import WordNetLemmatizer \n",
        "import string\n",
        "import nltk\n",
        "import tensorflow as tf\n",
        "nltk.download('stopwords')\n",
        "nltk.download('omw-1.4')\n",
        "\n"
      ]
    },
    {
      "cell_type": "markdown",
      "source": [
        "MOUNT THE DRIVE\n",
        "\n",
        "\n"
      ],
      "metadata": {
        "id": "F1yZ-OKQZd_G"
      }
    },
    {
      "cell_type": "code",
      "source": [
        "drive.mount('/content/gdrive')"
      ],
      "metadata": {
        "colab": {
          "base_uri": "https://localhost:8080/"
        },
        "id": "VHcRZjKtg72K",
        "outputId": "87f50bfe-d6b6-4fdd-f407-8635ca1c4b82"
      },
      "execution_count": null,
      "outputs": [
        {
          "output_type": "stream",
          "name": "stdout",
          "text": [
            "Mounted at /content/gdrive\n"
          ]
        }
      ]
    },
    {
      "cell_type": "markdown",
      "source": [
        "CHECKING DATA INFO"
      ],
      "metadata": {
        "id": "xM_ZjkBlZfeb"
      }
    },
    {
      "cell_type": "code",
      "source": [
        "\n",
        "\n",
        "df = pd.read_csv(\"/content/gdrive/MyDrive/MachineLearning/disaster_tweets/train.csv\")\n",
        "df_test = pd.read_csv(\"/content/gdrive/MyDrive/MachineLearning/disaster_tweets/test.csv\")\n",
        "\n",
        "df.head(5)"
      ],
      "metadata": {
        "colab": {
          "base_uri": "https://localhost:8080/",
          "height": 206
        },
        "id": "fH2KWVg3hBRG",
        "outputId": "78266b9b-2237-4659-f919-60ade0e6d901"
      },
      "execution_count": null,
      "outputs": [
        {
          "output_type": "execute_result",
          "data": {
            "text/plain": [
              "   id keyword location                                               text  \\\n",
              "0   1     NaN      NaN  Our Deeds are the Reason of this #earthquake M...   \n",
              "1   4     NaN      NaN             Forest fire near La Ronge Sask. Canada   \n",
              "2   5     NaN      NaN  All residents asked to 'shelter in place' are ...   \n",
              "3   6     NaN      NaN  13,000 people receive #wildfires evacuation or...   \n",
              "4   7     NaN      NaN  Just got sent this photo from Ruby #Alaska as ...   \n",
              "\n",
              "   target  \n",
              "0       1  \n",
              "1       1  \n",
              "2       1  \n",
              "3       1  \n",
              "4       1  "
            ],
            "text/html": [
              "\n",
              "  <div id=\"df-b75f3403-482b-4969-801a-03b28df0a15c\">\n",
              "    <div class=\"colab-df-container\">\n",
              "      <div>\n",
              "<style scoped>\n",
              "    .dataframe tbody tr th:only-of-type {\n",
              "        vertical-align: middle;\n",
              "    }\n",
              "\n",
              "    .dataframe tbody tr th {\n",
              "        vertical-align: top;\n",
              "    }\n",
              "\n",
              "    .dataframe thead th {\n",
              "        text-align: right;\n",
              "    }\n",
              "</style>\n",
              "<table border=\"1\" class=\"dataframe\">\n",
              "  <thead>\n",
              "    <tr style=\"text-align: right;\">\n",
              "      <th></th>\n",
              "      <th>id</th>\n",
              "      <th>keyword</th>\n",
              "      <th>location</th>\n",
              "      <th>text</th>\n",
              "      <th>target</th>\n",
              "    </tr>\n",
              "  </thead>\n",
              "  <tbody>\n",
              "    <tr>\n",
              "      <th>0</th>\n",
              "      <td>1</td>\n",
              "      <td>NaN</td>\n",
              "      <td>NaN</td>\n",
              "      <td>Our Deeds are the Reason of this #earthquake M...</td>\n",
              "      <td>1</td>\n",
              "    </tr>\n",
              "    <tr>\n",
              "      <th>1</th>\n",
              "      <td>4</td>\n",
              "      <td>NaN</td>\n",
              "      <td>NaN</td>\n",
              "      <td>Forest fire near La Ronge Sask. Canada</td>\n",
              "      <td>1</td>\n",
              "    </tr>\n",
              "    <tr>\n",
              "      <th>2</th>\n",
              "      <td>5</td>\n",
              "      <td>NaN</td>\n",
              "      <td>NaN</td>\n",
              "      <td>All residents asked to 'shelter in place' are ...</td>\n",
              "      <td>1</td>\n",
              "    </tr>\n",
              "    <tr>\n",
              "      <th>3</th>\n",
              "      <td>6</td>\n",
              "      <td>NaN</td>\n",
              "      <td>NaN</td>\n",
              "      <td>13,000 people receive #wildfires evacuation or...</td>\n",
              "      <td>1</td>\n",
              "    </tr>\n",
              "    <tr>\n",
              "      <th>4</th>\n",
              "      <td>7</td>\n",
              "      <td>NaN</td>\n",
              "      <td>NaN</td>\n",
              "      <td>Just got sent this photo from Ruby #Alaska as ...</td>\n",
              "      <td>1</td>\n",
              "    </tr>\n",
              "  </tbody>\n",
              "</table>\n",
              "</div>\n",
              "      <button class=\"colab-df-convert\" onclick=\"convertToInteractive('df-b75f3403-482b-4969-801a-03b28df0a15c')\"\n",
              "              title=\"Convert this dataframe to an interactive table.\"\n",
              "              style=\"display:none;\">\n",
              "        \n",
              "  <svg xmlns=\"http://www.w3.org/2000/svg\" height=\"24px\"viewBox=\"0 0 24 24\"\n",
              "       width=\"24px\">\n",
              "    <path d=\"M0 0h24v24H0V0z\" fill=\"none\"/>\n",
              "    <path d=\"M18.56 5.44l.94 2.06.94-2.06 2.06-.94-2.06-.94-.94-2.06-.94 2.06-2.06.94zm-11 1L8.5 8.5l.94-2.06 2.06-.94-2.06-.94L8.5 2.5l-.94 2.06-2.06.94zm10 10l.94 2.06.94-2.06 2.06-.94-2.06-.94-.94-2.06-.94 2.06-2.06.94z\"/><path d=\"M17.41 7.96l-1.37-1.37c-.4-.4-.92-.59-1.43-.59-.52 0-1.04.2-1.43.59L10.3 9.45l-7.72 7.72c-.78.78-.78 2.05 0 2.83L4 21.41c.39.39.9.59 1.41.59.51 0 1.02-.2 1.41-.59l7.78-7.78 2.81-2.81c.8-.78.8-2.07 0-2.86zM5.41 20L4 18.59l7.72-7.72 1.47 1.35L5.41 20z\"/>\n",
              "  </svg>\n",
              "      </button>\n",
              "      \n",
              "  <style>\n",
              "    .colab-df-container {\n",
              "      display:flex;\n",
              "      flex-wrap:wrap;\n",
              "      gap: 12px;\n",
              "    }\n",
              "\n",
              "    .colab-df-convert {\n",
              "      background-color: #E8F0FE;\n",
              "      border: none;\n",
              "      border-radius: 50%;\n",
              "      cursor: pointer;\n",
              "      display: none;\n",
              "      fill: #1967D2;\n",
              "      height: 32px;\n",
              "      padding: 0 0 0 0;\n",
              "      width: 32px;\n",
              "    }\n",
              "\n",
              "    .colab-df-convert:hover {\n",
              "      background-color: #E2EBFA;\n",
              "      box-shadow: 0px 1px 2px rgba(60, 64, 67, 0.3), 0px 1px 3px 1px rgba(60, 64, 67, 0.15);\n",
              "      fill: #174EA6;\n",
              "    }\n",
              "\n",
              "    [theme=dark] .colab-df-convert {\n",
              "      background-color: #3B4455;\n",
              "      fill: #D2E3FC;\n",
              "    }\n",
              "\n",
              "    [theme=dark] .colab-df-convert:hover {\n",
              "      background-color: #434B5C;\n",
              "      box-shadow: 0px 1px 3px 1px rgba(0, 0, 0, 0.15);\n",
              "      filter: drop-shadow(0px 1px 2px rgba(0, 0, 0, 0.3));\n",
              "      fill: #FFFFFF;\n",
              "    }\n",
              "  </style>\n",
              "\n",
              "      <script>\n",
              "        const buttonEl =\n",
              "          document.querySelector('#df-b75f3403-482b-4969-801a-03b28df0a15c button.colab-df-convert');\n",
              "        buttonEl.style.display =\n",
              "          google.colab.kernel.accessAllowed ? 'block' : 'none';\n",
              "\n",
              "        async function convertToInteractive(key) {\n",
              "          const element = document.querySelector('#df-b75f3403-482b-4969-801a-03b28df0a15c');\n",
              "          const dataTable =\n",
              "            await google.colab.kernel.invokeFunction('convertToInteractive',\n",
              "                                                     [key], {});\n",
              "          if (!dataTable) return;\n",
              "\n",
              "          const docLinkHtml = 'Like what you see? Visit the ' +\n",
              "            '<a target=\"_blank\" href=https://colab.research.google.com/notebooks/data_table.ipynb>data table notebook</a>'\n",
              "            + ' to learn more about interactive tables.';\n",
              "          element.innerHTML = '';\n",
              "          dataTable['output_type'] = 'display_data';\n",
              "          await google.colab.output.renderOutput(dataTable, element);\n",
              "          const docLink = document.createElement('div');\n",
              "          docLink.innerHTML = docLinkHtml;\n",
              "          element.appendChild(docLink);\n",
              "        }\n",
              "      </script>\n",
              "    </div>\n",
              "  </div>\n",
              "  "
            ]
          },
          "metadata": {},
          "execution_count": 3
        }
      ]
    },
    {
      "cell_type": "markdown",
      "source": [
        "\n",
        "\n",
        "CREATED DUPLICATE DATAFRAME"
      ],
      "metadata": {
        "id": "bdysCXsGZq45"
      }
    },
    {
      "cell_type": "code",
      "source": [
        "df1 = df.iloc[:, [0,3,4]]\n",
        "df  = df.iloc[:, [3,4]]\n",
        "\n",
        "df1"
      ],
      "metadata": {
        "colab": {
          "base_uri": "https://localhost:8080/",
          "height": 424
        },
        "id": "xAZzSVtkeG3E",
        "outputId": "f38976d8-99da-4766-c99f-f902840ed451"
      },
      "execution_count": null,
      "outputs": [
        {
          "output_type": "execute_result",
          "data": {
            "text/plain": [
              "         id                                               text  target\n",
              "0         1  Our Deeds are the Reason of this #earthquake M...       1\n",
              "1         4             Forest fire near La Ronge Sask. Canada       1\n",
              "2         5  All residents asked to 'shelter in place' are ...       1\n",
              "3         6  13,000 people receive #wildfires evacuation or...       1\n",
              "4         7  Just got sent this photo from Ruby #Alaska as ...       1\n",
              "...     ...                                                ...     ...\n",
              "7608  10869  Two giant cranes holding a bridge collapse int...       1\n",
              "7609  10870  @aria_ahrary @TheTawniest The out of control w...       1\n",
              "7610  10871  M1.94 [01:04 UTC]?5km S of Volcano Hawaii. htt...       1\n",
              "7611  10872  Police investigating after an e-bike collided ...       1\n",
              "7612  10873  The Latest: More Homes Razed by Northern Calif...       1\n",
              "\n",
              "[7613 rows x 3 columns]"
            ],
            "text/html": [
              "\n",
              "  <div id=\"df-6fd2497e-9202-432e-9cb2-700ba9e52a52\">\n",
              "    <div class=\"colab-df-container\">\n",
              "      <div>\n",
              "<style scoped>\n",
              "    .dataframe tbody tr th:only-of-type {\n",
              "        vertical-align: middle;\n",
              "    }\n",
              "\n",
              "    .dataframe tbody tr th {\n",
              "        vertical-align: top;\n",
              "    }\n",
              "\n",
              "    .dataframe thead th {\n",
              "        text-align: right;\n",
              "    }\n",
              "</style>\n",
              "<table border=\"1\" class=\"dataframe\">\n",
              "  <thead>\n",
              "    <tr style=\"text-align: right;\">\n",
              "      <th></th>\n",
              "      <th>id</th>\n",
              "      <th>text</th>\n",
              "      <th>target</th>\n",
              "    </tr>\n",
              "  </thead>\n",
              "  <tbody>\n",
              "    <tr>\n",
              "      <th>0</th>\n",
              "      <td>1</td>\n",
              "      <td>Our Deeds are the Reason of this #earthquake M...</td>\n",
              "      <td>1</td>\n",
              "    </tr>\n",
              "    <tr>\n",
              "      <th>1</th>\n",
              "      <td>4</td>\n",
              "      <td>Forest fire near La Ronge Sask. Canada</td>\n",
              "      <td>1</td>\n",
              "    </tr>\n",
              "    <tr>\n",
              "      <th>2</th>\n",
              "      <td>5</td>\n",
              "      <td>All residents asked to 'shelter in place' are ...</td>\n",
              "      <td>1</td>\n",
              "    </tr>\n",
              "    <tr>\n",
              "      <th>3</th>\n",
              "      <td>6</td>\n",
              "      <td>13,000 people receive #wildfires evacuation or...</td>\n",
              "      <td>1</td>\n",
              "    </tr>\n",
              "    <tr>\n",
              "      <th>4</th>\n",
              "      <td>7</td>\n",
              "      <td>Just got sent this photo from Ruby #Alaska as ...</td>\n",
              "      <td>1</td>\n",
              "    </tr>\n",
              "    <tr>\n",
              "      <th>...</th>\n",
              "      <td>...</td>\n",
              "      <td>...</td>\n",
              "      <td>...</td>\n",
              "    </tr>\n",
              "    <tr>\n",
              "      <th>7608</th>\n",
              "      <td>10869</td>\n",
              "      <td>Two giant cranes holding a bridge collapse int...</td>\n",
              "      <td>1</td>\n",
              "    </tr>\n",
              "    <tr>\n",
              "      <th>7609</th>\n",
              "      <td>10870</td>\n",
              "      <td>@aria_ahrary @TheTawniest The out of control w...</td>\n",
              "      <td>1</td>\n",
              "    </tr>\n",
              "    <tr>\n",
              "      <th>7610</th>\n",
              "      <td>10871</td>\n",
              "      <td>M1.94 [01:04 UTC]?5km S of Volcano Hawaii. htt...</td>\n",
              "      <td>1</td>\n",
              "    </tr>\n",
              "    <tr>\n",
              "      <th>7611</th>\n",
              "      <td>10872</td>\n",
              "      <td>Police investigating after an e-bike collided ...</td>\n",
              "      <td>1</td>\n",
              "    </tr>\n",
              "    <tr>\n",
              "      <th>7612</th>\n",
              "      <td>10873</td>\n",
              "      <td>The Latest: More Homes Razed by Northern Calif...</td>\n",
              "      <td>1</td>\n",
              "    </tr>\n",
              "  </tbody>\n",
              "</table>\n",
              "<p>7613 rows × 3 columns</p>\n",
              "</div>\n",
              "      <button class=\"colab-df-convert\" onclick=\"convertToInteractive('df-6fd2497e-9202-432e-9cb2-700ba9e52a52')\"\n",
              "              title=\"Convert this dataframe to an interactive table.\"\n",
              "              style=\"display:none;\">\n",
              "        \n",
              "  <svg xmlns=\"http://www.w3.org/2000/svg\" height=\"24px\"viewBox=\"0 0 24 24\"\n",
              "       width=\"24px\">\n",
              "    <path d=\"M0 0h24v24H0V0z\" fill=\"none\"/>\n",
              "    <path d=\"M18.56 5.44l.94 2.06.94-2.06 2.06-.94-2.06-.94-.94-2.06-.94 2.06-2.06.94zm-11 1L8.5 8.5l.94-2.06 2.06-.94-2.06-.94L8.5 2.5l-.94 2.06-2.06.94zm10 10l.94 2.06.94-2.06 2.06-.94-2.06-.94-.94-2.06-.94 2.06-2.06.94z\"/><path d=\"M17.41 7.96l-1.37-1.37c-.4-.4-.92-.59-1.43-.59-.52 0-1.04.2-1.43.59L10.3 9.45l-7.72 7.72c-.78.78-.78 2.05 0 2.83L4 21.41c.39.39.9.59 1.41.59.51 0 1.02-.2 1.41-.59l7.78-7.78 2.81-2.81c.8-.78.8-2.07 0-2.86zM5.41 20L4 18.59l7.72-7.72 1.47 1.35L5.41 20z\"/>\n",
              "  </svg>\n",
              "      </button>\n",
              "      \n",
              "  <style>\n",
              "    .colab-df-container {\n",
              "      display:flex;\n",
              "      flex-wrap:wrap;\n",
              "      gap: 12px;\n",
              "    }\n",
              "\n",
              "    .colab-df-convert {\n",
              "      background-color: #E8F0FE;\n",
              "      border: none;\n",
              "      border-radius: 50%;\n",
              "      cursor: pointer;\n",
              "      display: none;\n",
              "      fill: #1967D2;\n",
              "      height: 32px;\n",
              "      padding: 0 0 0 0;\n",
              "      width: 32px;\n",
              "    }\n",
              "\n",
              "    .colab-df-convert:hover {\n",
              "      background-color: #E2EBFA;\n",
              "      box-shadow: 0px 1px 2px rgba(60, 64, 67, 0.3), 0px 1px 3px 1px rgba(60, 64, 67, 0.15);\n",
              "      fill: #174EA6;\n",
              "    }\n",
              "\n",
              "    [theme=dark] .colab-df-convert {\n",
              "      background-color: #3B4455;\n",
              "      fill: #D2E3FC;\n",
              "    }\n",
              "\n",
              "    [theme=dark] .colab-df-convert:hover {\n",
              "      background-color: #434B5C;\n",
              "      box-shadow: 0px 1px 3px 1px rgba(0, 0, 0, 0.15);\n",
              "      filter: drop-shadow(0px 1px 2px rgba(0, 0, 0, 0.3));\n",
              "      fill: #FFFFFF;\n",
              "    }\n",
              "  </style>\n",
              "\n",
              "      <script>\n",
              "        const buttonEl =\n",
              "          document.querySelector('#df-6fd2497e-9202-432e-9cb2-700ba9e52a52 button.colab-df-convert');\n",
              "        buttonEl.style.display =\n",
              "          google.colab.kernel.accessAllowed ? 'block' : 'none';\n",
              "\n",
              "        async function convertToInteractive(key) {\n",
              "          const element = document.querySelector('#df-6fd2497e-9202-432e-9cb2-700ba9e52a52');\n",
              "          const dataTable =\n",
              "            await google.colab.kernel.invokeFunction('convertToInteractive',\n",
              "                                                     [key], {});\n",
              "          if (!dataTable) return;\n",
              "\n",
              "          const docLinkHtml = 'Like what you see? Visit the ' +\n",
              "            '<a target=\"_blank\" href=https://colab.research.google.com/notebooks/data_table.ipynb>data table notebook</a>'\n",
              "            + ' to learn more about interactive tables.';\n",
              "          element.innerHTML = '';\n",
              "          dataTable['output_type'] = 'display_data';\n",
              "          await google.colab.output.renderOutput(dataTable, element);\n",
              "          const docLink = document.createElement('div');\n",
              "          docLink.innerHTML = docLinkHtml;\n",
              "          element.appendChild(docLink);\n",
              "        }\n",
              "      </script>\n",
              "    </div>\n",
              "  </div>\n",
              "  "
            ]
          },
          "metadata": {},
          "execution_count": 4
        }
      ]
    },
    {
      "cell_type": "code",
      "source": [
        "df"
      ],
      "metadata": {
        "colab": {
          "base_uri": "https://localhost:8080/",
          "height": 424
        },
        "id": "aEuyC8Cxx9zD",
        "outputId": "10bfc10c-732d-4da5-a32d-54bd15e8ba9a"
      },
      "execution_count": null,
      "outputs": [
        {
          "output_type": "execute_result",
          "data": {
            "text/plain": [
              "                                                   text  target\n",
              "0     Our Deeds are the Reason of this #earthquake M...       1\n",
              "1                Forest fire near La Ronge Sask. Canada       1\n",
              "2     All residents asked to 'shelter in place' are ...       1\n",
              "3     13,000 people receive #wildfires evacuation or...       1\n",
              "4     Just got sent this photo from Ruby #Alaska as ...       1\n",
              "...                                                 ...     ...\n",
              "7608  Two giant cranes holding a bridge collapse int...       1\n",
              "7609  @aria_ahrary @TheTawniest The out of control w...       1\n",
              "7610  M1.94 [01:04 UTC]?5km S of Volcano Hawaii. htt...       1\n",
              "7611  Police investigating after an e-bike collided ...       1\n",
              "7612  The Latest: More Homes Razed by Northern Calif...       1\n",
              "\n",
              "[7613 rows x 2 columns]"
            ],
            "text/html": [
              "\n",
              "  <div id=\"df-8bacff37-3020-4852-8efa-d40112101f71\">\n",
              "    <div class=\"colab-df-container\">\n",
              "      <div>\n",
              "<style scoped>\n",
              "    .dataframe tbody tr th:only-of-type {\n",
              "        vertical-align: middle;\n",
              "    }\n",
              "\n",
              "    .dataframe tbody tr th {\n",
              "        vertical-align: top;\n",
              "    }\n",
              "\n",
              "    .dataframe thead th {\n",
              "        text-align: right;\n",
              "    }\n",
              "</style>\n",
              "<table border=\"1\" class=\"dataframe\">\n",
              "  <thead>\n",
              "    <tr style=\"text-align: right;\">\n",
              "      <th></th>\n",
              "      <th>text</th>\n",
              "      <th>target</th>\n",
              "    </tr>\n",
              "  </thead>\n",
              "  <tbody>\n",
              "    <tr>\n",
              "      <th>0</th>\n",
              "      <td>Our Deeds are the Reason of this #earthquake M...</td>\n",
              "      <td>1</td>\n",
              "    </tr>\n",
              "    <tr>\n",
              "      <th>1</th>\n",
              "      <td>Forest fire near La Ronge Sask. Canada</td>\n",
              "      <td>1</td>\n",
              "    </tr>\n",
              "    <tr>\n",
              "      <th>2</th>\n",
              "      <td>All residents asked to 'shelter in place' are ...</td>\n",
              "      <td>1</td>\n",
              "    </tr>\n",
              "    <tr>\n",
              "      <th>3</th>\n",
              "      <td>13,000 people receive #wildfires evacuation or...</td>\n",
              "      <td>1</td>\n",
              "    </tr>\n",
              "    <tr>\n",
              "      <th>4</th>\n",
              "      <td>Just got sent this photo from Ruby #Alaska as ...</td>\n",
              "      <td>1</td>\n",
              "    </tr>\n",
              "    <tr>\n",
              "      <th>...</th>\n",
              "      <td>...</td>\n",
              "      <td>...</td>\n",
              "    </tr>\n",
              "    <tr>\n",
              "      <th>7608</th>\n",
              "      <td>Two giant cranes holding a bridge collapse int...</td>\n",
              "      <td>1</td>\n",
              "    </tr>\n",
              "    <tr>\n",
              "      <th>7609</th>\n",
              "      <td>@aria_ahrary @TheTawniest The out of control w...</td>\n",
              "      <td>1</td>\n",
              "    </tr>\n",
              "    <tr>\n",
              "      <th>7610</th>\n",
              "      <td>M1.94 [01:04 UTC]?5km S of Volcano Hawaii. htt...</td>\n",
              "      <td>1</td>\n",
              "    </tr>\n",
              "    <tr>\n",
              "      <th>7611</th>\n",
              "      <td>Police investigating after an e-bike collided ...</td>\n",
              "      <td>1</td>\n",
              "    </tr>\n",
              "    <tr>\n",
              "      <th>7612</th>\n",
              "      <td>The Latest: More Homes Razed by Northern Calif...</td>\n",
              "      <td>1</td>\n",
              "    </tr>\n",
              "  </tbody>\n",
              "</table>\n",
              "<p>7613 rows × 2 columns</p>\n",
              "</div>\n",
              "      <button class=\"colab-df-convert\" onclick=\"convertToInteractive('df-8bacff37-3020-4852-8efa-d40112101f71')\"\n",
              "              title=\"Convert this dataframe to an interactive table.\"\n",
              "              style=\"display:none;\">\n",
              "        \n",
              "  <svg xmlns=\"http://www.w3.org/2000/svg\" height=\"24px\"viewBox=\"0 0 24 24\"\n",
              "       width=\"24px\">\n",
              "    <path d=\"M0 0h24v24H0V0z\" fill=\"none\"/>\n",
              "    <path d=\"M18.56 5.44l.94 2.06.94-2.06 2.06-.94-2.06-.94-.94-2.06-.94 2.06-2.06.94zm-11 1L8.5 8.5l.94-2.06 2.06-.94-2.06-.94L8.5 2.5l-.94 2.06-2.06.94zm10 10l.94 2.06.94-2.06 2.06-.94-2.06-.94-.94-2.06-.94 2.06-2.06.94z\"/><path d=\"M17.41 7.96l-1.37-1.37c-.4-.4-.92-.59-1.43-.59-.52 0-1.04.2-1.43.59L10.3 9.45l-7.72 7.72c-.78.78-.78 2.05 0 2.83L4 21.41c.39.39.9.59 1.41.59.51 0 1.02-.2 1.41-.59l7.78-7.78 2.81-2.81c.8-.78.8-2.07 0-2.86zM5.41 20L4 18.59l7.72-7.72 1.47 1.35L5.41 20z\"/>\n",
              "  </svg>\n",
              "      </button>\n",
              "      \n",
              "  <style>\n",
              "    .colab-df-container {\n",
              "      display:flex;\n",
              "      flex-wrap:wrap;\n",
              "      gap: 12px;\n",
              "    }\n",
              "\n",
              "    .colab-df-convert {\n",
              "      background-color: #E8F0FE;\n",
              "      border: none;\n",
              "      border-radius: 50%;\n",
              "      cursor: pointer;\n",
              "      display: none;\n",
              "      fill: #1967D2;\n",
              "      height: 32px;\n",
              "      padding: 0 0 0 0;\n",
              "      width: 32px;\n",
              "    }\n",
              "\n",
              "    .colab-df-convert:hover {\n",
              "      background-color: #E2EBFA;\n",
              "      box-shadow: 0px 1px 2px rgba(60, 64, 67, 0.3), 0px 1px 3px 1px rgba(60, 64, 67, 0.15);\n",
              "      fill: #174EA6;\n",
              "    }\n",
              "\n",
              "    [theme=dark] .colab-df-convert {\n",
              "      background-color: #3B4455;\n",
              "      fill: #D2E3FC;\n",
              "    }\n",
              "\n",
              "    [theme=dark] .colab-df-convert:hover {\n",
              "      background-color: #434B5C;\n",
              "      box-shadow: 0px 1px 3px 1px rgba(0, 0, 0, 0.15);\n",
              "      filter: drop-shadow(0px 1px 2px rgba(0, 0, 0, 0.3));\n",
              "      fill: #FFFFFF;\n",
              "    }\n",
              "  </style>\n",
              "\n",
              "      <script>\n",
              "        const buttonEl =\n",
              "          document.querySelector('#df-8bacff37-3020-4852-8efa-d40112101f71 button.colab-df-convert');\n",
              "        buttonEl.style.display =\n",
              "          google.colab.kernel.accessAllowed ? 'block' : 'none';\n",
              "\n",
              "        async function convertToInteractive(key) {\n",
              "          const element = document.querySelector('#df-8bacff37-3020-4852-8efa-d40112101f71');\n",
              "          const dataTable =\n",
              "            await google.colab.kernel.invokeFunction('convertToInteractive',\n",
              "                                                     [key], {});\n",
              "          if (!dataTable) return;\n",
              "\n",
              "          const docLinkHtml = 'Like what you see? Visit the ' +\n",
              "            '<a target=\"_blank\" href=https://colab.research.google.com/notebooks/data_table.ipynb>data table notebook</a>'\n",
              "            + ' to learn more about interactive tables.';\n",
              "          element.innerHTML = '';\n",
              "          dataTable['output_type'] = 'display_data';\n",
              "          await google.colab.output.renderOutput(dataTable, element);\n",
              "          const docLink = document.createElement('div');\n",
              "          docLink.innerHTML = docLinkHtml;\n",
              "          element.appendChild(docLink);\n",
              "        }\n",
              "      </script>\n",
              "    </div>\n",
              "  </div>\n",
              "  "
            ]
          },
          "metadata": {},
          "execution_count": 5
        }
      ]
    },
    {
      "cell_type": "markdown",
      "source": [
        "PREPROCESSING"
      ],
      "metadata": {
        "id": "nRe9fMh-ZvwV"
      }
    },
    {
      "cell_type": "code",
      "source": [
        "nltk.download('stopwords')"
      ],
      "metadata": {
        "colab": {
          "base_uri": "https://localhost:8080/"
        },
        "id": "iHmknI2riNa7",
        "outputId": "f38d2521-0bc0-4ac0-89f3-810e930f9174"
      },
      "execution_count": null,
      "outputs": [
        {
          "output_type": "stream",
          "name": "stderr",
          "text": [
            "[nltk_data] Downloading package stopwords to /root/nltk_data...\n",
            "[nltk_data]   Package stopwords is already up-to-date!\n"
          ]
        },
        {
          "output_type": "execute_result",
          "data": {
            "text/plain": [
              "True"
            ]
          },
          "metadata": {},
          "execution_count": 6
        }
      ]
    },
    {
      "cell_type": "code",
      "source": [
        "stop_words = set(stopwords.words(\"english\"))"
      ],
      "metadata": {
        "id": "eKeisS01iN7U"
      },
      "execution_count": null,
      "outputs": []
    },
    {
      "cell_type": "code",
      "source": [
        "import nltk\n",
        "nltk.download('wordnet')\n",
        "\n",
        "\n",
        "lemmatizer = WordNetLemmatizer()\n",
        "\n",
        "# def Standardization(text):\n",
        "#   text = text.lower()\n",
        "#   text = re.sub(r'@\\w+', '', text)\n",
        "#   text = re.sub(r'http:\\S+', '', text)\n",
        "#   text = re.sub(r'[^\\w\\s]', '', text)\n",
        "#   text = [w for w in text.split() if w not in stop_words]\n",
        "#   return \" \".join(text)\n",
        "\n",
        "def removeStopWords(text):\n",
        "    \"\"\"\n",
        "    Filter words that are not found in stop words\n",
        "    \"\"\"\n",
        "    return \" \".join([word for word in text.split() if word not in stopwords.words(\"english\")])\n",
        "\n",
        "\n",
        "def removePunctuation(text):\n",
        "    \"\"\"\n",
        "    Remove punctuation symbols and convert text to lowercase\n",
        "    \"\"\"\n",
        "    return text.lower().translate(str.maketrans('', '', string.punctuation))\n",
        "\n",
        "def calculateMaxSeqLen(texts):\n",
        "    \"\"\"\n",
        "    Calculates the maximum sequence length found in the corpus\n",
        "    \"\"\"\n",
        "    max_len = float('-inf')\n",
        "    for text in texts:\n",
        "        if len(text.split()) > max_len:\n",
        "            max_len = len(text.split())\n",
        "            \n",
        "    return max_len\n",
        "\n",
        "def lemmatize(text):\n",
        "    \"\"\"\n",
        "    Filter words that are not found in stop words\n",
        "    \"\"\"\n",
        "    return \" \".join([lemmatizer.lemmatize(word) for word in text.split()])\n",
        "\n",
        "def remove_certain_numbers(text):\n",
        "    return text.replace('20', ' ')\n",
        "\n",
        "\n",
        "\n",
        "#df1[\"text\"] = df1.loc[:,\"text\"]\n",
        "# Target Selection\n",
        "y = df.loc[:,\"target\"]\n",
        "\n",
        "#X1_test = df_test.loc[:,\"text\"]\n",
        "\n",
        "\n",
        "df1[\"text\"] = df1[\"text\"].apply(removeStopWords)\n",
        "df1[\"text\"] = df1[\"text\"].apply(removePunctuation)\n",
        "df1[\"text\"] = df1[\"text\"].apply(remove_certain_numbers)\n",
        "df1[\"text\"] = df1[\"text\"].apply(lemmatize)\n",
        "\n",
        "\n",
        "# X1_test = X1_test.apply(removeStopWords)\n",
        "# X1_test = X1_test.apply(removePunctuation)\n",
        "# X1_test = X1_test.apply(remove_certain_numbers)\n",
        "# X1_test = X1_test.apply(lemmatize)\n",
        "\n",
        "\n"
      ],
      "metadata": {
        "colab": {
          "base_uri": "https://localhost:8080/"
        },
        "id": "AUH4rhM0iQUj",
        "outputId": "48856f4d-3f50-4dd6-d075-bb25682df4ea"
      },
      "execution_count": null,
      "outputs": [
        {
          "output_type": "stream",
          "name": "stderr",
          "text": [
            "[nltk_data] Downloading package wordnet to /root/nltk_data...\n"
          ]
        }
      ]
    },
    {
      "cell_type": "code",
      "source": [
        "df1.head()"
      ],
      "metadata": {
        "colab": {
          "base_uri": "https://localhost:8080/",
          "height": 206
        },
        "id": "lNcr09j4f08X",
        "outputId": "33935350-3841-4e30-c68d-a36e35b8b92e"
      },
      "execution_count": null,
      "outputs": [
        {
          "output_type": "execute_result",
          "data": {
            "text/plain": [
              "   id                                               text  target\n",
              "0   1     our deed reason earthquake may allah forgive u       1\n",
              "1   4              forest fire near la ronge sask canada       1\n",
              "2   5  all resident asked shelter place notified offi...       1\n",
              "3   6  13000 people receive wildfire evacuation order...       1\n",
              "4   7  just got sent photo ruby alaska smoke wildfire...       1"
            ],
            "text/html": [
              "\n",
              "  <div id=\"df-2796cef0-adc1-4dda-94ec-ff55ea6642ed\">\n",
              "    <div class=\"colab-df-container\">\n",
              "      <div>\n",
              "<style scoped>\n",
              "    .dataframe tbody tr th:only-of-type {\n",
              "        vertical-align: middle;\n",
              "    }\n",
              "\n",
              "    .dataframe tbody tr th {\n",
              "        vertical-align: top;\n",
              "    }\n",
              "\n",
              "    .dataframe thead th {\n",
              "        text-align: right;\n",
              "    }\n",
              "</style>\n",
              "<table border=\"1\" class=\"dataframe\">\n",
              "  <thead>\n",
              "    <tr style=\"text-align: right;\">\n",
              "      <th></th>\n",
              "      <th>id</th>\n",
              "      <th>text</th>\n",
              "      <th>target</th>\n",
              "    </tr>\n",
              "  </thead>\n",
              "  <tbody>\n",
              "    <tr>\n",
              "      <th>0</th>\n",
              "      <td>1</td>\n",
              "      <td>our deed reason earthquake may allah forgive u</td>\n",
              "      <td>1</td>\n",
              "    </tr>\n",
              "    <tr>\n",
              "      <th>1</th>\n",
              "      <td>4</td>\n",
              "      <td>forest fire near la ronge sask canada</td>\n",
              "      <td>1</td>\n",
              "    </tr>\n",
              "    <tr>\n",
              "      <th>2</th>\n",
              "      <td>5</td>\n",
              "      <td>all resident asked shelter place notified offi...</td>\n",
              "      <td>1</td>\n",
              "    </tr>\n",
              "    <tr>\n",
              "      <th>3</th>\n",
              "      <td>6</td>\n",
              "      <td>13000 people receive wildfire evacuation order...</td>\n",
              "      <td>1</td>\n",
              "    </tr>\n",
              "    <tr>\n",
              "      <th>4</th>\n",
              "      <td>7</td>\n",
              "      <td>just got sent photo ruby alaska smoke wildfire...</td>\n",
              "      <td>1</td>\n",
              "    </tr>\n",
              "  </tbody>\n",
              "</table>\n",
              "</div>\n",
              "      <button class=\"colab-df-convert\" onclick=\"convertToInteractive('df-2796cef0-adc1-4dda-94ec-ff55ea6642ed')\"\n",
              "              title=\"Convert this dataframe to an interactive table.\"\n",
              "              style=\"display:none;\">\n",
              "        \n",
              "  <svg xmlns=\"http://www.w3.org/2000/svg\" height=\"24px\"viewBox=\"0 0 24 24\"\n",
              "       width=\"24px\">\n",
              "    <path d=\"M0 0h24v24H0V0z\" fill=\"none\"/>\n",
              "    <path d=\"M18.56 5.44l.94 2.06.94-2.06 2.06-.94-2.06-.94-.94-2.06-.94 2.06-2.06.94zm-11 1L8.5 8.5l.94-2.06 2.06-.94-2.06-.94L8.5 2.5l-.94 2.06-2.06.94zm10 10l.94 2.06.94-2.06 2.06-.94-2.06-.94-.94-2.06-.94 2.06-2.06.94z\"/><path d=\"M17.41 7.96l-1.37-1.37c-.4-.4-.92-.59-1.43-.59-.52 0-1.04.2-1.43.59L10.3 9.45l-7.72 7.72c-.78.78-.78 2.05 0 2.83L4 21.41c.39.39.9.59 1.41.59.51 0 1.02-.2 1.41-.59l7.78-7.78 2.81-2.81c.8-.78.8-2.07 0-2.86zM5.41 20L4 18.59l7.72-7.72 1.47 1.35L5.41 20z\"/>\n",
              "  </svg>\n",
              "      </button>\n",
              "      \n",
              "  <style>\n",
              "    .colab-df-container {\n",
              "      display:flex;\n",
              "      flex-wrap:wrap;\n",
              "      gap: 12px;\n",
              "    }\n",
              "\n",
              "    .colab-df-convert {\n",
              "      background-color: #E8F0FE;\n",
              "      border: none;\n",
              "      border-radius: 50%;\n",
              "      cursor: pointer;\n",
              "      display: none;\n",
              "      fill: #1967D2;\n",
              "      height: 32px;\n",
              "      padding: 0 0 0 0;\n",
              "      width: 32px;\n",
              "    }\n",
              "\n",
              "    .colab-df-convert:hover {\n",
              "      background-color: #E2EBFA;\n",
              "      box-shadow: 0px 1px 2px rgba(60, 64, 67, 0.3), 0px 1px 3px 1px rgba(60, 64, 67, 0.15);\n",
              "      fill: #174EA6;\n",
              "    }\n",
              "\n",
              "    [theme=dark] .colab-df-convert {\n",
              "      background-color: #3B4455;\n",
              "      fill: #D2E3FC;\n",
              "    }\n",
              "\n",
              "    [theme=dark] .colab-df-convert:hover {\n",
              "      background-color: #434B5C;\n",
              "      box-shadow: 0px 1px 3px 1px rgba(0, 0, 0, 0.15);\n",
              "      filter: drop-shadow(0px 1px 2px rgba(0, 0, 0, 0.3));\n",
              "      fill: #FFFFFF;\n",
              "    }\n",
              "  </style>\n",
              "\n",
              "      <script>\n",
              "        const buttonEl =\n",
              "          document.querySelector('#df-2796cef0-adc1-4dda-94ec-ff55ea6642ed button.colab-df-convert');\n",
              "        buttonEl.style.display =\n",
              "          google.colab.kernel.accessAllowed ? 'block' : 'none';\n",
              "\n",
              "        async function convertToInteractive(key) {\n",
              "          const element = document.querySelector('#df-2796cef0-adc1-4dda-94ec-ff55ea6642ed');\n",
              "          const dataTable =\n",
              "            await google.colab.kernel.invokeFunction('convertToInteractive',\n",
              "                                                     [key], {});\n",
              "          if (!dataTable) return;\n",
              "\n",
              "          const docLinkHtml = 'Like what you see? Visit the ' +\n",
              "            '<a target=\"_blank\" href=https://colab.research.google.com/notebooks/data_table.ipynb>data table notebook</a>'\n",
              "            + ' to learn more about interactive tables.';\n",
              "          element.innerHTML = '';\n",
              "          dataTable['output_type'] = 'display_data';\n",
              "          await google.colab.output.renderOutput(dataTable, element);\n",
              "          const docLink = document.createElement('div');\n",
              "          docLink.innerHTML = docLinkHtml;\n",
              "          element.appendChild(docLink);\n",
              "        }\n",
              "      </script>\n",
              "    </div>\n",
              "  </div>\n",
              "  "
            ]
          },
          "metadata": {},
          "execution_count": 9
        }
      ]
    },
    {
      "cell_type": "markdown",
      "source": [
        "INSTALL NLPAUG WHICH IS USED FOR AUGMENTATION"
      ],
      "metadata": {
        "id": "EXr1-zixZ3hR"
      }
    },
    {
      "cell_type": "code",
      "source": [
        "! pip install nlpaug"
      ],
      "metadata": {
        "colab": {
          "base_uri": "https://localhost:8080/"
        },
        "id": "bcQi2XJhiSgb",
        "outputId": "e8836861-f216-4cfb-fda5-6a7fd3619123"
      },
      "execution_count": null,
      "outputs": [
        {
          "output_type": "stream",
          "name": "stdout",
          "text": [
            "Looking in indexes: https://pypi.org/simple, https://us-python.pkg.dev/colab-wheels/public/simple/\n",
            "Collecting nlpaug\n",
            "  Downloading nlpaug-1.1.11-py3-none-any.whl (410 kB)\n",
            "\u001b[K     |████████████████████████████████| 410 kB 14.9 MB/s \n",
            "\u001b[?25hRequirement already satisfied: pandas>=1.2.0 in /usr/local/lib/python3.8/dist-packages (from nlpaug) (1.3.5)\n",
            "Requirement already satisfied: gdown>=4.0.0 in /usr/local/lib/python3.8/dist-packages (from nlpaug) (4.4.0)\n",
            "Requirement already satisfied: numpy>=1.16.2 in /usr/local/lib/python3.8/dist-packages (from nlpaug) (1.21.6)\n",
            "Requirement already satisfied: requests>=2.22.0 in /usr/local/lib/python3.8/dist-packages (from nlpaug) (2.23.0)\n",
            "Requirement already satisfied: filelock in /usr/local/lib/python3.8/dist-packages (from gdown>=4.0.0->nlpaug) (3.8.0)\n",
            "Requirement already satisfied: six in /usr/local/lib/python3.8/dist-packages (from gdown>=4.0.0->nlpaug) (1.15.0)\n",
            "Requirement already satisfied: tqdm in /usr/local/lib/python3.8/dist-packages (from gdown>=4.0.0->nlpaug) (4.64.1)\n",
            "Requirement already satisfied: beautifulsoup4 in /usr/local/lib/python3.8/dist-packages (from gdown>=4.0.0->nlpaug) (4.6.3)\n",
            "Requirement already satisfied: pytz>=2017.3 in /usr/local/lib/python3.8/dist-packages (from pandas>=1.2.0->nlpaug) (2022.6)\n",
            "Requirement already satisfied: python-dateutil>=2.7.3 in /usr/local/lib/python3.8/dist-packages (from pandas>=1.2.0->nlpaug) (2.8.2)\n",
            "Requirement already satisfied: urllib3!=1.25.0,!=1.25.1,<1.26,>=1.21.1 in /usr/local/lib/python3.8/dist-packages (from requests>=2.22.0->nlpaug) (1.24.3)\n",
            "Requirement already satisfied: certifi>=2017.4.17 in /usr/local/lib/python3.8/dist-packages (from requests>=2.22.0->nlpaug) (2022.9.24)\n",
            "Requirement already satisfied: idna<3,>=2.5 in /usr/local/lib/python3.8/dist-packages (from requests>=2.22.0->nlpaug) (2.10)\n",
            "Requirement already satisfied: chardet<4,>=3.0.2 in /usr/local/lib/python3.8/dist-packages (from requests>=2.22.0->nlpaug) (3.0.4)\n",
            "Requirement already satisfied: PySocks!=1.5.7,>=1.5.6 in /usr/local/lib/python3.8/dist-packages (from requests>=2.22.0->nlpaug) (1.7.1)\n",
            "Installing collected packages: nlpaug\n",
            "Successfully installed nlpaug-1.1.11\n"
          ]
        }
      ]
    },
    {
      "cell_type": "code",
      "source": [
        "import nlpaug.augmenter.word as naw\n"
      ],
      "metadata": {
        "id": "E3j2kzyFk0Ku"
      },
      "execution_count": null,
      "outputs": []
    },
    {
      "cell_type": "markdown",
      "source": [
        "INSTALL TRANSFORMERS"
      ],
      "metadata": {
        "id": "YcRcS-JhaG8e"
      }
    },
    {
      "cell_type": "code",
      "source": [
        "pip install transformers"
      ],
      "metadata": {
        "colab": {
          "base_uri": "https://localhost:8080/"
        },
        "id": "wU-Sm9M-mIFE",
        "outputId": "c15df9b7-185b-4b59-c1f2-3e165ba1dafb"
      },
      "execution_count": null,
      "outputs": [
        {
          "output_type": "stream",
          "name": "stdout",
          "text": [
            "Looking in indexes: https://pypi.org/simple, https://us-python.pkg.dev/colab-wheels/public/simple/\n",
            "Collecting transformers\n",
            "  Downloading transformers-4.25.1-py3-none-any.whl (5.8 MB)\n",
            "\u001b[K     |████████████████████████████████| 5.8 MB 14.2 MB/s \n",
            "\u001b[?25hRequirement already satisfied: tqdm>=4.27 in /usr/local/lib/python3.8/dist-packages (from transformers) (4.64.1)\n",
            "Requirement already satisfied: numpy>=1.17 in /usr/local/lib/python3.8/dist-packages (from transformers) (1.21.6)\n",
            "Collecting huggingface-hub<1.0,>=0.10.0\n",
            "  Downloading huggingface_hub-0.11.1-py3-none-any.whl (182 kB)\n",
            "\u001b[K     |████████████████████████████████| 182 kB 56.6 MB/s \n",
            "\u001b[?25hRequirement already satisfied: regex!=2019.12.17 in /usr/local/lib/python3.8/dist-packages (from transformers) (2022.6.2)\n",
            "Collecting tokenizers!=0.11.3,<0.14,>=0.11.1\n",
            "  Downloading tokenizers-0.13.2-cp38-cp38-manylinux_2_17_x86_64.manylinux2014_x86_64.whl (7.6 MB)\n",
            "\u001b[K     |████████████████████████████████| 7.6 MB 52.9 MB/s \n",
            "\u001b[?25hRequirement already satisfied: requests in /usr/local/lib/python3.8/dist-packages (from transformers) (2.23.0)\n",
            "Requirement already satisfied: filelock in /usr/local/lib/python3.8/dist-packages (from transformers) (3.8.0)\n",
            "Requirement already satisfied: pyyaml>=5.1 in /usr/local/lib/python3.8/dist-packages (from transformers) (6.0)\n",
            "Requirement already satisfied: packaging>=20.0 in /usr/local/lib/python3.8/dist-packages (from transformers) (21.3)\n",
            "Requirement already satisfied: typing-extensions>=3.7.4.3 in /usr/local/lib/python3.8/dist-packages (from huggingface-hub<1.0,>=0.10.0->transformers) (4.1.1)\n",
            "Requirement already satisfied: pyparsing!=3.0.5,>=2.0.2 in /usr/local/lib/python3.8/dist-packages (from packaging>=20.0->transformers) (3.0.9)\n",
            "Requirement already satisfied: certifi>=2017.4.17 in /usr/local/lib/python3.8/dist-packages (from requests->transformers) (2022.9.24)\n",
            "Requirement already satisfied: urllib3!=1.25.0,!=1.25.1,<1.26,>=1.21.1 in /usr/local/lib/python3.8/dist-packages (from requests->transformers) (1.24.3)\n",
            "Requirement already satisfied: chardet<4,>=3.0.2 in /usr/local/lib/python3.8/dist-packages (from requests->transformers) (3.0.4)\n",
            "Requirement already satisfied: idna<3,>=2.5 in /usr/local/lib/python3.8/dist-packages (from requests->transformers) (2.10)\n",
            "Installing collected packages: tokenizers, huggingface-hub, transformers\n",
            "Successfully installed huggingface-hub-0.11.1 tokenizers-0.13.2 transformers-4.25.1\n"
          ]
        }
      ]
    },
    {
      "cell_type": "code",
      "source": [
        "# aug = naw.ContextualWordEmbsAug(\n",
        "#     model_path='bert-base-uncased', action=\"insert\")\n",
        "# augmented_text = aug.augment(\"The quick brown fox jumps over the lazy dog\")"
      ],
      "metadata": {
        "id": "UcXPl3RwjPfR"
      },
      "execution_count": null,
      "outputs": []
    },
    {
      "cell_type": "code",
      "source": [
        "# augmented_text"
      ],
      "metadata": {
        "id": "GbJ5Eo8WlHhT"
      },
      "execution_count": null,
      "outputs": []
    },
    {
      "cell_type": "code",
      "source": [
        "aug = naw.SynonymAug(aug_src='wordnet', model_path='/content/gdrive/MyDrive/MachineLearning/disaster_tweets/glove.6B.100d.txt', name='Synonym_Aug', aug_min=1, aug_max=10, aug_p=0.3, lang='eng', \n",
        "                     stopwords=None, tokenizer=None, reverse_tokenizer=None, stopwords_regex=None, force_reload=False, \n",
        "                     verbose=0)\n",
        " \n",
        "test_sentence_aug = aug.augment(\"All residents asked to 'shelter in place' are being notified by officers. No other evacuation or shelter in place orders are expected\")\n",
        "print(test_sentence_aug)"
      ],
      "metadata": {
        "colab": {
          "base_uri": "https://localhost:8080/"
        },
        "id": "EIfFc_MQmc33",
        "outputId": "94755a6b-8457-4673-c475-84274aa1b9fb"
      },
      "execution_count": null,
      "outputs": [
        {
          "output_type": "stream",
          "name": "stderr",
          "text": [
            "[nltk_data] Downloading package averaged_perceptron_tagger to\n",
            "[nltk_data]     /root/nltk_data...\n",
            "[nltk_data]   Unzipping taggers/averaged_perceptron_tagger.zip.\n"
          ]
        },
        {
          "output_type": "stream",
          "name": "stdout",
          "text": [
            "[\"All resident ask to ' tax shelter in station ' embody comprise notified by ship's officer. No other evacuation or shelter in home orders are expected\"]\n"
          ]
        }
      ]
    },
    {
      "cell_type": "code",
      "source": [
        "import tqdm\n",
        "#import shuffle\n",
        "import random"
      ],
      "metadata": {
        "id": "IeXi-rQ_Y9QC"
      },
      "execution_count": null,
      "outputs": []
    },
    {
      "cell_type": "code",
      "source": [],
      "metadata": {
        "id": "CiJWabXqt3Hh"
      },
      "execution_count": null,
      "outputs": []
    },
    {
      "cell_type": "code",
      "source": [
        "# X_train, X_test, y_train, y_test = train_test_split(\n",
        "#     X, y,\n",
        "#     test_size=0.2,\n",
        "#     stratify=y,\n",
        "#     random_state=5\n",
        "# )"
      ],
      "metadata": {
        "id": "eroNgRzkoQP3"
      },
      "execution_count": null,
      "outputs": []
    },
    {
      "cell_type": "markdown",
      "source": [
        "CODE FOR DOING AUGMENTATION"
      ],
      "metadata": {
        "id": "C8Zz1PHJaWNo"
      }
    },
    {
      "cell_type": "code",
      "source": [
        "\n",
        "\n",
        "\n",
        "def augment_text1(df , samples = 4000 ):\n",
        "    \n",
        "    new_text=[]\n",
        "    new_label = []\n",
        "    new_id = []\n",
        "\n",
        "    ##selecting the minority class samples\n",
        "    \n",
        "\n",
        "    ## data augmentation loop\n",
        "    for i in (np.random.randint(0, 7613 , samples )):\n",
        "\n",
        "            text = df.iloc[i]['text']\n",
        "            label = df.iloc[i]['target']\n",
        "            id =  df.iloc[i]['id']\n",
        "            augmented_text = aug.augment(text)\n",
        "            new_text += augmented_text\n",
        "            new_label.append(label)\n",
        "            new_id.append(id)\n",
        "    ## dataframe\n",
        "    new=pd.DataFrame({'text':new_text,'target':new_label, \"id\":new_id})\n",
        "    #df=shuffle(df.append(new).reset_index(drop=True))\n",
        "    return new\n",
        "\n",
        "train = augment_text1(df1)"
      ],
      "metadata": {
        "id": "tqSl0hgdsk2i"
      },
      "execution_count": null,
      "outputs": []
    },
    {
      "cell_type": "code",
      "source": [
        "len(df1)"
      ],
      "metadata": {
        "colab": {
          "base_uri": "https://localhost:8080/"
        },
        "id": "JKLqTVZ4a5we",
        "outputId": "15d2932f-7231-4c3f-9469-117892cd5104"
      },
      "execution_count": null,
      "outputs": [
        {
          "output_type": "execute_result",
          "data": {
            "text/plain": [
              "7613"
            ]
          },
          "metadata": {},
          "execution_count": 19
        }
      ]
    },
    {
      "cell_type": "code",
      "source": [
        "df1"
      ],
      "metadata": {
        "colab": {
          "base_uri": "https://localhost:8080/",
          "height": 424
        },
        "id": "hRERJ0lStkou",
        "outputId": "74adf82e-fa85-48f4-e0d7-d31591f06e54"
      },
      "execution_count": null,
      "outputs": [
        {
          "output_type": "execute_result",
          "data": {
            "text/plain": [
              "         id                                               text  target\n",
              "0         1     our deed reason earthquake may allah forgive u       1\n",
              "1         4              forest fire near la ronge sask canada       1\n",
              "2         5  all resident asked shelter place notified offi...       1\n",
              "3         6  13000 people receive wildfire evacuation order...       1\n",
              "4         7  just got sent photo ruby alaska smoke wildfire...       1\n",
              "...     ...                                                ...     ...\n",
              "7608  10869  two giant crane holding bridge collapse nearby...       1\n",
              "7609  10870  ariaahrary thetawniest the control wild fire c...       1\n",
              "7610  10871  m194 0104 utc5km s volcano hawaii httptcozdtoy...       1\n",
              "7611  10872  police investigating ebike collided car little...       1\n",
              "7612  10873  the latest more home razed northern california...       1\n",
              "\n",
              "[7613 rows x 3 columns]"
            ],
            "text/html": [
              "\n",
              "  <div id=\"df-3dfde59d-79f1-40b1-b397-7edb7cfb5735\">\n",
              "    <div class=\"colab-df-container\">\n",
              "      <div>\n",
              "<style scoped>\n",
              "    .dataframe tbody tr th:only-of-type {\n",
              "        vertical-align: middle;\n",
              "    }\n",
              "\n",
              "    .dataframe tbody tr th {\n",
              "        vertical-align: top;\n",
              "    }\n",
              "\n",
              "    .dataframe thead th {\n",
              "        text-align: right;\n",
              "    }\n",
              "</style>\n",
              "<table border=\"1\" class=\"dataframe\">\n",
              "  <thead>\n",
              "    <tr style=\"text-align: right;\">\n",
              "      <th></th>\n",
              "      <th>id</th>\n",
              "      <th>text</th>\n",
              "      <th>target</th>\n",
              "    </tr>\n",
              "  </thead>\n",
              "  <tbody>\n",
              "    <tr>\n",
              "      <th>0</th>\n",
              "      <td>1</td>\n",
              "      <td>our deed reason earthquake may allah forgive u</td>\n",
              "      <td>1</td>\n",
              "    </tr>\n",
              "    <tr>\n",
              "      <th>1</th>\n",
              "      <td>4</td>\n",
              "      <td>forest fire near la ronge sask canada</td>\n",
              "      <td>1</td>\n",
              "    </tr>\n",
              "    <tr>\n",
              "      <th>2</th>\n",
              "      <td>5</td>\n",
              "      <td>all resident asked shelter place notified offi...</td>\n",
              "      <td>1</td>\n",
              "    </tr>\n",
              "    <tr>\n",
              "      <th>3</th>\n",
              "      <td>6</td>\n",
              "      <td>13000 people receive wildfire evacuation order...</td>\n",
              "      <td>1</td>\n",
              "    </tr>\n",
              "    <tr>\n",
              "      <th>4</th>\n",
              "      <td>7</td>\n",
              "      <td>just got sent photo ruby alaska smoke wildfire...</td>\n",
              "      <td>1</td>\n",
              "    </tr>\n",
              "    <tr>\n",
              "      <th>...</th>\n",
              "      <td>...</td>\n",
              "      <td>...</td>\n",
              "      <td>...</td>\n",
              "    </tr>\n",
              "    <tr>\n",
              "      <th>7608</th>\n",
              "      <td>10869</td>\n",
              "      <td>two giant crane holding bridge collapse nearby...</td>\n",
              "      <td>1</td>\n",
              "    </tr>\n",
              "    <tr>\n",
              "      <th>7609</th>\n",
              "      <td>10870</td>\n",
              "      <td>ariaahrary thetawniest the control wild fire c...</td>\n",
              "      <td>1</td>\n",
              "    </tr>\n",
              "    <tr>\n",
              "      <th>7610</th>\n",
              "      <td>10871</td>\n",
              "      <td>m194 0104 utc5km s volcano hawaii httptcozdtoy...</td>\n",
              "      <td>1</td>\n",
              "    </tr>\n",
              "    <tr>\n",
              "      <th>7611</th>\n",
              "      <td>10872</td>\n",
              "      <td>police investigating ebike collided car little...</td>\n",
              "      <td>1</td>\n",
              "    </tr>\n",
              "    <tr>\n",
              "      <th>7612</th>\n",
              "      <td>10873</td>\n",
              "      <td>the latest more home razed northern california...</td>\n",
              "      <td>1</td>\n",
              "    </tr>\n",
              "  </tbody>\n",
              "</table>\n",
              "<p>7613 rows × 3 columns</p>\n",
              "</div>\n",
              "      <button class=\"colab-df-convert\" onclick=\"convertToInteractive('df-3dfde59d-79f1-40b1-b397-7edb7cfb5735')\"\n",
              "              title=\"Convert this dataframe to an interactive table.\"\n",
              "              style=\"display:none;\">\n",
              "        \n",
              "  <svg xmlns=\"http://www.w3.org/2000/svg\" height=\"24px\"viewBox=\"0 0 24 24\"\n",
              "       width=\"24px\">\n",
              "    <path d=\"M0 0h24v24H0V0z\" fill=\"none\"/>\n",
              "    <path d=\"M18.56 5.44l.94 2.06.94-2.06 2.06-.94-2.06-.94-.94-2.06-.94 2.06-2.06.94zm-11 1L8.5 8.5l.94-2.06 2.06-.94-2.06-.94L8.5 2.5l-.94 2.06-2.06.94zm10 10l.94 2.06.94-2.06 2.06-.94-2.06-.94-.94-2.06-.94 2.06-2.06.94z\"/><path d=\"M17.41 7.96l-1.37-1.37c-.4-.4-.92-.59-1.43-.59-.52 0-1.04.2-1.43.59L10.3 9.45l-7.72 7.72c-.78.78-.78 2.05 0 2.83L4 21.41c.39.39.9.59 1.41.59.51 0 1.02-.2 1.41-.59l7.78-7.78 2.81-2.81c.8-.78.8-2.07 0-2.86zM5.41 20L4 18.59l7.72-7.72 1.47 1.35L5.41 20z\"/>\n",
              "  </svg>\n",
              "      </button>\n",
              "      \n",
              "  <style>\n",
              "    .colab-df-container {\n",
              "      display:flex;\n",
              "      flex-wrap:wrap;\n",
              "      gap: 12px;\n",
              "    }\n",
              "\n",
              "    .colab-df-convert {\n",
              "      background-color: #E8F0FE;\n",
              "      border: none;\n",
              "      border-radius: 50%;\n",
              "      cursor: pointer;\n",
              "      display: none;\n",
              "      fill: #1967D2;\n",
              "      height: 32px;\n",
              "      padding: 0 0 0 0;\n",
              "      width: 32px;\n",
              "    }\n",
              "\n",
              "    .colab-df-convert:hover {\n",
              "      background-color: #E2EBFA;\n",
              "      box-shadow: 0px 1px 2px rgba(60, 64, 67, 0.3), 0px 1px 3px 1px rgba(60, 64, 67, 0.15);\n",
              "      fill: #174EA6;\n",
              "    }\n",
              "\n",
              "    [theme=dark] .colab-df-convert {\n",
              "      background-color: #3B4455;\n",
              "      fill: #D2E3FC;\n",
              "    }\n",
              "\n",
              "    [theme=dark] .colab-df-convert:hover {\n",
              "      background-color: #434B5C;\n",
              "      box-shadow: 0px 1px 3px 1px rgba(0, 0, 0, 0.15);\n",
              "      filter: drop-shadow(0px 1px 2px rgba(0, 0, 0, 0.3));\n",
              "      fill: #FFFFFF;\n",
              "    }\n",
              "  </style>\n",
              "\n",
              "      <script>\n",
              "        const buttonEl =\n",
              "          document.querySelector('#df-3dfde59d-79f1-40b1-b397-7edb7cfb5735 button.colab-df-convert');\n",
              "        buttonEl.style.display =\n",
              "          google.colab.kernel.accessAllowed ? 'block' : 'none';\n",
              "\n",
              "        async function convertToInteractive(key) {\n",
              "          const element = document.querySelector('#df-3dfde59d-79f1-40b1-b397-7edb7cfb5735');\n",
              "          const dataTable =\n",
              "            await google.colab.kernel.invokeFunction('convertToInteractive',\n",
              "                                                     [key], {});\n",
              "          if (!dataTable) return;\n",
              "\n",
              "          const docLinkHtml = 'Like what you see? Visit the ' +\n",
              "            '<a target=\"_blank\" href=https://colab.research.google.com/notebooks/data_table.ipynb>data table notebook</a>'\n",
              "            + ' to learn more about interactive tables.';\n",
              "          element.innerHTML = '';\n",
              "          dataTable['output_type'] = 'display_data';\n",
              "          await google.colab.output.renderOutput(dataTable, element);\n",
              "          const docLink = document.createElement('div');\n",
              "          docLink.innerHTML = docLinkHtml;\n",
              "          element.appendChild(docLink);\n",
              "        }\n",
              "      </script>\n",
              "    </div>\n",
              "  </div>\n",
              "  "
            ]
          },
          "metadata": {},
          "execution_count": 20
        }
      ]
    },
    {
      "cell_type": "code",
      "source": [
        "train[\"target\"].value_counts()"
      ],
      "metadata": {
        "colab": {
          "base_uri": "https://localhost:8080/"
        },
        "id": "q-jyLPUemuNY",
        "outputId": "f0053c80-6b43-4735-f3f7-0facc9fda4b1"
      },
      "execution_count": null,
      "outputs": [
        {
          "output_type": "execute_result",
          "data": {
            "text/plain": [
              "0    2299\n",
              "1    1701\n",
              "Name: target, dtype: int64"
            ]
          },
          "metadata": {},
          "execution_count": 21
        }
      ]
    },
    {
      "cell_type": "markdown",
      "source": [
        "AUGMENTED DATA"
      ],
      "metadata": {
        "id": "b2AuBR5zaaty"
      }
    },
    {
      "cell_type": "code",
      "source": [
        "train"
      ],
      "metadata": {
        "colab": {
          "base_uri": "https://localhost:8080/",
          "height": 424
        },
        "id": "0_HlRjrgnSQs",
        "outputId": "b13f2292-3b9d-4ca6-afa6-1fa42ac2a0c9"
      },
      "execution_count": null,
      "outputs": [
        {
          "output_type": "execute_result",
          "data": {
            "text/plain": [
              "                                                   text  target     id\n",
              "0     gop disputation tonight jon stewart next week ...       0   7360\n",
              "1                             11 puncture combat injury       0  10659\n",
              "2     i90 vantage backup eastbound dispirited visibi...       1   4320\n",
              "3     clev me you clev indeed do have intercourse ha...       0   4199\n",
              "4     the stephen ave flower pot become piddling rip...       1   5876\n",
              "...                                                 ...     ...    ...\n",
              "3995           threw chicken nugget sister lip bleeding       0   1031\n",
              "3996  health fact 75 sinew mass piddle fluid drink h...       0   6523\n",
              "3997  retweet cameroun repatriating ane 00 nigerian ...       1   8016\n",
              "3998  insurance texas assay scuttlebutt rule change ...       1  10552\n",
              "3999  mp gearing derailment village youth saved many...       1   3519\n",
              "\n",
              "[4000 rows x 3 columns]"
            ],
            "text/html": [
              "\n",
              "  <div id=\"df-d8de2ead-b323-47f4-b9a9-21fa5774d7e5\">\n",
              "    <div class=\"colab-df-container\">\n",
              "      <div>\n",
              "<style scoped>\n",
              "    .dataframe tbody tr th:only-of-type {\n",
              "        vertical-align: middle;\n",
              "    }\n",
              "\n",
              "    .dataframe tbody tr th {\n",
              "        vertical-align: top;\n",
              "    }\n",
              "\n",
              "    .dataframe thead th {\n",
              "        text-align: right;\n",
              "    }\n",
              "</style>\n",
              "<table border=\"1\" class=\"dataframe\">\n",
              "  <thead>\n",
              "    <tr style=\"text-align: right;\">\n",
              "      <th></th>\n",
              "      <th>text</th>\n",
              "      <th>target</th>\n",
              "      <th>id</th>\n",
              "    </tr>\n",
              "  </thead>\n",
              "  <tbody>\n",
              "    <tr>\n",
              "      <th>0</th>\n",
              "      <td>gop disputation tonight jon stewart next week ...</td>\n",
              "      <td>0</td>\n",
              "      <td>7360</td>\n",
              "    </tr>\n",
              "    <tr>\n",
              "      <th>1</th>\n",
              "      <td>11 puncture combat injury</td>\n",
              "      <td>0</td>\n",
              "      <td>10659</td>\n",
              "    </tr>\n",
              "    <tr>\n",
              "      <th>2</th>\n",
              "      <td>i90 vantage backup eastbound dispirited visibi...</td>\n",
              "      <td>1</td>\n",
              "      <td>4320</td>\n",
              "    </tr>\n",
              "    <tr>\n",
              "      <th>3</th>\n",
              "      <td>clev me you clev indeed do have intercourse ha...</td>\n",
              "      <td>0</td>\n",
              "      <td>4199</td>\n",
              "    </tr>\n",
              "    <tr>\n",
              "      <th>4</th>\n",
              "      <td>the stephen ave flower pot become piddling rip...</td>\n",
              "      <td>1</td>\n",
              "      <td>5876</td>\n",
              "    </tr>\n",
              "    <tr>\n",
              "      <th>...</th>\n",
              "      <td>...</td>\n",
              "      <td>...</td>\n",
              "      <td>...</td>\n",
              "    </tr>\n",
              "    <tr>\n",
              "      <th>3995</th>\n",
              "      <td>threw chicken nugget sister lip bleeding</td>\n",
              "      <td>0</td>\n",
              "      <td>1031</td>\n",
              "    </tr>\n",
              "    <tr>\n",
              "      <th>3996</th>\n",
              "      <td>health fact 75 sinew mass piddle fluid drink h...</td>\n",
              "      <td>0</td>\n",
              "      <td>6523</td>\n",
              "    </tr>\n",
              "    <tr>\n",
              "      <th>3997</th>\n",
              "      <td>retweet cameroun repatriating ane 00 nigerian ...</td>\n",
              "      <td>1</td>\n",
              "      <td>8016</td>\n",
              "    </tr>\n",
              "    <tr>\n",
              "      <th>3998</th>\n",
              "      <td>insurance texas assay scuttlebutt rule change ...</td>\n",
              "      <td>1</td>\n",
              "      <td>10552</td>\n",
              "    </tr>\n",
              "    <tr>\n",
              "      <th>3999</th>\n",
              "      <td>mp gearing derailment village youth saved many...</td>\n",
              "      <td>1</td>\n",
              "      <td>3519</td>\n",
              "    </tr>\n",
              "  </tbody>\n",
              "</table>\n",
              "<p>4000 rows × 3 columns</p>\n",
              "</div>\n",
              "      <button class=\"colab-df-convert\" onclick=\"convertToInteractive('df-d8de2ead-b323-47f4-b9a9-21fa5774d7e5')\"\n",
              "              title=\"Convert this dataframe to an interactive table.\"\n",
              "              style=\"display:none;\">\n",
              "        \n",
              "  <svg xmlns=\"http://www.w3.org/2000/svg\" height=\"24px\"viewBox=\"0 0 24 24\"\n",
              "       width=\"24px\">\n",
              "    <path d=\"M0 0h24v24H0V0z\" fill=\"none\"/>\n",
              "    <path d=\"M18.56 5.44l.94 2.06.94-2.06 2.06-.94-2.06-.94-.94-2.06-.94 2.06-2.06.94zm-11 1L8.5 8.5l.94-2.06 2.06-.94-2.06-.94L8.5 2.5l-.94 2.06-2.06.94zm10 10l.94 2.06.94-2.06 2.06-.94-2.06-.94-.94-2.06-.94 2.06-2.06.94z\"/><path d=\"M17.41 7.96l-1.37-1.37c-.4-.4-.92-.59-1.43-.59-.52 0-1.04.2-1.43.59L10.3 9.45l-7.72 7.72c-.78.78-.78 2.05 0 2.83L4 21.41c.39.39.9.59 1.41.59.51 0 1.02-.2 1.41-.59l7.78-7.78 2.81-2.81c.8-.78.8-2.07 0-2.86zM5.41 20L4 18.59l7.72-7.72 1.47 1.35L5.41 20z\"/>\n",
              "  </svg>\n",
              "      </button>\n",
              "      \n",
              "  <style>\n",
              "    .colab-df-container {\n",
              "      display:flex;\n",
              "      flex-wrap:wrap;\n",
              "      gap: 12px;\n",
              "    }\n",
              "\n",
              "    .colab-df-convert {\n",
              "      background-color: #E8F0FE;\n",
              "      border: none;\n",
              "      border-radius: 50%;\n",
              "      cursor: pointer;\n",
              "      display: none;\n",
              "      fill: #1967D2;\n",
              "      height: 32px;\n",
              "      padding: 0 0 0 0;\n",
              "      width: 32px;\n",
              "    }\n",
              "\n",
              "    .colab-df-convert:hover {\n",
              "      background-color: #E2EBFA;\n",
              "      box-shadow: 0px 1px 2px rgba(60, 64, 67, 0.3), 0px 1px 3px 1px rgba(60, 64, 67, 0.15);\n",
              "      fill: #174EA6;\n",
              "    }\n",
              "\n",
              "    [theme=dark] .colab-df-convert {\n",
              "      background-color: #3B4455;\n",
              "      fill: #D2E3FC;\n",
              "    }\n",
              "\n",
              "    [theme=dark] .colab-df-convert:hover {\n",
              "      background-color: #434B5C;\n",
              "      box-shadow: 0px 1px 3px 1px rgba(0, 0, 0, 0.15);\n",
              "      filter: drop-shadow(0px 1px 2px rgba(0, 0, 0, 0.3));\n",
              "      fill: #FFFFFF;\n",
              "    }\n",
              "  </style>\n",
              "\n",
              "      <script>\n",
              "        const buttonEl =\n",
              "          document.querySelector('#df-d8de2ead-b323-47f4-b9a9-21fa5774d7e5 button.colab-df-convert');\n",
              "        buttonEl.style.display =\n",
              "          google.colab.kernel.accessAllowed ? 'block' : 'none';\n",
              "\n",
              "        async function convertToInteractive(key) {\n",
              "          const element = document.querySelector('#df-d8de2ead-b323-47f4-b9a9-21fa5774d7e5');\n",
              "          const dataTable =\n",
              "            await google.colab.kernel.invokeFunction('convertToInteractive',\n",
              "                                                     [key], {});\n",
              "          if (!dataTable) return;\n",
              "\n",
              "          const docLinkHtml = 'Like what you see? Visit the ' +\n",
              "            '<a target=\"_blank\" href=https://colab.research.google.com/notebooks/data_table.ipynb>data table notebook</a>'\n",
              "            + ' to learn more about interactive tables.';\n",
              "          element.innerHTML = '';\n",
              "          dataTable['output_type'] = 'display_data';\n",
              "          await google.colab.output.renderOutput(dataTable, element);\n",
              "          const docLink = document.createElement('div');\n",
              "          docLink.innerHTML = docLinkHtml;\n",
              "          element.appendChild(docLink);\n",
              "        }\n",
              "      </script>\n",
              "    </div>\n",
              "  </div>\n",
              "  "
            ]
          },
          "metadata": {},
          "execution_count": 22
        }
      ]
    },
    {
      "cell_type": "code",
      "source": [],
      "metadata": {
        "id": "M7nM1ncvo2yt"
      },
      "execution_count": null,
      "outputs": []
    },
    {
      "cell_type": "code",
      "source": [
        "\n",
        "\n",
        "train = train.drop(['id'], axis=1)\n"
      ],
      "metadata": {
        "id": "m0fliU6XvTPE"
      },
      "execution_count": null,
      "outputs": []
    },
    {
      "cell_type": "code",
      "source": [
        "train"
      ],
      "metadata": {
        "colab": {
          "base_uri": "https://localhost:8080/",
          "height": 424
        },
        "id": "lBUUnEJ0vYDP",
        "outputId": "ace25e32-d312-454e-cd56-63d482dafded"
      },
      "execution_count": null,
      "outputs": [
        {
          "output_type": "execute_result",
          "data": {
            "text/plain": [
              "                                                   text  target\n",
              "0     gop disputation tonight jon stewart next week ...       0\n",
              "1                             11 puncture combat injury       0\n",
              "2     i90 vantage backup eastbound dispirited visibi...       1\n",
              "3     clev me you clev indeed do have intercourse ha...       0\n",
              "4     the stephen ave flower pot become piddling rip...       1\n",
              "...                                                 ...     ...\n",
              "3995           threw chicken nugget sister lip bleeding       0\n",
              "3996  health fact 75 sinew mass piddle fluid drink h...       0\n",
              "3997  retweet cameroun repatriating ane 00 nigerian ...       1\n",
              "3998  insurance texas assay scuttlebutt rule change ...       1\n",
              "3999  mp gearing derailment village youth saved many...       1\n",
              "\n",
              "[4000 rows x 2 columns]"
            ],
            "text/html": [
              "\n",
              "  <div id=\"df-32798cf6-dbb8-4607-96ce-bd8471fad17c\">\n",
              "    <div class=\"colab-df-container\">\n",
              "      <div>\n",
              "<style scoped>\n",
              "    .dataframe tbody tr th:only-of-type {\n",
              "        vertical-align: middle;\n",
              "    }\n",
              "\n",
              "    .dataframe tbody tr th {\n",
              "        vertical-align: top;\n",
              "    }\n",
              "\n",
              "    .dataframe thead th {\n",
              "        text-align: right;\n",
              "    }\n",
              "</style>\n",
              "<table border=\"1\" class=\"dataframe\">\n",
              "  <thead>\n",
              "    <tr style=\"text-align: right;\">\n",
              "      <th></th>\n",
              "      <th>text</th>\n",
              "      <th>target</th>\n",
              "    </tr>\n",
              "  </thead>\n",
              "  <tbody>\n",
              "    <tr>\n",
              "      <th>0</th>\n",
              "      <td>gop disputation tonight jon stewart next week ...</td>\n",
              "      <td>0</td>\n",
              "    </tr>\n",
              "    <tr>\n",
              "      <th>1</th>\n",
              "      <td>11 puncture combat injury</td>\n",
              "      <td>0</td>\n",
              "    </tr>\n",
              "    <tr>\n",
              "      <th>2</th>\n",
              "      <td>i90 vantage backup eastbound dispirited visibi...</td>\n",
              "      <td>1</td>\n",
              "    </tr>\n",
              "    <tr>\n",
              "      <th>3</th>\n",
              "      <td>clev me you clev indeed do have intercourse ha...</td>\n",
              "      <td>0</td>\n",
              "    </tr>\n",
              "    <tr>\n",
              "      <th>4</th>\n",
              "      <td>the stephen ave flower pot become piddling rip...</td>\n",
              "      <td>1</td>\n",
              "    </tr>\n",
              "    <tr>\n",
              "      <th>...</th>\n",
              "      <td>...</td>\n",
              "      <td>...</td>\n",
              "    </tr>\n",
              "    <tr>\n",
              "      <th>3995</th>\n",
              "      <td>threw chicken nugget sister lip bleeding</td>\n",
              "      <td>0</td>\n",
              "    </tr>\n",
              "    <tr>\n",
              "      <th>3996</th>\n",
              "      <td>health fact 75 sinew mass piddle fluid drink h...</td>\n",
              "      <td>0</td>\n",
              "    </tr>\n",
              "    <tr>\n",
              "      <th>3997</th>\n",
              "      <td>retweet cameroun repatriating ane 00 nigerian ...</td>\n",
              "      <td>1</td>\n",
              "    </tr>\n",
              "    <tr>\n",
              "      <th>3998</th>\n",
              "      <td>insurance texas assay scuttlebutt rule change ...</td>\n",
              "      <td>1</td>\n",
              "    </tr>\n",
              "    <tr>\n",
              "      <th>3999</th>\n",
              "      <td>mp gearing derailment village youth saved many...</td>\n",
              "      <td>1</td>\n",
              "    </tr>\n",
              "  </tbody>\n",
              "</table>\n",
              "<p>4000 rows × 2 columns</p>\n",
              "</div>\n",
              "      <button class=\"colab-df-convert\" onclick=\"convertToInteractive('df-32798cf6-dbb8-4607-96ce-bd8471fad17c')\"\n",
              "              title=\"Convert this dataframe to an interactive table.\"\n",
              "              style=\"display:none;\">\n",
              "        \n",
              "  <svg xmlns=\"http://www.w3.org/2000/svg\" height=\"24px\"viewBox=\"0 0 24 24\"\n",
              "       width=\"24px\">\n",
              "    <path d=\"M0 0h24v24H0V0z\" fill=\"none\"/>\n",
              "    <path d=\"M18.56 5.44l.94 2.06.94-2.06 2.06-.94-2.06-.94-.94-2.06-.94 2.06-2.06.94zm-11 1L8.5 8.5l.94-2.06 2.06-.94-2.06-.94L8.5 2.5l-.94 2.06-2.06.94zm10 10l.94 2.06.94-2.06 2.06-.94-2.06-.94-.94-2.06-.94 2.06-2.06.94z\"/><path d=\"M17.41 7.96l-1.37-1.37c-.4-.4-.92-.59-1.43-.59-.52 0-1.04.2-1.43.59L10.3 9.45l-7.72 7.72c-.78.78-.78 2.05 0 2.83L4 21.41c.39.39.9.59 1.41.59.51 0 1.02-.2 1.41-.59l7.78-7.78 2.81-2.81c.8-.78.8-2.07 0-2.86zM5.41 20L4 18.59l7.72-7.72 1.47 1.35L5.41 20z\"/>\n",
              "  </svg>\n",
              "      </button>\n",
              "      \n",
              "  <style>\n",
              "    .colab-df-container {\n",
              "      display:flex;\n",
              "      flex-wrap:wrap;\n",
              "      gap: 12px;\n",
              "    }\n",
              "\n",
              "    .colab-df-convert {\n",
              "      background-color: #E8F0FE;\n",
              "      border: none;\n",
              "      border-radius: 50%;\n",
              "      cursor: pointer;\n",
              "      display: none;\n",
              "      fill: #1967D2;\n",
              "      height: 32px;\n",
              "      padding: 0 0 0 0;\n",
              "      width: 32px;\n",
              "    }\n",
              "\n",
              "    .colab-df-convert:hover {\n",
              "      background-color: #E2EBFA;\n",
              "      box-shadow: 0px 1px 2px rgba(60, 64, 67, 0.3), 0px 1px 3px 1px rgba(60, 64, 67, 0.15);\n",
              "      fill: #174EA6;\n",
              "    }\n",
              "\n",
              "    [theme=dark] .colab-df-convert {\n",
              "      background-color: #3B4455;\n",
              "      fill: #D2E3FC;\n",
              "    }\n",
              "\n",
              "    [theme=dark] .colab-df-convert:hover {\n",
              "      background-color: #434B5C;\n",
              "      box-shadow: 0px 1px 3px 1px rgba(0, 0, 0, 0.15);\n",
              "      filter: drop-shadow(0px 1px 2px rgba(0, 0, 0, 0.3));\n",
              "      fill: #FFFFFF;\n",
              "    }\n",
              "  </style>\n",
              "\n",
              "      <script>\n",
              "        const buttonEl =\n",
              "          document.querySelector('#df-32798cf6-dbb8-4607-96ce-bd8471fad17c button.colab-df-convert');\n",
              "        buttonEl.style.display =\n",
              "          google.colab.kernel.accessAllowed ? 'block' : 'none';\n",
              "\n",
              "        async function convertToInteractive(key) {\n",
              "          const element = document.querySelector('#df-32798cf6-dbb8-4607-96ce-bd8471fad17c');\n",
              "          const dataTable =\n",
              "            await google.colab.kernel.invokeFunction('convertToInteractive',\n",
              "                                                     [key], {});\n",
              "          if (!dataTable) return;\n",
              "\n",
              "          const docLinkHtml = 'Like what you see? Visit the ' +\n",
              "            '<a target=\"_blank\" href=https://colab.research.google.com/notebooks/data_table.ipynb>data table notebook</a>'\n",
              "            + ' to learn more about interactive tables.';\n",
              "          element.innerHTML = '';\n",
              "          dataTable['output_type'] = 'display_data';\n",
              "          await google.colab.output.renderOutput(dataTable, element);\n",
              "          const docLink = document.createElement('div');\n",
              "          docLink.innerHTML = docLinkHtml;\n",
              "          element.appendChild(docLink);\n",
              "        }\n",
              "      </script>\n",
              "    </div>\n",
              "  </div>\n",
              "  "
            ]
          },
          "metadata": {},
          "execution_count": 24
        }
      ]
    },
    {
      "cell_type": "code",
      "source": [
        "\n",
        "\n",
        "from sklearn.utils import shuffle\n",
        "df=shuffle(df.append(train).reset_index(drop=True))"
      ],
      "metadata": {
        "id": "qgjHjrsTrlbI"
      },
      "execution_count": null,
      "outputs": []
    },
    {
      "cell_type": "code",
      "source": [
        "\n",
        "\n"
      ],
      "metadata": {
        "id": "oXW4ydt8sVSF"
      },
      "execution_count": null,
      "outputs": []
    },
    {
      "cell_type": "code",
      "source": [
        "df"
      ],
      "metadata": {
        "colab": {
          "base_uri": "https://localhost:8080/",
          "height": 424
        },
        "id": "F9RzEXRXvhSk",
        "outputId": "87b26461-c685-4631-a36a-8ce5caad0808"
      },
      "execution_count": null,
      "outputs": [
        {
          "output_type": "execute_result",
          "data": {
            "text/plain": [
              "                                                    text  target\n",
              "4464   Render assistance gain as proxy for your hosta...       0\n",
              "5914   Update: The police seemed like nice enough peo...       0\n",
              "2736   abcnews - Obama Declares Disaster for Typhoon-...       1\n",
              "891    'A Nightmare On Elm Street' Is Getting Remade....       0\n",
              "10624  large detonation rock music al plant southeast...       1\n",
              "...                                                  ...     ...\n",
              "2108                            going to starve to death       0\n",
              "7249   @Glosblue66 no idea what this means. Look at o...       0\n",
              "436    @local_arsonist I guess u can say that it's ju...       0\n",
              "10632  people panic upshot day though hahahah like wo...       0\n",
              "476    @blazerfan not everyone can see ignoranceshe i...       0\n",
              "\n",
              "[11613 rows x 2 columns]"
            ],
            "text/html": [
              "\n",
              "  <div id=\"df-066915a8-e81b-41de-b7b5-248bc8aa080f\">\n",
              "    <div class=\"colab-df-container\">\n",
              "      <div>\n",
              "<style scoped>\n",
              "    .dataframe tbody tr th:only-of-type {\n",
              "        vertical-align: middle;\n",
              "    }\n",
              "\n",
              "    .dataframe tbody tr th {\n",
              "        vertical-align: top;\n",
              "    }\n",
              "\n",
              "    .dataframe thead th {\n",
              "        text-align: right;\n",
              "    }\n",
              "</style>\n",
              "<table border=\"1\" class=\"dataframe\">\n",
              "  <thead>\n",
              "    <tr style=\"text-align: right;\">\n",
              "      <th></th>\n",
              "      <th>text</th>\n",
              "      <th>target</th>\n",
              "    </tr>\n",
              "  </thead>\n",
              "  <tbody>\n",
              "    <tr>\n",
              "      <th>4464</th>\n",
              "      <td>Render assistance gain as proxy for your hosta...</td>\n",
              "      <td>0</td>\n",
              "    </tr>\n",
              "    <tr>\n",
              "      <th>5914</th>\n",
              "      <td>Update: The police seemed like nice enough peo...</td>\n",
              "      <td>0</td>\n",
              "    </tr>\n",
              "    <tr>\n",
              "      <th>2736</th>\n",
              "      <td>abcnews - Obama Declares Disaster for Typhoon-...</td>\n",
              "      <td>1</td>\n",
              "    </tr>\n",
              "    <tr>\n",
              "      <th>891</th>\n",
              "      <td>'A Nightmare On Elm Street' Is Getting Remade....</td>\n",
              "      <td>0</td>\n",
              "    </tr>\n",
              "    <tr>\n",
              "      <th>10624</th>\n",
              "      <td>large detonation rock music al plant southeast...</td>\n",
              "      <td>1</td>\n",
              "    </tr>\n",
              "    <tr>\n",
              "      <th>...</th>\n",
              "      <td>...</td>\n",
              "      <td>...</td>\n",
              "    </tr>\n",
              "    <tr>\n",
              "      <th>2108</th>\n",
              "      <td>going to starve to death</td>\n",
              "      <td>0</td>\n",
              "    </tr>\n",
              "    <tr>\n",
              "      <th>7249</th>\n",
              "      <td>@Glosblue66 no idea what this means. Look at o...</td>\n",
              "      <td>0</td>\n",
              "    </tr>\n",
              "    <tr>\n",
              "      <th>436</th>\n",
              "      <td>@local_arsonist I guess u can say that it's ju...</td>\n",
              "      <td>0</td>\n",
              "    </tr>\n",
              "    <tr>\n",
              "      <th>10632</th>\n",
              "      <td>people panic upshot day though hahahah like wo...</td>\n",
              "      <td>0</td>\n",
              "    </tr>\n",
              "    <tr>\n",
              "      <th>476</th>\n",
              "      <td>@blazerfan not everyone can see ignoranceshe i...</td>\n",
              "      <td>0</td>\n",
              "    </tr>\n",
              "  </tbody>\n",
              "</table>\n",
              "<p>11613 rows × 2 columns</p>\n",
              "</div>\n",
              "      <button class=\"colab-df-convert\" onclick=\"convertToInteractive('df-066915a8-e81b-41de-b7b5-248bc8aa080f')\"\n",
              "              title=\"Convert this dataframe to an interactive table.\"\n",
              "              style=\"display:none;\">\n",
              "        \n",
              "  <svg xmlns=\"http://www.w3.org/2000/svg\" height=\"24px\"viewBox=\"0 0 24 24\"\n",
              "       width=\"24px\">\n",
              "    <path d=\"M0 0h24v24H0V0z\" fill=\"none\"/>\n",
              "    <path d=\"M18.56 5.44l.94 2.06.94-2.06 2.06-.94-2.06-.94-.94-2.06-.94 2.06-2.06.94zm-11 1L8.5 8.5l.94-2.06 2.06-.94-2.06-.94L8.5 2.5l-.94 2.06-2.06.94zm10 10l.94 2.06.94-2.06 2.06-.94-2.06-.94-.94-2.06-.94 2.06-2.06.94z\"/><path d=\"M17.41 7.96l-1.37-1.37c-.4-.4-.92-.59-1.43-.59-.52 0-1.04.2-1.43.59L10.3 9.45l-7.72 7.72c-.78.78-.78 2.05 0 2.83L4 21.41c.39.39.9.59 1.41.59.51 0 1.02-.2 1.41-.59l7.78-7.78 2.81-2.81c.8-.78.8-2.07 0-2.86zM5.41 20L4 18.59l7.72-7.72 1.47 1.35L5.41 20z\"/>\n",
              "  </svg>\n",
              "      </button>\n",
              "      \n",
              "  <style>\n",
              "    .colab-df-container {\n",
              "      display:flex;\n",
              "      flex-wrap:wrap;\n",
              "      gap: 12px;\n",
              "    }\n",
              "\n",
              "    .colab-df-convert {\n",
              "      background-color: #E8F0FE;\n",
              "      border: none;\n",
              "      border-radius: 50%;\n",
              "      cursor: pointer;\n",
              "      display: none;\n",
              "      fill: #1967D2;\n",
              "      height: 32px;\n",
              "      padding: 0 0 0 0;\n",
              "      width: 32px;\n",
              "    }\n",
              "\n",
              "    .colab-df-convert:hover {\n",
              "      background-color: #E2EBFA;\n",
              "      box-shadow: 0px 1px 2px rgba(60, 64, 67, 0.3), 0px 1px 3px 1px rgba(60, 64, 67, 0.15);\n",
              "      fill: #174EA6;\n",
              "    }\n",
              "\n",
              "    [theme=dark] .colab-df-convert {\n",
              "      background-color: #3B4455;\n",
              "      fill: #D2E3FC;\n",
              "    }\n",
              "\n",
              "    [theme=dark] .colab-df-convert:hover {\n",
              "      background-color: #434B5C;\n",
              "      box-shadow: 0px 1px 3px 1px rgba(0, 0, 0, 0.15);\n",
              "      filter: drop-shadow(0px 1px 2px rgba(0, 0, 0, 0.3));\n",
              "      fill: #FFFFFF;\n",
              "    }\n",
              "  </style>\n",
              "\n",
              "      <script>\n",
              "        const buttonEl =\n",
              "          document.querySelector('#df-066915a8-e81b-41de-b7b5-248bc8aa080f button.colab-df-convert');\n",
              "        buttonEl.style.display =\n",
              "          google.colab.kernel.accessAllowed ? 'block' : 'none';\n",
              "\n",
              "        async function convertToInteractive(key) {\n",
              "          const element = document.querySelector('#df-066915a8-e81b-41de-b7b5-248bc8aa080f');\n",
              "          const dataTable =\n",
              "            await google.colab.kernel.invokeFunction('convertToInteractive',\n",
              "                                                     [key], {});\n",
              "          if (!dataTable) return;\n",
              "\n",
              "          const docLinkHtml = 'Like what you see? Visit the ' +\n",
              "            '<a target=\"_blank\" href=https://colab.research.google.com/notebooks/data_table.ipynb>data table notebook</a>'\n",
              "            + ' to learn more about interactive tables.';\n",
              "          element.innerHTML = '';\n",
              "          dataTable['output_type'] = 'display_data';\n",
              "          await google.colab.output.renderOutput(dataTable, element);\n",
              "          const docLink = document.createElement('div');\n",
              "          docLink.innerHTML = docLinkHtml;\n",
              "          element.appendChild(docLink);\n",
              "        }\n",
              "      </script>\n",
              "    </div>\n",
              "  </div>\n",
              "  "
            ]
          },
          "metadata": {},
          "execution_count": 26
        }
      ]
    },
    {
      "cell_type": "markdown",
      "source": [
        "PREPROCESS THE AUGMENTED DATASET"
      ],
      "metadata": {
        "id": "J3VXA3wFyqey"
      }
    },
    {
      "cell_type": "code",
      "source": [
        "X = df.loc[:,\"text\"]\n",
        "# Target Selection\n",
        "y = df.loc[:,\"target\"]\n",
        "\n",
        "X = X.apply(removeStopWords)\n",
        "X = X.apply(removePunctuation)\n",
        "X = X.apply(remove_certain_numbers)\n",
        "X = X.apply(lemmatize)\n"
      ],
      "metadata": {
        "id": "N9YhGDXhyp1_"
      },
      "execution_count": null,
      "outputs": []
    },
    {
      "cell_type": "code",
      "source": [
        "df"
      ],
      "metadata": {
        "colab": {
          "base_uri": "https://localhost:8080/",
          "height": 424
        },
        "id": "z83FpGTMwNRS",
        "outputId": "4958c835-1709-4656-9175-0d524f33ec97"
      },
      "execution_count": null,
      "outputs": [
        {
          "output_type": "execute_result",
          "data": {
            "text/plain": [
              "                                                    text  target\n",
              "4464   Render assistance gain as proxy for your hosta...       0\n",
              "5914   Update: The police seemed like nice enough peo...       0\n",
              "2736   abcnews - Obama Declares Disaster for Typhoon-...       1\n",
              "891    'A Nightmare On Elm Street' Is Getting Remade....       0\n",
              "10624  large detonation rock music al plant southeast...       1\n",
              "...                                                  ...     ...\n",
              "2108                            going to starve to death       0\n",
              "7249   @Glosblue66 no idea what this means. Look at o...       0\n",
              "436    @local_arsonist I guess u can say that it's ju...       0\n",
              "10632  people panic upshot day though hahahah like wo...       0\n",
              "476    @blazerfan not everyone can see ignoranceshe i...       0\n",
              "\n",
              "[11613 rows x 2 columns]"
            ],
            "text/html": [
              "\n",
              "  <div id=\"df-892ff175-30f7-4ce0-895a-32a4a77dddb7\">\n",
              "    <div class=\"colab-df-container\">\n",
              "      <div>\n",
              "<style scoped>\n",
              "    .dataframe tbody tr th:only-of-type {\n",
              "        vertical-align: middle;\n",
              "    }\n",
              "\n",
              "    .dataframe tbody tr th {\n",
              "        vertical-align: top;\n",
              "    }\n",
              "\n",
              "    .dataframe thead th {\n",
              "        text-align: right;\n",
              "    }\n",
              "</style>\n",
              "<table border=\"1\" class=\"dataframe\">\n",
              "  <thead>\n",
              "    <tr style=\"text-align: right;\">\n",
              "      <th></th>\n",
              "      <th>text</th>\n",
              "      <th>target</th>\n",
              "    </tr>\n",
              "  </thead>\n",
              "  <tbody>\n",
              "    <tr>\n",
              "      <th>4464</th>\n",
              "      <td>Render assistance gain as proxy for your hosta...</td>\n",
              "      <td>0</td>\n",
              "    </tr>\n",
              "    <tr>\n",
              "      <th>5914</th>\n",
              "      <td>Update: The police seemed like nice enough peo...</td>\n",
              "      <td>0</td>\n",
              "    </tr>\n",
              "    <tr>\n",
              "      <th>2736</th>\n",
              "      <td>abcnews - Obama Declares Disaster for Typhoon-...</td>\n",
              "      <td>1</td>\n",
              "    </tr>\n",
              "    <tr>\n",
              "      <th>891</th>\n",
              "      <td>'A Nightmare On Elm Street' Is Getting Remade....</td>\n",
              "      <td>0</td>\n",
              "    </tr>\n",
              "    <tr>\n",
              "      <th>10624</th>\n",
              "      <td>large detonation rock music al plant southeast...</td>\n",
              "      <td>1</td>\n",
              "    </tr>\n",
              "    <tr>\n",
              "      <th>...</th>\n",
              "      <td>...</td>\n",
              "      <td>...</td>\n",
              "    </tr>\n",
              "    <tr>\n",
              "      <th>2108</th>\n",
              "      <td>going to starve to death</td>\n",
              "      <td>0</td>\n",
              "    </tr>\n",
              "    <tr>\n",
              "      <th>7249</th>\n",
              "      <td>@Glosblue66 no idea what this means. Look at o...</td>\n",
              "      <td>0</td>\n",
              "    </tr>\n",
              "    <tr>\n",
              "      <th>436</th>\n",
              "      <td>@local_arsonist I guess u can say that it's ju...</td>\n",
              "      <td>0</td>\n",
              "    </tr>\n",
              "    <tr>\n",
              "      <th>10632</th>\n",
              "      <td>people panic upshot day though hahahah like wo...</td>\n",
              "      <td>0</td>\n",
              "    </tr>\n",
              "    <tr>\n",
              "      <th>476</th>\n",
              "      <td>@blazerfan not everyone can see ignoranceshe i...</td>\n",
              "      <td>0</td>\n",
              "    </tr>\n",
              "  </tbody>\n",
              "</table>\n",
              "<p>11613 rows × 2 columns</p>\n",
              "</div>\n",
              "      <button class=\"colab-df-convert\" onclick=\"convertToInteractive('df-892ff175-30f7-4ce0-895a-32a4a77dddb7')\"\n",
              "              title=\"Convert this dataframe to an interactive table.\"\n",
              "              style=\"display:none;\">\n",
              "        \n",
              "  <svg xmlns=\"http://www.w3.org/2000/svg\" height=\"24px\"viewBox=\"0 0 24 24\"\n",
              "       width=\"24px\">\n",
              "    <path d=\"M0 0h24v24H0V0z\" fill=\"none\"/>\n",
              "    <path d=\"M18.56 5.44l.94 2.06.94-2.06 2.06-.94-2.06-.94-.94-2.06-.94 2.06-2.06.94zm-11 1L8.5 8.5l.94-2.06 2.06-.94-2.06-.94L8.5 2.5l-.94 2.06-2.06.94zm10 10l.94 2.06.94-2.06 2.06-.94-2.06-.94-.94-2.06-.94 2.06-2.06.94z\"/><path d=\"M17.41 7.96l-1.37-1.37c-.4-.4-.92-.59-1.43-.59-.52 0-1.04.2-1.43.59L10.3 9.45l-7.72 7.72c-.78.78-.78 2.05 0 2.83L4 21.41c.39.39.9.59 1.41.59.51 0 1.02-.2 1.41-.59l7.78-7.78 2.81-2.81c.8-.78.8-2.07 0-2.86zM5.41 20L4 18.59l7.72-7.72 1.47 1.35L5.41 20z\"/>\n",
              "  </svg>\n",
              "      </button>\n",
              "      \n",
              "  <style>\n",
              "    .colab-df-container {\n",
              "      display:flex;\n",
              "      flex-wrap:wrap;\n",
              "      gap: 12px;\n",
              "    }\n",
              "\n",
              "    .colab-df-convert {\n",
              "      background-color: #E8F0FE;\n",
              "      border: none;\n",
              "      border-radius: 50%;\n",
              "      cursor: pointer;\n",
              "      display: none;\n",
              "      fill: #1967D2;\n",
              "      height: 32px;\n",
              "      padding: 0 0 0 0;\n",
              "      width: 32px;\n",
              "    }\n",
              "\n",
              "    .colab-df-convert:hover {\n",
              "      background-color: #E2EBFA;\n",
              "      box-shadow: 0px 1px 2px rgba(60, 64, 67, 0.3), 0px 1px 3px 1px rgba(60, 64, 67, 0.15);\n",
              "      fill: #174EA6;\n",
              "    }\n",
              "\n",
              "    [theme=dark] .colab-df-convert {\n",
              "      background-color: #3B4455;\n",
              "      fill: #D2E3FC;\n",
              "    }\n",
              "\n",
              "    [theme=dark] .colab-df-convert:hover {\n",
              "      background-color: #434B5C;\n",
              "      box-shadow: 0px 1px 3px 1px rgba(0, 0, 0, 0.15);\n",
              "      filter: drop-shadow(0px 1px 2px rgba(0, 0, 0, 0.3));\n",
              "      fill: #FFFFFF;\n",
              "    }\n",
              "  </style>\n",
              "\n",
              "      <script>\n",
              "        const buttonEl =\n",
              "          document.querySelector('#df-892ff175-30f7-4ce0-895a-32a4a77dddb7 button.colab-df-convert');\n",
              "        buttonEl.style.display =\n",
              "          google.colab.kernel.accessAllowed ? 'block' : 'none';\n",
              "\n",
              "        async function convertToInteractive(key) {\n",
              "          const element = document.querySelector('#df-892ff175-30f7-4ce0-895a-32a4a77dddb7');\n",
              "          const dataTable =\n",
              "            await google.colab.kernel.invokeFunction('convertToInteractive',\n",
              "                                                     [key], {});\n",
              "          if (!dataTable) return;\n",
              "\n",
              "          const docLinkHtml = 'Like what you see? Visit the ' +\n",
              "            '<a target=\"_blank\" href=https://colab.research.google.com/notebooks/data_table.ipynb>data table notebook</a>'\n",
              "            + ' to learn more about interactive tables.';\n",
              "          element.innerHTML = '';\n",
              "          dataTable['output_type'] = 'display_data';\n",
              "          await google.colab.output.renderOutput(dataTable, element);\n",
              "          const docLink = document.createElement('div');\n",
              "          docLink.innerHTML = docLinkHtml;\n",
              "          element.appendChild(docLink);\n",
              "        }\n",
              "      </script>\n",
              "    </div>\n",
              "  </div>\n",
              "  "
            ]
          },
          "metadata": {},
          "execution_count": 28
        }
      ]
    },
    {
      "cell_type": "code",
      "source": [
        "X_train, X_test, y_train, y_test = train_test_split(\n",
        "    X, y,\n",
        "    test_size=0.2,\n",
        "    stratify=y,\n",
        "    random_state=5\n",
        ")\n"
      ],
      "metadata": {
        "id": "RNS-ifD-zJo_"
      },
      "execution_count": null,
      "outputs": []
    },
    {
      "cell_type": "code",
      "source": [
        "pickle.dump(X_train, open('/content/gdrive/MyDrive/MachineLearning/disaster_tweets/outputs/xtrain3.pkl', 'wb'))\n",
        "pickle.dump(X_test, open('/content/gdrive/MyDrive/MachineLearning/disaster_tweets/outputs/xtest3.pkl', 'wb'))\n",
        "pickle.dump(y_train, open('/content/gdrive/MyDrive/MachineLearning/disaster_tweets/outputs/ytrain3.pkl', 'wb'))\n",
        "pickle.dump(y_test, open('/content/gdrive/MyDrive/MachineLearning/disaster_tweets/outputs/y_test3.pkl', 'wb'))"
      ],
      "metadata": {
        "id": "SUXA17B29IAc"
      },
      "execution_count": null,
      "outputs": []
    },
    {
      "cell_type": "code",
      "source": [
        "text_vectorization = TextVectorization(\n",
        "    output_mode=\"int\",\n",
        "   max_tokens=10000\n",
        ")\n",
        "text_vectorization.adapt(X)  \n",
        "\n",
        "X_train = text_vectorization(X_train)\n",
        "#x1_test = text_vectorization(X1_test)\n",
        "X_test = text_vectorization(X_test)\n"
      ],
      "metadata": {
        "id": "YG4OP_r0zT8z"
      },
      "execution_count": null,
      "outputs": []
    },
    {
      "cell_type": "code",
      "source": [
        "pickle.dump(text_vectorization.get_vocabulary(), open('/content/gdrive/MyDrive/MachineLearning/disaster_tweets/outputs/vocab1.pkl', 'wb'))"
      ],
      "metadata": {
        "id": "q_tPWxKU0DI8"
      },
      "execution_count": null,
      "outputs": []
    },
    {
      "cell_type": "code",
      "source": [
        "pickle.dump(X_train, open('/content/gdrive/MyDrive/MachineLearning/disaster_tweets/outputs/xtrain1.pkl', 'wb'))\n",
        "pickle.dump(X_test, open('/content/gdrive/MyDrive/MachineLearning/disaster_tweets/outputs/xtest1.pkl', 'wb'))\n",
        "pickle.dump(y_train, open('/content/gdrive/MyDrive/MachineLearning/disaster_tweets/outputs/ytrain1.pkl', 'wb'))\n",
        "pickle.dump(y_test, open('/content/gdrive/MyDrive/MachineLearning/disaster_tweets/outputs/y_test1.pkl', 'wb'))"
      ],
      "metadata": {
        "id": "pzY9ivRn0K34"
      },
      "execution_count": null,
      "outputs": []
    },
    {
      "cell_type": "code",
      "source": [
        "# X_train = pickle.load(open('/content/gdrive/MyDrive/MachineLearning/disaster_tweets/outputs/xtrain1.pkl', 'rb'))\n",
        "# X_test = pickle.load(open('/content/gdrive/MyDrive/MachineLearning/disaster_tweets/outputs/xtest1.pkl', 'rb'))\n",
        "# y_train=pickle.load(open('/content/gdrive/MyDrive/MachineLearning/disaster_tweets/outputs/ytrain1.pkl', 'rb'))\n",
        "# y_test=pickle.load(open('/content/gdrive/MyDrive/MachineLearning/disaster_tweets/outputs/y_test1.pkl', 'rb'))\n"
      ],
      "metadata": {
        "id": "epXXCxFU0RQ6"
      },
      "execution_count": null,
      "outputs": []
    },
    {
      "cell_type": "markdown",
      "source": [
        "**Experiment-1: RNN with an embedding layer and  layers (128, 64, 32, 16) to learn word embedding from the data, keeping max feature size = 10000 and max length of each tweet 30 words**"
      ],
      "metadata": {
        "id": "VMOqfUh70eQ2"
      }
    },
    {
      "cell_type": "code",
      "source": [
        "max_features = 10000\n",
        "maxlen = 30"
      ],
      "metadata": {
        "id": "f-cSTuji0aPP"
      },
      "execution_count": null,
      "outputs": []
    },
    {
      "cell_type": "code",
      "source": [
        "model = Sequential()\n",
        "model.add(Embedding(max_features, maxlen))\n",
        "\n",
        "\n",
        "model.add(SimpleRNN(32))\n",
        "model.add(Dense(128, activation='relu' ))\n",
        "model.add(Dense(64, activation='relu'))\n",
        "model.add(Dropout(0.2))\n",
        "model.add(Dense(32, activation='relu'))\n",
        "model.add(Dense(16, activation='relu'))\n",
        "model.add(Dropout(0.2))\n",
        "model.add(Dense(1, activation='sigmoid'))\n",
        "model.compile(optimizer='rmsprop', loss='binary_crossentropy', metrics=['acc'])\n",
        "model.summary()\n",
        "history = model.fit(X_train, y_train,\n",
        "                    epochs=5,\n",
        "                    batch_size=32,\n",
        "                    validation_split = 0.2\n",
        "                   )\n"
      ],
      "metadata": {
        "colab": {
          "base_uri": "https://localhost:8080/"
        },
        "id": "TQIEhc2k0kKM",
        "outputId": "d797bfc9-0884-48bd-ced4-4b3c9120c5cb"
      },
      "execution_count": null,
      "outputs": [
        {
          "output_type": "stream",
          "name": "stdout",
          "text": [
            "Model: \"sequential\"\n",
            "_________________________________________________________________\n",
            " Layer (type)                Output Shape              Param #   \n",
            "=================================================================\n",
            " embedding (Embedding)       (None, None, 30)          300000    \n",
            "                                                                 \n",
            " simple_rnn (SimpleRNN)      (None, 32)                2016      \n",
            "                                                                 \n",
            " dense (Dense)               (None, 128)               4224      \n",
            "                                                                 \n",
            " dense_1 (Dense)             (None, 64)                8256      \n",
            "                                                                 \n",
            " dropout (Dropout)           (None, 64)                0         \n",
            "                                                                 \n",
            " dense_2 (Dense)             (None, 32)                2080      \n",
            "                                                                 \n",
            " dense_3 (Dense)             (None, 16)                528       \n",
            "                                                                 \n",
            " dropout_1 (Dropout)         (None, 16)                0         \n",
            "                                                                 \n",
            " dense_4 (Dense)             (None, 1)                 17        \n",
            "                                                                 \n",
            "=================================================================\n",
            "Total params: 317,121\n",
            "Trainable params: 317,121\n",
            "Non-trainable params: 0\n",
            "_________________________________________________________________\n",
            "Epoch 1/5\n",
            "233/233 [==============================] - 21s 68ms/step - loss: 0.5686 - acc: 0.7028 - val_loss: 0.4229 - val_acc: 0.8186\n",
            "Epoch 2/5\n",
            "233/233 [==============================] - 11s 46ms/step - loss: 0.3549 - acc: 0.8617 - val_loss: 0.3925 - val_acc: 0.8391\n",
            "Epoch 3/5\n",
            "233/233 [==============================] - 7s 29ms/step - loss: 0.2592 - acc: 0.9064 - val_loss: 0.4080 - val_acc: 0.8402\n",
            "Epoch 4/5\n",
            "233/233 [==============================] - 7s 30ms/step - loss: 0.2047 - acc: 0.9304 - val_loss: 0.4863 - val_acc: 0.8224\n",
            "Epoch 5/5\n",
            "233/233 [==============================] - 7s 29ms/step - loss: 0.1610 - acc: 0.9481 - val_loss: 0.4287 - val_acc: 0.8423\n"
          ]
        }
      ]
    },
    {
      "cell_type": "code",
      "source": [
        "acc = history.history['acc']\n",
        "val_acc = history.history['val_acc']\n",
        "loss = history.history['loss']\n",
        "val_loss = history.history['val_loss']\n",
        "\n",
        "epochs = range(len(acc))\n",
        "\n",
        "plt.plot(epochs, acc, 'r', label='Training acc')\n",
        "plt.plot(epochs, val_acc, 'g', label='Validation acc')\n",
        "plt.title('Training and validation accuracy of Experiment #2')\n",
        "plt.legend()\n",
        "\n",
        "plt.figure()\n",
        "plt.show()\n"
      ],
      "metadata": {
        "colab": {
          "base_uri": "https://localhost:8080/",
          "height": 298
        },
        "id": "fxUA4IiO02cR",
        "outputId": "1dd46081-387d-4c3e-fe4b-a7cce163970f"
      },
      "execution_count": null,
      "outputs": [
        {
          "output_type": "display_data",
          "data": {
            "text/plain": [
              "<Figure size 432x288 with 1 Axes>"
            ],
            "image/png": "[encoded data removed]"
          },
          "metadata": {
            "needs_background": "light"
          }
        },
        {
          "output_type": "display_data",
          "data": {
            "text/plain": [
              "<Figure size 432x288 with 0 Axes>"
            ]
          },
          "metadata": {}
        }
      ]
    },
    {
      "cell_type": "code",
      "source": [
        "y_pred = model.predict(X_test)\n",
        "performanceArray = []\n",
        "\n",
        "\n",
        "\n",
        "accuracy = accuracy_score(y_test,y_pred.round())\n",
        "precision = precision_score(y_test,y_pred.round())\n",
        "recall=recall_score(y_test,y_pred.round())\n",
        "f1 = f1_score(y_test,y_pred.round())\n",
        "performanceArray.append([accuracy,precision,recall,f1])\n",
        "print('Experiment#1--> Accuracy: ',accuracy,' \\tPrecision: ',precision,'\\tRecall: ',recall,'\\tF1-Score: ',f1)\n",
        "\n",
        "# In order to store the performance( accuracy, precision, recall and F1) of each experiment \n",
        "pickle.dump(performanceArray, open('/content/gdrive/MyDrive/MachineLearning/disaster_tweets/outputs/performance2.pkl', 'wb'))\n",
        "\n",
        "\n"
      ],
      "metadata": {
        "colab": {
          "base_uri": "https://localhost:8080/"
        },
        "id": "umhGZkCO1Ano",
        "outputId": "7b30f5db-e473-4836-dbe8-b88babb3e43f"
      },
      "execution_count": null,
      "outputs": [
        {
          "output_type": "stream",
          "name": "stdout",
          "text": [
            "73/73 [==============================] - 0s 4ms/step\n",
            "Experiment#1--> Accuracy:  0.8445975032285837  \tPrecision:  0.8228105906313645 \tRecall:  0.8120603015075377 \tF1-Score:  0.8174001011633789\n"
          ]
        }
      ]
    },
    {
      "cell_type": "markdown",
      "source": [
        "**Experiment-2: RNN with an embedding layer and hidden layers (128,64, 32, 16) by Using Glove with 100d, keeping max feature size = 10000 and max length of each tweet 30 words**"
      ],
      "metadata": {
        "id": "xsKH5xUP1cr0"
      }
    },
    {
      "cell_type": "code",
      "source": [
        "from tensorflow.keras.layers import Dense, Dropout, Flatten, Conv2D, MaxPooling2D \n",
        "\n",
        "path_to_glove_file = \"/content/gdrive/MyDrive/MachineLearning/disaster_tweets/glove.6B.100d.txt\"\n",
        "embeddings_index = {}\n",
        "with open(path_to_glove_file) as f:\n",
        "    for line in f:\n",
        "        word, coefs = line.split(maxsplit=1)\n",
        "        coefs = np.fromstring(coefs, \"f\", sep=\" \")\n",
        "        embeddings_index[word] = coefs\n",
        "\n",
        "embedding_dim = 100\n",
        "\n",
        "vocabulary = text_vectorization.get_vocabulary()\n",
        "word_index = dict(zip(vocabulary, range(len(vocabulary))))\n",
        "\n",
        "embedding_matrix = np.zeros((10000, embedding_dim))\n",
        "for word, i in word_index.items():\n",
        "    if i <10000:\n",
        "        embedding_vector = embeddings_index.get(word)\n",
        "    if embedding_vector is not None:\n",
        "        embedding_matrix[i] = embedding_vector\n",
        "model = Sequential()\n",
        "model.add(Embedding(max_features, 100,embeddings_initializer=keras.initializers.Constant(embedding_matrix),\n",
        "    trainable=False,))\n",
        "\n",
        "model.add(SimpleRNN(32))\n",
        "model.add(Dense(128, activation='relu'))\n",
        "model.add(Dense(64, activation='relu'))\n",
        "model.add(Dropout(0.2))\n",
        "model.add(Dense(32, activation='relu'))\n",
        "model.add(Dense(16, activation='relu'))\n",
        "model.add(Dropout(0.2))\n",
        "model.add(Dense(1, activation='sigmoid'))\n",
        "model.compile(optimizer='rmsprop', loss='binary_crossentropy', metrics=['acc'])\n",
        "model.summary()\n",
        "history = model.fit(X_train, y_train,\n",
        "                    epochs=20,\n",
        "                    batch_size=32,\n",
        "                    validation_split=0.2)"
      ],
      "metadata": {
        "colab": {
          "base_uri": "https://localhost:8080/"
        },
        "id": "7fNgn-S91Ly1",
        "outputId": "b17a67a8-a3d8-495f-8af3-aa1f78b71785"
      },
      "execution_count": null,
      "outputs": [
        {
          "output_type": "stream",
          "name": "stdout",
          "text": [
            "Model: \"sequential_1\"\n",
            "_________________________________________________________________\n",
            " Layer (type)                Output Shape              Param #   \n",
            "=================================================================\n",
            " embedding_1 (Embedding)     (None, None, 100)         1000000   \n",
            "                                                                 \n",
            " simple_rnn_1 (SimpleRNN)    (None, 32)                4256      \n",
            "                                                                 \n",
            " dense_5 (Dense)             (None, 128)               4224      \n",
            "                                                                 \n",
            " dense_6 (Dense)             (None, 64)                8256      \n",
            "                                                                 \n",
            " dropout_2 (Dropout)         (None, 64)                0         \n",
            "                                                                 \n",
            " dense_7 (Dense)             (None, 32)                2080      \n",
            "                                                                 \n",
            " dense_8 (Dense)             (None, 16)                528       \n",
            "                                                                 \n",
            " dropout_3 (Dropout)         (None, 16)                0         \n",
            "                                                                 \n",
            " dense_9 (Dense)             (None, 1)                 17        \n",
            "                                                                 \n",
            "=================================================================\n",
            "Total params: 1,019,361\n",
            "Trainable params: 19,361\n",
            "Non-trainable params: 1,000,000\n",
            "_________________________________________________________________\n",
            "Epoch 1/20\n",
            "233/233 [==============================] - 9s 31ms/step - loss: 0.5829 - acc: 0.6991 - val_loss: 0.5153 - val_acc: 0.7777\n",
            "Epoch 2/20\n",
            "233/233 [==============================] - 6s 25ms/step - loss: 0.5219 - acc: 0.7655 - val_loss: 0.4763 - val_acc: 0.7853\n",
            "Epoch 3/20\n",
            "233/233 [==============================] - 6s 25ms/step - loss: 0.4978 - acc: 0.7847 - val_loss: 0.4625 - val_acc: 0.7966\n",
            "Epoch 4/20\n",
            "233/233 [==============================] - 6s 25ms/step - loss: 0.4824 - acc: 0.7894 - val_loss: 0.4937 - val_acc: 0.7443\n",
            "Epoch 5/20\n",
            "233/233 [==============================] - 6s 25ms/step - loss: 0.4720 - acc: 0.7957 - val_loss: 0.4960 - val_acc: 0.7745\n",
            "Epoch 6/20\n",
            "233/233 [==============================] - 6s 25ms/step - loss: 0.4584 - acc: 0.8006 - val_loss: 0.4414 - val_acc: 0.8062\n",
            "Epoch 7/20\n",
            "233/233 [==============================] - 6s 24ms/step - loss: 0.4496 - acc: 0.8069 - val_loss: 0.4601 - val_acc: 0.8154\n",
            "Epoch 8/20\n",
            "233/233 [==============================] - 6s 25ms/step - loss: 0.4425 - acc: 0.8099 - val_loss: 0.4504 - val_acc: 0.7976\n",
            "Epoch 9/20\n",
            "233/233 [==============================] - 6s 27ms/step - loss: 0.4360 - acc: 0.8122 - val_loss: 0.4499 - val_acc: 0.7971\n",
            "Epoch 10/20\n",
            "233/233 [==============================] - 7s 31ms/step - loss: 0.4313 - acc: 0.8161 - val_loss: 0.4821 - val_acc: 0.7616\n",
            "Epoch 11/20\n",
            "233/233 [==============================] - 6s 25ms/step - loss: 0.4218 - acc: 0.8213 - val_loss: 0.6494 - val_acc: 0.7788\n",
            "Epoch 12/20\n",
            "233/233 [==============================] - 6s 25ms/step - loss: 0.4137 - acc: 0.8249 - val_loss: 0.4897 - val_acc: 0.7949\n",
            "Epoch 13/20\n",
            "233/233 [==============================] - 6s 25ms/step - loss: 0.4066 - acc: 0.8271 - val_loss: 0.4446 - val_acc: 0.7987\n",
            "Epoch 14/20\n",
            "233/233 [==============================] - 6s 25ms/step - loss: 0.4035 - acc: 0.8319 - val_loss: 0.4410 - val_acc: 0.8084\n",
            "Epoch 15/20\n",
            "233/233 [==============================] - 6s 25ms/step - loss: 0.4012 - acc: 0.8318 - val_loss: 0.4849 - val_acc: 0.7664\n",
            "Epoch 16/20\n",
            "233/233 [==============================] - 6s 24ms/step - loss: 0.3891 - acc: 0.8411 - val_loss: 0.4340 - val_acc: 0.8208\n",
            "Epoch 17/20\n",
            "233/233 [==============================] - 6s 25ms/step - loss: 0.3806 - acc: 0.8419 - val_loss: 0.4725 - val_acc: 0.7982\n",
            "Epoch 18/20\n",
            "233/233 [==============================] - 6s 25ms/step - loss: 0.3767 - acc: 0.8423 - val_loss: 0.4310 - val_acc: 0.8105\n",
            "Epoch 19/20\n",
            "233/233 [==============================] - 6s 25ms/step - loss: 0.3702 - acc: 0.8484 - val_loss: 0.4659 - val_acc: 0.8068\n",
            "Epoch 20/20\n",
            "233/233 [==============================] - 6s 25ms/step - loss: 0.3671 - acc: 0.8509 - val_loss: 0.4960 - val_acc: 0.8057\n"
          ]
        }
      ]
    },
    {
      "cell_type": "code",
      "source": [
        "acc = history.history['acc']\n",
        "val_acc = history.history['val_acc']\n",
        "loss = history.history['loss']\n",
        "val_loss = history.history['val_loss']\n",
        "\n",
        "epochs = range(len(acc))\n",
        "\n",
        "plt.plot(epochs, acc, 'r', label='Training acc')\n",
        "plt.plot(epochs, val_acc, 'g', label='Validation acc')\n",
        "plt.title('Training and validation accuracy of Experiment #4')\n",
        "plt.legend()\n",
        "\n",
        "plt.figure()\n",
        "plt.show()"
      ],
      "metadata": {
        "colab": {
          "base_uri": "https://localhost:8080/",
          "height": 298
        },
        "id": "vVZLX5N31is-",
        "outputId": "6bf7a146-a1e2-497d-c16c-b2cd88f60e82"
      },
      "execution_count": null,
      "outputs": [
        {
          "output_type": "display_data",
          "data": {
            "text/plain": [
              "<Figure size 432x288 with 1 Axes>"
            ],
            "image/png": "[encoded data removed]"
          },
          "metadata": {
            "needs_background": "light"
          }
        },
        {
          "output_type": "display_data",
          "data": {
            "text/plain": [
              "<Figure size 432x288 with 0 Axes>"
            ]
          },
          "metadata": {}
        }
      ]
    },
    {
      "cell_type": "code",
      "source": [
        "y_pred = model.predict(X_test)\n",
        "performanceArray = pickle.load(open('/content/gdrive/MyDrive/MachineLearning/disaster_tweets/outputs/performance2.pkl', 'rb'))\n",
        "\n",
        "accuracy = accuracy_score(y_test,y_pred.round())\n",
        "precision = precision_score(y_test,y_pred.round())\n",
        "recall=recall_score(y_test,y_pred.round())\n",
        "f1 = f1_score(y_test,y_pred.round())\n",
        "performanceArray.append([accuracy,precision,recall,f1])\n",
        "print('Experiment#2--> Accuracy: ',accuracy,' \\tPrecision: ',precision,'\\tRecall: ',recall,'\\tF1-Score: ',f1)\n",
        "\n",
        "# In order to store the performance( accuracy, precision, recall and F1) of each experiment \n",
        "pickle.dump(performanceArray, open('/content/gdrive/MyDrive/MachineLearning/disaster_tweets/outputs/performance2.pkl', 'wb'))\n"
      ],
      "metadata": {
        "colab": {
          "base_uri": "https://localhost:8080/"
        },
        "id": "tdRlsiCZ1n7R",
        "outputId": "e9f32301-0699-4145-cdea-9907ab37ba21"
      },
      "execution_count": null,
      "outputs": [
        {
          "output_type": "stream",
          "name": "stdout",
          "text": [
            "73/73 [==============================] - 0s 4ms/step\n",
            "Experiment#2--> Accuracy:  0.7765820060266896  \tPrecision:  0.7570194384449244 \tRecall:  0.7045226130653266 \tF1-Score:  0.7298282144716294\n"
          ]
        }
      ]
    },
    {
      "cell_type": "code",
      "source": [],
      "metadata": {
        "id": "SbpzY2Kw3HTT"
      },
      "execution_count": null,
      "outputs": []
    },
    {
      "cell_type": "markdown",
      "source": [
        "**Experiment-3: RNN with an embedding layer and  hidden layers (128, 64, 32, 16) by Using Glove-twitter with 100d, keeping max feature size = 10000 and max length of each tweet 30 words**"
      ],
      "metadata": {
        "id": "fcbKRvmqcT5g"
      }
    },
    {
      "cell_type": "code",
      "source": [
        "path_to_glove_file = \"/content/gdrive/MyDrive/MachineLearning/disaster_tweets/glove.twitter.27B.100d.txt\"\n",
        "embeddings_index = {}\n",
        "with open(path_to_glove_file) as f:\n",
        "    for line in f:\n",
        "        word, coefs = line.split(maxsplit=1)\n",
        "        coefs = np.fromstring(coefs, \"f\", sep=\" \")\n",
        "        embeddings_index[word] = coefs\n",
        "\n",
        "embedding_dim = 100\n",
        "\n",
        "word_index = dict(zip(vocabulary, range(len(vocabulary))))\n",
        "\n",
        "embedding_matrix = np.zeros((10000, embedding_dim))\n",
        "for word, i in word_index.items():\n",
        "    if i <10000:\n",
        "        embedding_vector = embeddings_index.get(word)\n",
        "    if embedding_vector is not None:\n",
        "        embedding_matrix[i] = embedding_vector"
      ],
      "metadata": {
        "id": "a6bUPce62Une"
      },
      "execution_count": null,
      "outputs": []
    },
    {
      "cell_type": "code",
      "source": [
        "\n",
        "model = Sequential()\n",
        "model.add(Embedding(10000, 100,embeddings_initializer=keras.initializers.Constant(embedding_matrix),\n",
        "    trainable=False,))\n",
        "\n",
        "model.add(SimpleRNN(32))\n",
        "model.add(Dense(128, activation='relu'))\n",
        "model.add(Dense(64, activation='relu'))\n",
        "model.add(Dropout(0.2))\n",
        "model.add(Dense(32, activation='relu'))\n",
        "model.add(Dense(16, activation='relu'))\n",
        "model.add(Dropout(0.2))\n",
        "model.add(Dense(1, activation='sigmoid'))\n",
        "model.compile(optimizer='rmsprop', loss='binary_crossentropy', metrics=['acc'])\n",
        "model.summary()\n",
        "history = model.fit(X_train, y_train,\n",
        "                    epochs=20,\n",
        "                    batch_size=32,\n",
        "                    validation_split=0.2)"
      ],
      "metadata": {
        "colab": {
          "base_uri": "https://localhost:8080/"
        },
        "id": "isHZNEv33MrV",
        "outputId": "b3d6db4a-f7a3-479c-d7d3-49198e97980b"
      },
      "execution_count": null,
      "outputs": [
        {
          "output_type": "stream",
          "name": "stdout",
          "text": [
            "Model: \"sequential_2\"\n",
            "_________________________________________________________________\n",
            " Layer (type)                Output Shape              Param #   \n",
            "=================================================================\n",
            " embedding_2 (Embedding)     (None, None, 100)         1000000   \n",
            "                                                                 \n",
            " simple_rnn_2 (SimpleRNN)    (None, 32)                4256      \n",
            "                                                                 \n",
            " dense_10 (Dense)            (None, 128)               4224      \n",
            "                                                                 \n",
            " dense_11 (Dense)            (None, 64)                8256      \n",
            "                                                                 \n",
            " dropout_4 (Dropout)         (None, 64)                0         \n",
            "                                                                 \n",
            " dense_12 (Dense)            (None, 32)                2080      \n",
            "                                                                 \n",
            " dense_13 (Dense)            (None, 16)                528       \n",
            "                                                                 \n",
            " dropout_5 (Dropout)         (None, 16)                0         \n",
            "                                                                 \n",
            " dense_14 (Dense)            (None, 1)                 17        \n",
            "                                                                 \n",
            "=================================================================\n",
            "Total params: 1,019,361\n",
            "Trainable params: 19,361\n",
            "Non-trainable params: 1,000,000\n",
            "_________________________________________________________________\n",
            "Epoch 1/20\n",
            "233/233 [==============================] - 7s 26ms/step - loss: 0.5850 - acc: 0.7174 - val_loss: 0.5653 - val_acc: 0.7363\n",
            "Epoch 2/20\n",
            "233/233 [==============================] - 6s 25ms/step - loss: 0.5281 - acc: 0.7656 - val_loss: 0.5943 - val_acc: 0.7820\n",
            "Epoch 3/20\n",
            "233/233 [==============================] - 6s 25ms/step - loss: 0.5014 - acc: 0.7863 - val_loss: 0.4762 - val_acc: 0.7955\n",
            "Epoch 4/20\n",
            "233/233 [==============================] - 6s 24ms/step - loss: 0.4780 - acc: 0.7990 - val_loss: 0.4688 - val_acc: 0.8084\n",
            "Epoch 5/20\n",
            "233/233 [==============================] - 6s 24ms/step - loss: 0.4697 - acc: 0.8002 - val_loss: 0.5080 - val_acc: 0.7933\n",
            "Epoch 6/20\n",
            "233/233 [==============================] - 6s 25ms/step - loss: 0.4542 - acc: 0.8097 - val_loss: 0.4456 - val_acc: 0.8062\n",
            "Epoch 7/20\n",
            "233/233 [==============================] - 6s 25ms/step - loss: 0.4440 - acc: 0.8167 - val_loss: 0.5036 - val_acc: 0.7809\n",
            "Epoch 8/20\n",
            "233/233 [==============================] - 6s 24ms/step - loss: 0.4305 - acc: 0.8204 - val_loss: 0.4644 - val_acc: 0.7949\n",
            "Epoch 9/20\n",
            "233/233 [==============================] - 6s 24ms/step - loss: 0.4217 - acc: 0.8255 - val_loss: 0.4859 - val_acc: 0.8068\n",
            "Epoch 10/20\n",
            "233/233 [==============================] - 6s 24ms/step - loss: 0.4069 - acc: 0.8338 - val_loss: 0.5038 - val_acc: 0.8009\n",
            "Epoch 11/20\n",
            "233/233 [==============================] - 6s 25ms/step - loss: 0.3985 - acc: 0.8362 - val_loss: 0.4534 - val_acc: 0.8105\n",
            "Epoch 12/20\n",
            "233/233 [==============================] - 6s 24ms/step - loss: 0.3913 - acc: 0.8427 - val_loss: 0.4602 - val_acc: 0.7982\n",
            "Epoch 13/20\n",
            "233/233 [==============================] - 6s 24ms/step - loss: 0.3818 - acc: 0.8524 - val_loss: 0.5192 - val_acc: 0.8095\n",
            "Epoch 14/20\n",
            "233/233 [==============================] - 6s 25ms/step - loss: 0.3714 - acc: 0.8532 - val_loss: 0.4767 - val_acc: 0.8019\n",
            "Epoch 15/20\n",
            "233/233 [==============================] - 6s 25ms/step - loss: 0.3582 - acc: 0.8630 - val_loss: 0.4415 - val_acc: 0.8111\n",
            "Epoch 16/20\n",
            "233/233 [==============================] - 6s 25ms/step - loss: 0.3565 - acc: 0.8652 - val_loss: 0.4680 - val_acc: 0.7949\n",
            "Epoch 17/20\n",
            "233/233 [==============================] - 8s 34ms/step - loss: 0.3473 - acc: 0.8691 - val_loss: 0.4626 - val_acc: 0.8165\n",
            "Epoch 18/20\n",
            "233/233 [==============================] - 6s 24ms/step - loss: 0.3380 - acc: 0.8737 - val_loss: 0.4577 - val_acc: 0.8192\n",
            "Epoch 19/20\n",
            "233/233 [==============================] - 6s 24ms/step - loss: 0.3258 - acc: 0.8805 - val_loss: 0.5159 - val_acc: 0.8009\n",
            "Epoch 20/20\n",
            "233/233 [==============================] - 6s 24ms/step - loss: 0.3175 - acc: 0.8802 - val_loss: 0.6841 - val_acc: 0.7438\n"
          ]
        }
      ]
    },
    {
      "cell_type": "code",
      "source": [
        "acc = history.history['acc']\n",
        "val_acc = history.history['val_acc']\n",
        "loss = history.history['loss']\n",
        "val_loss = history.history['val_loss']\n",
        "\n",
        "epochs = range(len(acc))\n",
        "\n",
        "plt.plot(epochs, acc, 'r', label='Training acc')\n",
        "plt.plot(epochs, val_acc, 'g', label='Validation acc')\n",
        "plt.title('Training and validation accuracy of Experiment #6')\n",
        "plt.legend()\n",
        "\n",
        "plt.figure()\n",
        "plt.show()"
      ],
      "metadata": {
        "colab": {
          "base_uri": "https://localhost:8080/",
          "height": 298
        },
        "id": "gPo3m81C3Yqi",
        "outputId": "d3426b29-d521-4d68-a9d2-d364679cf921"
      },
      "execution_count": null,
      "outputs": [
        {
          "output_type": "display_data",
          "data": {
            "text/plain": [
              "<Figure size 432x288 with 1 Axes>"
            ],
            "image/png": "[encoded data removed]"
          },
          "metadata": {
            "needs_background": "light"
          }
        },
        {
          "output_type": "display_data",
          "data": {
            "text/plain": [
              "<Figure size 432x288 with 0 Axes>"
            ]
          },
          "metadata": {}
        }
      ]
    },
    {
      "cell_type": "code",
      "source": [
        "y_pred = model.predict(X_test)\n",
        "performanceArray = pickle.load(open('/content/gdrive/MyDrive/MachineLearning/disaster_tweets/outputs/performance2.pkl', 'rb'))\n",
        "\n",
        "accuracy = accuracy_score(y_test,y_pred.round())\n",
        "precision = precision_score(y_test,y_pred.round())\n",
        "recall=recall_score(y_test,y_pred.round())\n",
        "f1 = f1_score(y_test,y_pred.round())\n",
        "performanceArray.append([accuracy,precision,recall,f1])\n",
        "print('Experiment#6--> Accuracy: ',accuracy,' \\tPrecision: ',precision,'\\tRecall: ',recall,'\\tF1-Score: ',f1)\n",
        "\n",
        "# In order to store the performance( accuracy, precision, recall and F1) of each experiment \n",
        "pickle.dump(performanceArray, open('/content/gdrive/MyDrive/MachineLearning/disaster_tweets/outputs/performance2.pkl', 'wb'))"
      ],
      "metadata": {
        "colab": {
          "base_uri": "https://localhost:8080/"
        },
        "id": "jlI-_p8b3dI8",
        "outputId": "56bdc7ed-e416-4cc9-cdf1-6f10751aa655"
      },
      "execution_count": null,
      "outputs": [
        {
          "output_type": "stream",
          "name": "stdout",
          "text": [
            "73/73 [==============================] - 0s 4ms/step\n",
            "Experiment#6--> Accuracy:  0.7318123116659492  \tPrecision:  0.8369565217391305 \tRecall:  0.464321608040201 \tF1-Score:  0.5972850678733033\n"
          ]
        }
      ]
    },
    {
      "cell_type": "markdown",
      "source": [
        "**Experiment-4: RNN with an embedding layer and three hidden layers (128,64, 32,16) by Using fastex with 300d, keeping max feature size = 10000 and max length of each tweet 30 words**"
      ],
      "metadata": {
        "id": "4NQbFH2S47JZ"
      }
    },
    {
      "cell_type": "code",
      "source": [
        "path_to_glove_file = \"/content/gdrive/MyDrive/MachineLearning/disaster_tweets/wiki-news-300d-1M.vec\"\n",
        "embeddings_index = {}\n",
        "with open(path_to_glove_file) as f:\n",
        "    for line in f:\n",
        "        word, coefs = line.split(maxsplit=1)\n",
        "        coefs = np.fromstring(coefs, \"f\", sep=\" \")\n",
        "        embeddings_index[word] = coefs\n",
        "\n",
        "embedding_dim = 300\n",
        "\n",
        "word_index = dict(zip(vocabulary, range(len(vocabulary))))\n",
        "\n",
        "embedding_matrix = np.zeros((10000, embedding_dim))\n",
        "for word, i in word_index.items():\n",
        "    if i <10000:\n",
        "        embedding_vector = embeddings_index.get(word)\n",
        "    if embedding_vector is not None:\n",
        "        embedding_matrix[i] = embedding_vector"
      ],
      "metadata": {
        "id": "4bF9cKQi40Jt"
      },
      "execution_count": null,
      "outputs": []
    },
    {
      "cell_type": "code",
      "source": [
        "model = Sequential()\n",
        "model.add(Embedding(10000, 300,embeddings_initializer=keras.initializers.Constant(embedding_matrix),\n",
        "    trainable=False,))\n",
        "\n",
        "model.add(SimpleRNN(32))\n",
        "model.add(Dense(128, activation='relu'))\n",
        "model.add(Dense(64, activation='relu'))\n",
        "model.add(Dropout(0.2))\n",
        "model.add(Dense(32, activation='relu'))\n",
        "model.add(Dense(16, activation='relu'))\n",
        "model.add(Dropout(0.2))\n",
        "model.add(Dense(1, activation='sigmoid'))\n",
        "model.compile(optimizer='rmsprop', loss='binary_crossentropy', metrics=['acc'])\n",
        "model.summary()\n",
        "history = model.fit(X_train, y_train,\n",
        "                    epochs=9,\n",
        "                    batch_size=32,\n",
        "                    validation_split=0.2)"
      ],
      "metadata": {
        "colab": {
          "base_uri": "https://localhost:8080/"
        },
        "id": "AjqT0mir3jHf",
        "outputId": "935a23c6-30e3-40ba-d04d-793e6dea4219"
      },
      "execution_count": null,
      "outputs": [
        {
          "output_type": "stream",
          "name": "stdout",
          "text": [
            "Model: \"sequential_3\"\n",
            "_________________________________________________________________\n",
            " Layer (type)                Output Shape              Param #   \n",
            "=================================================================\n",
            " embedding_3 (Embedding)     (None, None, 300)         3000000   \n",
            "                                                                 \n",
            " simple_rnn_3 (SimpleRNN)    (None, 32)                10656     \n",
            "                                                                 \n",
            " dense_15 (Dense)            (None, 128)               4224      \n",
            "                                                                 \n",
            " dense_16 (Dense)            (None, 64)                8256      \n",
            "                                                                 \n",
            " dropout_6 (Dropout)         (None, 64)                0         \n",
            "                                                                 \n",
            " dense_17 (Dense)            (None, 32)                2080      \n",
            "                                                                 \n",
            " dense_18 (Dense)            (None, 16)                528       \n",
            "                                                                 \n",
            " dropout_7 (Dropout)         (None, 16)                0         \n",
            "                                                                 \n",
            " dense_19 (Dense)            (None, 1)                 17        \n",
            "                                                                 \n",
            "=================================================================\n",
            "Total params: 3,025,761\n",
            "Trainable params: 25,761\n",
            "Non-trainable params: 3,000,000\n",
            "_________________________________________________________________\n",
            "Epoch 1/9\n",
            "233/233 [==============================] - 7s 24ms/step - loss: 0.5533 - acc: 0.7330 - val_loss: 0.4618 - val_acc: 0.8025\n",
            "Epoch 2/9\n",
            "233/233 [==============================] - 5s 23ms/step - loss: 0.4701 - acc: 0.8044 - val_loss: 0.4342 - val_acc: 0.8100\n",
            "Epoch 3/9\n",
            "233/233 [==============================] - 5s 23ms/step - loss: 0.4409 - acc: 0.8127 - val_loss: 0.5763 - val_acc: 0.7158\n",
            "Epoch 4/9\n",
            "233/233 [==============================] - 5s 23ms/step - loss: 0.4236 - acc: 0.8236 - val_loss: 0.5043 - val_acc: 0.7610\n",
            "Epoch 5/9\n",
            "233/233 [==============================] - 5s 24ms/step - loss: 0.3951 - acc: 0.8361 - val_loss: 0.4258 - val_acc: 0.8127\n",
            "Epoch 6/9\n",
            "233/233 [==============================] - 5s 23ms/step - loss: 0.3700 - acc: 0.8462 - val_loss: 0.5345 - val_acc: 0.8100\n",
            "Epoch 7/9\n",
            "233/233 [==============================] - 5s 23ms/step - loss: 0.3521 - acc: 0.8605 - val_loss: 0.5289 - val_acc: 0.7594\n",
            "Epoch 8/9\n",
            "233/233 [==============================] - 5s 23ms/step - loss: 0.3253 - acc: 0.8707 - val_loss: 0.4558 - val_acc: 0.8240\n",
            "Epoch 9/9\n",
            "233/233 [==============================] - 5s 23ms/step - loss: 0.3035 - acc: 0.8832 - val_loss: 0.4589 - val_acc: 0.8100\n"
          ]
        }
      ]
    },
    {
      "cell_type": "code",
      "source": [
        "acc = history.history['acc']\n",
        "val_acc = history.history['val_acc']\n",
        "loss = history.history['loss']\n",
        "val_loss = history.history['val_loss']\n",
        "\n",
        "epochs = range(len(acc))\n",
        "\n",
        "plt.plot(epochs, acc, 'r', label='Training acc')\n",
        "plt.plot(epochs, val_acc, 'g', label='Validation acc')\n",
        "plt.title('Training and validation accuracy of Experiment #8')\n",
        "plt.legend()\n",
        "\n",
        "plt.figure()\n",
        "plt.show()"
      ],
      "metadata": {
        "colab": {
          "base_uri": "https://localhost:8080/",
          "height": 298
        },
        "id": "XsNOrfBu5BKI",
        "outputId": "32bf7033-a33c-43d5-93ab-348ace8b609b"
      },
      "execution_count": null,
      "outputs": [
        {
          "output_type": "display_data",
          "data": {
            "text/plain": [
              "<Figure size 432x288 with 1 Axes>"
            ],
            "image/png": "[encoded data removed]"
          },
          "metadata": {
            "needs_background": "light"
          }
        },
        {
          "output_type": "display_data",
          "data": {
            "text/plain": [
              "<Figure size 432x288 with 0 Axes>"
            ]
          },
          "metadata": {}
        }
      ]
    },
    {
      "cell_type": "code",
      "source": [
        "y_pred = model.predict(X_test)\n",
        "performanceArray = pickle.load(open('/content/gdrive/MyDrive/MachineLearning/disaster_tweets/outputs/performance2.pkl', 'rb'))\n",
        "\n",
        "accuracy = accuracy_score(y_test,y_pred.round())\n",
        "precision = precision_score(y_test,y_pred.round())\n",
        "recall=recall_score(y_test,y_pred.round())\n",
        "f1 = f1_score(y_test,y_pred.round())\n",
        "performanceArray.append([accuracy,precision,recall,f1])\n",
        "print('Experiment#8--> Accuracy: ',accuracy,' \\tPrecision: ',precision,'\\tRecall: ',recall,'\\tF1-Score: ',f1)\n",
        "\n",
        "# In order to store the performance( accuracy, precision, recall and F1) of each experiment \n",
        "pickle.dump(performanceArray, open('/content/gdrive/MyDrive/MachineLearning/disaster_tweets/outputs/performance2.pkl', 'wb'))"
      ],
      "metadata": {
        "colab": {
          "base_uri": "https://localhost:8080/"
        },
        "id": "4ziGqRvh5GuG",
        "outputId": "66b00801-53ba-4c0c-88c9-784d1a0cba37"
      },
      "execution_count": null,
      "outputs": [
        {
          "output_type": "stream",
          "name": "stdout",
          "text": [
            "73/73 [==============================] - 0s 4ms/step\n",
            "Experiment#8--> Accuracy:  0.7671114937580714  \tPrecision:  0.7695961995249406 \tRecall:  0.6512562814070352 \tF1-Score:  0.7054980947196516\n"
          ]
        }
      ]
    },
    {
      "cell_type": "markdown",
      "source": [
        "Now Moving to LSTM\n"
      ],
      "metadata": {
        "id": "UEFLEVz653YS"
      }
    },
    {
      "cell_type": "markdown",
      "source": [
        "**Experiment-5: LSTM with an embedding layer and hidden layers (128, 64, 32,16) to learn word embedding from the data, keeping max feature size = 10000 and max length of each tweet 30 words**"
      ],
      "metadata": {
        "id": "veW11bDg542N"
      }
    },
    {
      "cell_type": "code",
      "source": [
        "max_features = 10000  # number of words to consider as features\n",
        "maxlen = 28  # Cut texts after this number of words (among top max_features most common words)\n",
        "\n",
        "model = Sequential()\n",
        "model.add(Embedding(max_features, maxlen))\n",
        "model.add(Bidirectional(LSTM(32)))\n",
        "model.add(Dense(128, activation='relu'))\n",
        "model.add(Dense(64, activation='relu'))\n",
        "model.add(Dropout(0.2))\n",
        "model.add(Dense(32, activation='relu'))\n",
        "model.add(Dense(16, activation='relu'))\n",
        "model.add(Dropout(0.2))\n",
        "model.add(Dense(1, activation='sigmoid'))\n",
        "model.compile(optimizer='rmsprop', loss='binary_crossentropy', metrics=['acc'])\n",
        "model.summary()\n",
        "history = model.fit(X_train, y_train,\n",
        "                    epochs=5,\n",
        "                    batch_size=32,\n",
        "                    validation_split=0.2)"
      ],
      "metadata": {
        "colab": {
          "base_uri": "https://localhost:8080/"
        },
        "id": "CBw19aF35kPE",
        "outputId": "2837d882-91f4-47c3-f987-09ee9b63187b"
      },
      "execution_count": null,
      "outputs": [
        {
          "output_type": "stream",
          "name": "stdout",
          "text": [
            "Model: \"sequential_4\"\n",
            "_________________________________________________________________\n",
            " Layer (type)                Output Shape              Param #   \n",
            "=================================================================\n",
            " embedding_4 (Embedding)     (None, None, 28)          280000    \n",
            "                                                                 \n",
            " bidirectional (Bidirectiona  (None, 64)               15616     \n",
            " l)                                                              \n",
            "                                                                 \n",
            " dense_20 (Dense)            (None, 128)               8320      \n",
            "                                                                 \n",
            " dense_21 (Dense)            (None, 64)                8256      \n",
            "                                                                 \n",
            " dropout_8 (Dropout)         (None, 64)                0         \n",
            "                                                                 \n",
            " dense_22 (Dense)            (None, 32)                2080      \n",
            "                                                                 \n",
            " dense_23 (Dense)            (None, 16)                528       \n",
            "                                                                 \n",
            " dropout_9 (Dropout)         (None, 16)                0         \n",
            "                                                                 \n",
            " dense_24 (Dense)            (None, 1)                 17        \n",
            "                                                                 \n",
            "=================================================================\n",
            "Total params: 314,817\n",
            "Trainable params: 314,817\n",
            "Non-trainable params: 0\n",
            "_________________________________________________________________\n",
            "Epoch 1/5\n",
            "233/233 [==============================] - 8s 13ms/step - loss: 0.5471 - acc: 0.7318 - val_loss: 0.4004 - val_acc: 0.8224\n",
            "Epoch 2/5\n",
            "233/233 [==============================] - 2s 10ms/step - loss: 0.3506 - acc: 0.8601 - val_loss: 0.3806 - val_acc: 0.8471\n",
            "Epoch 3/5\n",
            "233/233 [==============================] - 2s 9ms/step - loss: 0.2945 - acc: 0.8856 - val_loss: 0.3860 - val_acc: 0.8305\n",
            "Epoch 4/5\n",
            "233/233 [==============================] - 2s 10ms/step - loss: 0.2629 - acc: 0.8975 - val_loss: 0.4043 - val_acc: 0.8504\n",
            "Epoch 5/5\n",
            "233/233 [==============================] - 2s 10ms/step - loss: 0.2425 - acc: 0.9080 - val_loss: 0.3935 - val_acc: 0.8482\n"
          ]
        }
      ]
    },
    {
      "cell_type": "code",
      "source": [
        "acc = history.history['acc']\n",
        "val_acc = history.history['val_acc']\n",
        "loss = history.history['loss']\n",
        "val_loss = history.history['val_loss']\n",
        "\n",
        "epochs = range(len(acc))\n",
        "\n",
        "plt.plot(epochs, acc, 'r', label='Training acc')\n",
        "plt.plot(epochs, val_acc, 'g', label='Validation acc')\n",
        "plt.title('Training and validation accuracy of Experiment #8')\n",
        "plt.legend()\n",
        "\n",
        "plt.figure()\n",
        "plt.show()"
      ],
      "metadata": {
        "colab": {
          "base_uri": "https://localhost:8080/",
          "height": 298
        },
        "id": "MDYO4Qgp6EUU",
        "outputId": "c2160dca-591c-4588-d29e-38f2e54df890"
      },
      "execution_count": null,
      "outputs": [
        {
          "output_type": "display_data",
          "data": {
            "text/plain": [
              "<Figure size 432x288 with 1 Axes>"
            ],
            "image/png": "[encoded data removed]"
          },
          "metadata": {
            "needs_background": "light"
          }
        },
        {
          "output_type": "display_data",
          "data": {
            "text/plain": [
              "<Figure size 432x288 with 0 Axes>"
            ]
          },
          "metadata": {}
        }
      ]
    },
    {
      "cell_type": "code",
      "source": [
        "y_pred = model.predict(X_test)\n",
        "performanceArray = pickle.load(open('/content/gdrive/MyDrive/MachineLearning/disaster_tweets/outputs/performance2.pkl', 'rb'))\n",
        "\n",
        "accuracy = accuracy_score(y_test,y_pred.round())\n",
        "precision = precision_score(y_test,y_pred.round())\n",
        "recall=recall_score(y_test,y_pred.round())\n",
        "f1 = f1_score(y_test,y_pred.round())\n",
        "performanceArray.append([accuracy,precision,recall,f1])\n",
        "print('Experiment#8--> Accuracy: ',accuracy,' \\tPrecision: ',precision,'\\tRecall: ',recall,'\\tF1-Score: ',f1)\n",
        "\n",
        "# In order to store the performance( accuracy, precision, recall and F1) of each experiment \n",
        "pickle.dump(performanceArray, open('/content/gdrive/MyDrive/MachineLearning/disaster_tweets/outputs/performance2.pkl', 'wb'))"
      ],
      "metadata": {
        "colab": {
          "base_uri": "https://localhost:8080/"
        },
        "id": "MV3kE7iP6Msb",
        "outputId": "a142aeaa-8485-4998-e404-dded4aeefb0b"
      },
      "execution_count": null,
      "outputs": [
        {
          "output_type": "stream",
          "name": "stdout",
          "text": [
            "73/73 [==============================] - 1s 3ms/step\n",
            "Experiment#8--> Accuracy:  0.839431769263883  \tPrecision:  0.849438202247191 \tRecall:  0.7597989949748744 \tF1-Score:  0.8021220159151193\n"
          ]
        }
      ]
    },
    {
      "cell_type": "markdown",
      "source": [
        "**Experiment-6: LSTM with an embedding layer and hidden layers (128, 64, 32,16) to learn word embedding from the glove, keeping max feature size = 10000 and max length of each tweet 30 words**"
      ],
      "metadata": {
        "id": "0Im3SNNVgihk"
      }
    },
    {
      "cell_type": "code",
      "source": [
        "\n",
        "path_to_glove_file = \"/content/gdrive/MyDrive/MachineLearning/disaster_tweets/glove.6B.100d.txt\"\n",
        "\n",
        "embeddings_index = {}\n",
        "with open(path_to_glove_file) as f:\n",
        "    for line in f:\n",
        "        word, coefs = line.split(maxsplit=1)\n",
        "        coefs = np.fromstring(coefs, \"f\", sep=\" \")\n",
        "        embeddings_index[word] = coefs\n",
        "\n",
        "embedding_dim = 100\n",
        "\n",
        "word_index = dict(zip(vocabulary, range(len(vocabulary))))\n",
        "\n",
        "embedding_matrix = np.zeros((10000, embedding_dim))\n",
        "for word, i in word_index.items():\n",
        "    if i <10000:\n",
        "        embedding_vector = embeddings_index.get(word)\n",
        "    if embedding_vector is not None:\n",
        "        embedding_matrix[i] = embedding_vector\n",
        "\n",
        "model = Sequential()\n",
        "model.add(Embedding(max_features, 100,embeddings_initializer=keras.initializers.Constant(embedding_matrix),\n",
        "    trainable=False,))\n",
        "\n",
        "model.add(Bidirectional(LSTM(32)))\n",
        "model.add(Dense(128 , activation='relu' ))\n",
        "model.add(Dense(64, activation='relu'))\n",
        "model.add(Dropout(0.2))\n",
        "model.add(Dense(32, activation='relu'))\n",
        "model.add(Dense(16, activation='relu'))\n",
        "model.add(Dropout(0.2))\n",
        "model.add(Dense(1, activation='sigmoid'))\n",
        "model.compile(optimizer='rmsprop', loss='binary_crossentropy', metrics=['acc'])\n",
        "model.summary()\n",
        "history = model.fit(X_train, y_train,\n",
        "                    epochs=7,\n",
        "                    batch_size=32,\n",
        "                    validation_split=0.2)"
      ],
      "metadata": {
        "colab": {
          "base_uri": "https://localhost:8080/"
        },
        "id": "0OkKFRVk6Tjy",
        "outputId": "c075d61a-d08c-4315-a319-9ae151f46a4a"
      },
      "execution_count": null,
      "outputs": [
        {
          "output_type": "stream",
          "name": "stdout",
          "text": [
            "Model: \"sequential_5\"\n",
            "_________________________________________________________________\n",
            " Layer (type)                Output Shape              Param #   \n",
            "=================================================================\n",
            " embedding_5 (Embedding)     (None, None, 100)         1000000   \n",
            "                                                                 \n",
            " bidirectional_1 (Bidirectio  (None, 64)               34048     \n",
            " nal)                                                            \n",
            "                                                                 \n",
            " dense_25 (Dense)            (None, 128)               8320      \n",
            "                                                                 \n",
            " dense_26 (Dense)            (None, 64)                8256      \n",
            "                                                                 \n",
            " dropout_10 (Dropout)        (None, 64)                0         \n",
            "                                                                 \n",
            " dense_27 (Dense)            (None, 32)                2080      \n",
            "                                                                 \n",
            " dense_28 (Dense)            (None, 16)                528       \n",
            "                                                                 \n",
            " dropout_11 (Dropout)        (None, 16)                0         \n",
            "                                                                 \n",
            " dense_29 (Dense)            (None, 1)                 17        \n",
            "                                                                 \n",
            "=================================================================\n",
            "Total params: 1,053,249\n",
            "Trainable params: 53,249\n",
            "Non-trainable params: 1,000,000\n",
            "_________________________________________________________________\n",
            "Epoch 1/7\n",
            "233/233 [==============================] - 6s 12ms/step - loss: 0.5160 - acc: 0.7598 - val_loss: 0.4623 - val_acc: 0.7917\n",
            "Epoch 2/7\n",
            "233/233 [==============================] - 2s 9ms/step - loss: 0.4552 - acc: 0.8010 - val_loss: 0.4218 - val_acc: 0.8181\n",
            "Epoch 3/7\n",
            "233/233 [==============================] - 2s 9ms/step - loss: 0.4301 - acc: 0.8154 - val_loss: 0.4267 - val_acc: 0.8186\n",
            "Epoch 4/7\n",
            "233/233 [==============================] - 2s 9ms/step - loss: 0.4018 - acc: 0.8280 - val_loss: 0.4303 - val_acc: 0.7939\n",
            "Epoch 5/7\n",
            "233/233 [==============================] - 2s 9ms/step - loss: 0.3819 - acc: 0.8369 - val_loss: 0.3999 - val_acc: 0.8326\n",
            "Epoch 6/7\n",
            "233/233 [==============================] - 2s 9ms/step - loss: 0.3514 - acc: 0.8537 - val_loss: 0.4220 - val_acc: 0.8186\n",
            "Epoch 7/7\n",
            "233/233 [==============================] - 2s 9ms/step - loss: 0.3212 - acc: 0.8677 - val_loss: 0.4645 - val_acc: 0.8154\n"
          ]
        }
      ]
    },
    {
      "cell_type": "code",
      "source": [
        "acc = history.history['acc']\n",
        "val_acc = history.history['val_acc']\n",
        "loss = history.history['loss']\n",
        "val_loss = history.history['val_loss']\n",
        "\n",
        "epochs = range(len(acc))\n",
        "\n",
        "plt.plot(epochs, acc, 'r', label='Training acc')\n",
        "plt.plot(epochs, val_acc, 'g', label='Validation acc')\n",
        "plt.title('Training and validation accuracy of Experiment #12')\n",
        "plt.legend()\n",
        "\n",
        "plt.figure()\n",
        "plt.show()"
      ],
      "metadata": {
        "colab": {
          "base_uri": "https://localhost:8080/",
          "height": 298
        },
        "id": "2VooAK_J6pAF",
        "outputId": "ae4793d7-b9ee-478b-b637-ef6979ecf12b"
      },
      "execution_count": null,
      "outputs": [
        {
          "output_type": "display_data",
          "data": {
            "text/plain": [
              "<Figure size 432x288 with 1 Axes>"
            ],
            "image/png": "[encoded data removed]"
          },
          "metadata": {
            "needs_background": "light"
          }
        },
        {
          "output_type": "display_data",
          "data": {
            "text/plain": [
              "<Figure size 432x288 with 0 Axes>"
            ]
          },
          "metadata": {}
        }
      ]
    },
    {
      "cell_type": "code",
      "source": [
        "y_pred = model.predict(X_test)\n",
        "performanceArray = pickle.load(open('/content/gdrive/MyDrive/MachineLearning/disaster_tweets/outputs/performance2.pkl', 'rb'))\n",
        "\n",
        "accuracy = accuracy_score(y_test,y_pred.round())\n",
        "precision = precision_score(y_test,y_pred.round())\n",
        "recall=recall_score(y_test,y_pred.round())\n",
        "f1 = f1_score(y_test,y_pred.round())\n",
        "performanceArray.append([accuracy,precision,recall,f1])\n",
        "print('Experiment#12--> Accuracy: ',accuracy,' \\tPrecision: ',precision,'\\tRecall: ',recall,'\\tF1-Score: ',f1)\n",
        "\n",
        "# In order to store the performance( accuracy, precision, recall and F1) of each experiment \n",
        "pickle.dump(performanceArray, open('/content/gdrive/MyDrive/MachineLearning/disaster_tweets/outputs/performance2.pkl', 'wb'))\n"
      ],
      "metadata": {
        "colab": {
          "base_uri": "https://localhost:8080/"
        },
        "id": "Ehn5jqCb6rLD",
        "outputId": "a173b317-df23-4115-e928-cdd3fc9bbe94"
      },
      "execution_count": null,
      "outputs": [
        {
          "output_type": "stream",
          "name": "stdout",
          "text": [
            "73/73 [==============================] - 1s 3ms/step\n",
            "Experiment#12--> Accuracy:  0.7804563065002152  \tPrecision:  0.7136563876651982 \tRecall:  0.8140703517587939 \tF1-Score:  0.7605633802816901\n"
          ]
        }
      ]
    },
    {
      "cell_type": "markdown",
      "source": [
        "**Experiment-7: LSTM with an embedding layer and two hidden layers (128,64, 32,16) by Using Glove-twitter with 100d, keeping max feature size = 10000 and max length of each tweet 30 words**"
      ],
      "metadata": {
        "id": "-PtGb45g63jk"
      }
    },
    {
      "cell_type": "code",
      "source": [
        "path_to_glove_file = \"/content/gdrive/MyDrive/MachineLearning/disaster_tweets/glove.twitter.27B.100d.txt\"\n",
        "embeddings_index = {}\n",
        "with open(path_to_glove_file) as f:\n",
        "    for line in f:\n",
        "        word, coefs = line.split(maxsplit=1)\n",
        "        coefs = np.fromstring(coefs, \"f\", sep=\" \")\n",
        "        embeddings_index[word] = coefs\n",
        "\n",
        "embedding_dim = 100\n",
        "\n",
        "word_index = dict(zip(vocabulary, range(len(vocabulary))))\n",
        "\n",
        "embedding_matrix = np.zeros((10000, embedding_dim))\n",
        "for word, i in word_index.items():\n",
        "    if i <10000:\n",
        "        embedding_vector = embeddings_index.get(word)\n",
        "    if embedding_vector is not None:\n",
        "        embedding_matrix[i] = embedding_vector"
      ],
      "metadata": {
        "id": "TzFoOyJR6z8B"
      },
      "execution_count": null,
      "outputs": []
    },
    {
      "cell_type": "code",
      "source": [
        "\n",
        "\n",
        "model = Sequential()\n",
        "model.add(Embedding(10000, 100,embeddings_initializer=keras.initializers.Constant(embedding_matrix),\n",
        "    trainable=False,))\n",
        "\n",
        "model.add(Bidirectional(LSTM(32)))\n",
        "model.add(Dense(128, activation='relu'))\n",
        "model.add(Dense(64, activation='relu'))\n",
        "model.add(Dropout(0.2))\n",
        "model.add(Dense(32, activation='relu'))\n",
        "model.add(Dense(16, activation='relu'))\n",
        "model.add(Dropout(0.2))\n",
        "model.add(Dense(1, activation='sigmoid'))\n",
        "model.compile(optimizer='rmsprop', loss='binary_crossentropy', metrics=['acc'])\n",
        "model.summary()\n",
        "history = model.fit(X_train, y_train,\n",
        "                    epochs=5,\n",
        "                    batch_size=32,\n",
        "                    validation_split=0.2)"
      ],
      "metadata": {
        "colab": {
          "base_uri": "https://localhost:8080/"
        },
        "id": "_I8ThbWZ66tZ",
        "outputId": "06a90f8f-956a-44bd-9725-c64e6542b7fa"
      },
      "execution_count": null,
      "outputs": [
        {
          "output_type": "stream",
          "name": "stdout",
          "text": [
            "Model: \"sequential_6\"\n",
            "_________________________________________________________________\n",
            " Layer (type)                Output Shape              Param #   \n",
            "=================================================================\n",
            " embedding_6 (Embedding)     (None, None, 100)         1000000   \n",
            "                                                                 \n",
            " bidirectional_2 (Bidirectio  (None, 64)               34048     \n",
            " nal)                                                            \n",
            "                                                                 \n",
            " dense_30 (Dense)            (None, 128)               8320      \n",
            "                                                                 \n",
            " dense_31 (Dense)            (None, 64)                8256      \n",
            "                                                                 \n",
            " dropout_12 (Dropout)        (None, 64)                0         \n",
            "                                                                 \n",
            " dense_32 (Dense)            (None, 32)                2080      \n",
            "                                                                 \n",
            " dense_33 (Dense)            (None, 16)                528       \n",
            "                                                                 \n",
            " dropout_13 (Dropout)        (None, 16)                0         \n",
            "                                                                 \n",
            " dense_34 (Dense)            (None, 1)                 17        \n",
            "                                                                 \n",
            "=================================================================\n",
            "Total params: 1,053,249\n",
            "Trainable params: 53,249\n",
            "Non-trainable params: 1,000,000\n",
            "_________________________________________________________________\n",
            "Epoch 1/5\n",
            "233/233 [==============================] - 6s 13ms/step - loss: 0.5167 - acc: 0.7664 - val_loss: 0.4386 - val_acc: 0.7869\n",
            "Epoch 2/5\n",
            "233/233 [==============================] - 2s 9ms/step - loss: 0.4470 - acc: 0.8072 - val_loss: 0.4532 - val_acc: 0.8186\n",
            "Epoch 3/5\n",
            "233/233 [==============================] - 2s 10ms/step - loss: 0.4133 - acc: 0.8190 - val_loss: 0.4303 - val_acc: 0.8062\n",
            "Epoch 4/5\n",
            "233/233 [==============================] - 2s 10ms/step - loss: 0.3867 - acc: 0.8306 - val_loss: 0.3919 - val_acc: 0.8294\n",
            "Epoch 5/5\n",
            "233/233 [==============================] - 2s 10ms/step - loss: 0.3570 - acc: 0.8453 - val_loss: 0.4974 - val_acc: 0.7836\n"
          ]
        }
      ]
    },
    {
      "cell_type": "code",
      "source": [
        "acc = history.history['acc']\n",
        "val_acc = history.history['val_acc']\n",
        "loss = history.history['loss']\n",
        "val_loss = history.history['val_loss']\n",
        "\n",
        "epochs = range(len(acc))\n",
        "\n",
        "plt.plot(epochs, acc, 'r', label='Training acc')\n",
        "plt.plot(epochs, val_acc, 'g', label='Validation acc')\n",
        "plt.title('Training and validation accuracy of Experiment #12')\n",
        "plt.legend()\n",
        "\n",
        "plt.figure()\n",
        "plt.show()"
      ],
      "metadata": {
        "colab": {
          "base_uri": "https://localhost:8080/",
          "height": 298
        },
        "id": "RtGgZGiZ6-gD",
        "outputId": "2f7078d6-d80f-4936-a6f2-322ff5b6937b"
      },
      "execution_count": null,
      "outputs": [
        {
          "output_type": "display_data",
          "data": {
            "text/plain": [
              "<Figure size 432x288 with 1 Axes>"
            ],
            "image/png": "[encoded data removed]"
          },
          "metadata": {
            "needs_background": "light"
          }
        },
        {
          "output_type": "display_data",
          "data": {
            "text/plain": [
              "<Figure size 432x288 with 0 Axes>"
            ]
          },
          "metadata": {}
        }
      ]
    },
    {
      "cell_type": "code",
      "source": [
        "y_pred = model.predict(X_test)\n",
        "performanceArray = pickle.load(open('/content/gdrive/MyDrive/MachineLearning/disaster_tweets/outputs/performance2.pkl', 'rb'))\n",
        "\n",
        "accuracy = accuracy_score(y_test,y_pred.round())\n",
        "precision = precision_score(y_test,y_pred.round())\n",
        "recall=recall_score(y_test,y_pred.round())\n",
        "f1 = f1_score(y_test,y_pred.round())\n",
        "performanceArray.append([accuracy,precision,recall,f1])\n",
        "print('Experiment#12--> Accuracy: ',accuracy,' \\tPrecision: ',precision,'\\tRecall: ',recall,'\\tF1-Score: ',f1)\n",
        "\n",
        "# In order to store the performance( accuracy, precision, recall and F1) of each experiment \n",
        "pickle.dump(performanceArray, open('/content/gdrive/MyDrive/MachineLearning/disaster_tweets/outputs/performance2.pkl', 'wb'))\n"
      ],
      "metadata": {
        "colab": {
          "base_uri": "https://localhost:8080/"
        },
        "id": "lC1GePNX7G-H",
        "outputId": "d5e94d0d-4103-4a19-da74-a1da7a95aaaa"
      },
      "execution_count": null,
      "outputs": [
        {
          "output_type": "stream",
          "name": "stdout",
          "text": [
            "73/73 [==============================] - 1s 3ms/step\n",
            "Experiment#12--> Accuracy:  0.7636676711149376  \tPrecision:  0.935546875 \tRecall:  0.4814070351758794 \tF1-Score:  0.6357000663570006\n"
          ]
        }
      ]
    },
    {
      "cell_type": "markdown",
      "source": [
        "**Experiment-8: LSTM with an embedding layer and two hidden layers (128,64, 32,16) by Using fastex with 300d, keeping max feature size = 10000 and max length of each tweet 30 words**\n"
      ],
      "metadata": {
        "id": "GX34yNNo7WaI"
      }
    },
    {
      "cell_type": "code",
      "source": [
        "path_to_glove_file = \"/content/gdrive/MyDrive/MachineLearning/disaster_tweets/wiki-news-300d-1M.vec\"\n",
        "\n",
        "embeddings_index = {}\n",
        "with open(path_to_glove_file) as f:\n",
        "    for line in f:\n",
        "        word, coefs = line.split(maxsplit=1)\n",
        "        coefs = np.fromstring(coefs, \"f\", sep=\" \")\n",
        "        embeddings_index[word] = coefs\n",
        "\n",
        "embedding_dim = 300\n",
        "\n",
        "word_index = dict(zip(vocabulary, range(len(vocabulary))))\n",
        "\n",
        "embedding_matrix = np.zeros((10000, embedding_dim))\n",
        "for word, i in word_index.items():\n",
        "    if i <10000:\n",
        "        embedding_vector = embeddings_index.get(word)\n",
        "    if embedding_vector is not None:\n",
        "        embedding_matrix[i] = embedding_vector"
      ],
      "metadata": {
        "id": "zLGbIAwM7LiJ"
      },
      "execution_count": null,
      "outputs": []
    },
    {
      "cell_type": "code",
      "source": [
        "\n",
        "model = Sequential()\n",
        "model.add(Embedding(10000, 300,embeddings_initializer=keras.initializers.Constant(embedding_matrix),\n",
        "    trainable=False,))\n",
        "\n",
        "model.add(Bidirectional(LSTM(32)))\n",
        "model.add(Dense(128, activation='relu'))\n",
        "model.add(Dense(64, activation='relu'))\n",
        "model.add(Dropout(0.2))\n",
        "model.add(Dense(32, activation='relu'))\n",
        "model.add(Dense(16, activation='relu'))\n",
        "model.add(Dropout(0.2))\n",
        "model.add(Dense(1, activation='sigmoid'))\n",
        "model.compile(optimizer='rmsprop', loss='binary_crossentropy', metrics=['acc'])\n",
        "model.summary()\n",
        "history = model.fit(X_train, y_train,\n",
        "                    epochs=7,\n",
        "                    batch_size=32,\n",
        "                    validation_split=0.2)"
      ],
      "metadata": {
        "colab": {
          "base_uri": "https://localhost:8080/"
        },
        "id": "rPRbM7TD7tJG",
        "outputId": "ad33153e-7ccd-45d3-95d3-3e12f44fdc4a"
      },
      "execution_count": null,
      "outputs": [
        {
          "output_type": "stream",
          "name": "stdout",
          "text": [
            "Model: \"sequential_7\"\n",
            "_________________________________________________________________\n",
            " Layer (type)                Output Shape              Param #   \n",
            "=================================================================\n",
            " embedding_7 (Embedding)     (None, None, 300)         3000000   \n",
            "                                                                 \n",
            " bidirectional_3 (Bidirectio  (None, 64)               85248     \n",
            " nal)                                                            \n",
            "                                                                 \n",
            " dense_35 (Dense)            (None, 128)               8320      \n",
            "                                                                 \n",
            " dense_36 (Dense)            (None, 64)                8256      \n",
            "                                                                 \n",
            " dropout_14 (Dropout)        (None, 64)                0         \n",
            "                                                                 \n",
            " dense_37 (Dense)            (None, 32)                2080      \n",
            "                                                                 \n",
            " dense_38 (Dense)            (None, 16)                528       \n",
            "                                                                 \n",
            " dropout_15 (Dropout)        (None, 16)                0         \n",
            "                                                                 \n",
            " dense_39 (Dense)            (None, 1)                 17        \n",
            "                                                                 \n",
            "=================================================================\n",
            "Total params: 3,104,449\n",
            "Trainable params: 104,449\n",
            "Non-trainable params: 3,000,000\n",
            "_________________________________________________________________\n",
            "Epoch 1/7\n",
            "233/233 [==============================] - 7s 13ms/step - loss: 0.5157 - acc: 0.7651 - val_loss: 0.4236 - val_acc: 0.8138\n",
            "Epoch 2/7\n",
            "233/233 [==============================] - 2s 10ms/step - loss: 0.4460 - acc: 0.8111 - val_loss: 0.4301 - val_acc: 0.8100\n",
            "Epoch 3/7\n",
            "233/233 [==============================] - 2s 9ms/step - loss: 0.4191 - acc: 0.8244 - val_loss: 0.4013 - val_acc: 0.8278\n",
            "Epoch 4/7\n",
            "233/233 [==============================] - 2s 9ms/step - loss: 0.4024 - acc: 0.8318 - val_loss: 0.4797 - val_acc: 0.7557\n",
            "Epoch 5/7\n",
            "233/233 [==============================] - 2s 9ms/step - loss: 0.3783 - acc: 0.8423 - val_loss: 0.4208 - val_acc: 0.8149\n",
            "Epoch 6/7\n",
            "233/233 [==============================] - 2s 10ms/step - loss: 0.3534 - acc: 0.8523 - val_loss: 0.3941 - val_acc: 0.8272\n",
            "Epoch 7/7\n",
            "233/233 [==============================] - 2s 9ms/step - loss: 0.3347 - acc: 0.8642 - val_loss: 0.4305 - val_acc: 0.8213\n"
          ]
        }
      ]
    },
    {
      "cell_type": "code",
      "source": [
        "acc = history.history['acc']\n",
        "val_acc = history.history['val_acc']\n",
        "loss = history.history['loss']\n",
        "val_loss = history.history['val_loss']\n",
        "\n",
        "epochs = range(len(acc))\n",
        "\n",
        "plt.plot(epochs, acc, 'r', label='Training acc')\n",
        "plt.plot(epochs, val_acc, 'g', label='Validation acc')\n",
        "plt.title('Training and validation accuracy of Experiment #15')\n",
        "plt.legend()\n",
        "\n",
        "plt.figure()\n",
        "plt.show()"
      ],
      "metadata": {
        "colab": {
          "base_uri": "https://localhost:8080/",
          "height": 298
        },
        "id": "r3snnNvB7v9r",
        "outputId": "9824d282-f553-4bcf-8197-f2113fa8406e"
      },
      "execution_count": null,
      "outputs": [
        {
          "output_type": "display_data",
          "data": {
            "text/plain": [
              "<Figure size 432x288 with 1 Axes>"
            ],
            "image/png": "[encoded data removed]"
          },
          "metadata": {
            "needs_background": "light"
          }
        },
        {
          "output_type": "display_data",
          "data": {
            "text/plain": [
              "<Figure size 432x288 with 0 Axes>"
            ]
          },
          "metadata": {}
        }
      ]
    },
    {
      "cell_type": "code",
      "source": [
        "y_pred = model.predict(X_test)\n",
        "performanceArray = pickle.load(open('/content/gdrive/MyDrive/MachineLearning/disaster_tweets/outputs/performance2.pkl', 'rb'))\n",
        "\n",
        "accuracy = accuracy_score(y_test,y_pred.round())\n",
        "precision = precision_score(y_test,y_pred.round())\n",
        "recall=recall_score(y_test,y_pred.round())\n",
        "f1 = f1_score(y_test,y_pred.round())\n",
        "performanceArray.append([accuracy,precision,recall,f1])\n",
        "print('Experiment#15--> Accuracy: ',accuracy,' \\tPrecision: ',precision,'\\tRecall: ',recall,'\\tF1-Score: ',f1)\n",
        "\n",
        "# In order to store the performance( accuracy, precision, recall and F1) of each experiment \n",
        "pickle.dump(performanceArray, open('/content/gdrive/MyDrive/MachineLearning/disaster_tweets/outputs/performance2.pkl', 'wb'))"
      ],
      "metadata": {
        "colab": {
          "base_uri": "https://localhost:8080/"
        },
        "id": "B5h_ePFT7ygY",
        "outputId": "e3770ee7-348d-4cf4-d4d9-dc9c8d2e20a6"
      },
      "execution_count": null,
      "outputs": [
        {
          "output_type": "stream",
          "name": "stdout",
          "text": [
            "73/73 [==============================] - 1s 3ms/step\n",
            "Experiment#15--> Accuracy:  0.7795953508394318  \tPrecision:  0.7276154571159283 \tRecall:  0.7758793969849246 \tF1-Score:  0.7509727626459143\n"
          ]
        }
      ]
    },
    {
      "cell_type": "markdown",
      "source": [
        "WORKING ON BERT\n"
      ],
      "metadata": {
        "id": "dVxH9gDO8BO3"
      }
    },
    {
      "cell_type": "code",
      "source": [
        "!pip install tensorflow-text\n"
      ],
      "metadata": {
        "id": "jIFSYElpo0vy",
        "colab": {
          "base_uri": "https://localhost:8080/",
          "height": 1000
        },
        "outputId": "e00d3357-aa48-404b-f8d6-240101e0b50a"
      },
      "execution_count": null,
      "outputs": [
        {
          "output_type": "stream",
          "name": "stdout",
          "text": [
            "Looking in indexes: https://pypi.org/simple, https://us-python.pkg.dev/colab-wheels/public/simple/\n",
            "Collecting tensorflow-text\n",
            "  Downloading tensorflow_text-2.11.0-cp38-cp38-manylinux_2_17_x86_64.manylinux2014_x86_64.whl (5.8 MB)\n",
            "\u001b[K     |████████████████████████████████| 5.8 MB 15.0 MB/s \n",
            "\u001b[?25hCollecting tensorflow<2.12,>=2.11.0\n",
            "  Downloading tensorflow-2.11.0-cp38-cp38-manylinux_2_17_x86_64.manylinux2014_x86_64.whl (588.3 MB)\n",
            "\u001b[K     |████████████████████████████████| 588.3 MB 22 kB/s \n",
            "\u001b[?25hRequirement already satisfied: tensorflow-hub>=0.8.0 in /usr/local/lib/python3.8/dist-packages (from tensorflow-text) (0.12.0)\n",
            "Requirement already satisfied: typing-extensions>=3.6.6 in /usr/local/lib/python3.8/dist-packages (from tensorflow<2.12,>=2.11.0->tensorflow-text) (4.1.1)\n",
            "Collecting flatbuffers>=2.0\n",
            "  Downloading flatbuffers-22.11.23-py2.py3-none-any.whl (26 kB)\n",
            "Requirement already satisfied: tensorflow-io-gcs-filesystem>=0.23.1 in /usr/local/lib/python3.8/dist-packages (from tensorflow<2.12,>=2.11.0->tensorflow-text) (0.28.0)\n",
            "Requirement already satisfied: six>=1.12.0 in /usr/local/lib/python3.8/dist-packages (from tensorflow<2.12,>=2.11.0->tensorflow-text) (1.15.0)\n",
            "Requirement already satisfied: gast<=0.4.0,>=0.2.1 in /usr/local/lib/python3.8/dist-packages (from tensorflow<2.12,>=2.11.0->tensorflow-text) (0.4.0)\n",
            "Requirement already satisfied: numpy>=1.20 in /usr/local/lib/python3.8/dist-packages (from tensorflow<2.12,>=2.11.0->tensorflow-text) (1.21.6)\n",
            "Requirement already satisfied: grpcio<2.0,>=1.24.3 in /usr/local/lib/python3.8/dist-packages (from tensorflow<2.12,>=2.11.0->tensorflow-text) (1.50.0)\n",
            "Requirement already satisfied: packaging in /usr/local/lib/python3.8/dist-packages (from tensorflow<2.12,>=2.11.0->tensorflow-text) (21.3)\n",
            "Requirement already satisfied: setuptools in /usr/local/lib/python3.8/dist-packages (from tensorflow<2.12,>=2.11.0->tensorflow-text) (57.4.0)\n",
            "Requirement already satisfied: absl-py>=1.0.0 in /usr/local/lib/python3.8/dist-packages (from tensorflow<2.12,>=2.11.0->tensorflow-text) (1.3.0)\n",
            "Requirement already satisfied: opt-einsum>=2.3.2 in /usr/local/lib/python3.8/dist-packages (from tensorflow<2.12,>=2.11.0->tensorflow-text) (3.3.0)\n",
            "Requirement already satisfied: astunparse>=1.6.0 in /usr/local/lib/python3.8/dist-packages (from tensorflow<2.12,>=2.11.0->tensorflow-text) (1.6.3)\n",
            "Requirement already satisfied: termcolor>=1.1.0 in /usr/local/lib/python3.8/dist-packages (from tensorflow<2.12,>=2.11.0->tensorflow-text) (2.1.1)\n",
            "Collecting keras<2.12,>=2.11.0\n",
            "  Downloading keras-2.11.0-py2.py3-none-any.whl (1.7 MB)\n",
            "\u001b[K     |████████████████████████████████| 1.7 MB 70.6 MB/s \n",
            "\u001b[?25hRequirement already satisfied: wrapt>=1.11.0 in /usr/local/lib/python3.8/dist-packages (from tensorflow<2.12,>=2.11.0->tensorflow-text) (1.14.1)\n",
            "Collecting tensorflow-estimator<2.12,>=2.11.0\n",
            "  Downloading tensorflow_estimator-2.11.0-py2.py3-none-any.whl (439 kB)\n",
            "\u001b[K     |████████████████████████████████| 439 kB 71.5 MB/s \n",
            "\u001b[?25hRequirement already satisfied: protobuf<3.20,>=3.9.2 in /usr/local/lib/python3.8/dist-packages (from tensorflow<2.12,>=2.11.0->tensorflow-text) (3.19.6)\n",
            "Requirement already satisfied: h5py>=2.9.0 in /usr/local/lib/python3.8/dist-packages (from tensorflow<2.12,>=2.11.0->tensorflow-text) (3.1.0)\n",
            "Collecting tensorboard<2.12,>=2.11\n",
            "  Downloading tensorboard-2.11.0-py3-none-any.whl (6.0 MB)\n",
            "\u001b[K     |████████████████████████████████| 6.0 MB 47.0 MB/s \n",
            "\u001b[?25hRequirement already satisfied: libclang>=13.0.0 in /usr/local/lib/python3.8/dist-packages (from tensorflow<2.12,>=2.11.0->tensorflow-text) (14.0.6)\n",
            "Requirement already satisfied: google-pasta>=0.1.1 in /usr/local/lib/python3.8/dist-packages (from tensorflow<2.12,>=2.11.0->tensorflow-text) (0.2.0)\n",
            "Requirement already satisfied: wheel<1.0,>=0.23.0 in /usr/local/lib/python3.8/dist-packages (from astunparse>=1.6.0->tensorflow<2.12,>=2.11.0->tensorflow-text) (0.38.4)\n",
            "Requirement already satisfied: requests<3,>=2.21.0 in /usr/local/lib/python3.8/dist-packages (from tensorboard<2.12,>=2.11->tensorflow<2.12,>=2.11.0->tensorflow-text) (2.23.0)\n",
            "Requirement already satisfied: tensorboard-data-server<0.7.0,>=0.6.0 in /usr/local/lib/python3.8/dist-packages (from tensorboard<2.12,>=2.11->tensorflow<2.12,>=2.11.0->tensorflow-text) (0.6.1)\n",
            "Requirement already satisfied: tensorboard-plugin-wit>=1.6.0 in /usr/local/lib/python3.8/dist-packages (from tensorboard<2.12,>=2.11->tensorflow<2.12,>=2.11.0->tensorflow-text) (1.8.1)\n",
            "Requirement already satisfied: google-auth<3,>=1.6.3 in /usr/local/lib/python3.8/dist-packages (from tensorboard<2.12,>=2.11->tensorflow<2.12,>=2.11.0->tensorflow-text) (2.14.1)\n",
            "Requirement already satisfied: markdown>=2.6.8 in /usr/local/lib/python3.8/dist-packages (from tensorboard<2.12,>=2.11->tensorflow<2.12,>=2.11.0->tensorflow-text) (3.4.1)\n",
            "Requirement already satisfied: google-auth-oauthlib<0.5,>=0.4.1 in /usr/local/lib/python3.8/dist-packages (from tensorboard<2.12,>=2.11->tensorflow<2.12,>=2.11.0->tensorflow-text) (0.4.6)\n",
            "Requirement already satisfied: werkzeug>=1.0.1 in /usr/local/lib/python3.8/dist-packages (from tensorboard<2.12,>=2.11->tensorflow<2.12,>=2.11.0->tensorflow-text) (1.0.1)\n",
            "Requirement already satisfied: cachetools<6.0,>=2.0.0 in /usr/local/lib/python3.8/dist-packages (from google-auth<3,>=1.6.3->tensorboard<2.12,>=2.11->tensorflow<2.12,>=2.11.0->tensorflow-text) (5.2.0)\n",
            "Requirement already satisfied: rsa<5,>=3.1.4 in /usr/local/lib/python3.8/dist-packages (from google-auth<3,>=1.6.3->tensorboard<2.12,>=2.11->tensorflow<2.12,>=2.11.0->tensorflow-text) (4.9)\n",
            "Requirement already satisfied: pyasn1-modules>=0.2.1 in /usr/local/lib/python3.8/dist-packages (from google-auth<3,>=1.6.3->tensorboard<2.12,>=2.11->tensorflow<2.12,>=2.11.0->tensorflow-text) (0.2.8)\n",
            "Requirement already satisfied: requests-oauthlib>=0.7.0 in /usr/local/lib/python3.8/dist-packages (from google-auth-oauthlib<0.5,>=0.4.1->tensorboard<2.12,>=2.11->tensorflow<2.12,>=2.11.0->tensorflow-text) (1.3.1)\n",
            "Requirement already satisfied: importlib-metadata>=4.4 in /usr/local/lib/python3.8/dist-packages (from markdown>=2.6.8->tensorboard<2.12,>=2.11->tensorflow<2.12,>=2.11.0->tensorflow-text) (4.13.0)\n",
            "Requirement already satisfied: zipp>=0.5 in /usr/local/lib/python3.8/dist-packages (from importlib-metadata>=4.4->markdown>=2.6.8->tensorboard<2.12,>=2.11->tensorflow<2.12,>=2.11.0->tensorflow-text) (3.10.0)\n",
            "Requirement already satisfied: pyasn1<0.5.0,>=0.4.6 in /usr/local/lib/python3.8/dist-packages (from pyasn1-modules>=0.2.1->google-auth<3,>=1.6.3->tensorboard<2.12,>=2.11->tensorflow<2.12,>=2.11.0->tensorflow-text) (0.4.8)\n",
            "Requirement already satisfied: urllib3!=1.25.0,!=1.25.1,<1.26,>=1.21.1 in /usr/local/lib/python3.8/dist-packages (from requests<3,>=2.21.0->tensorboard<2.12,>=2.11->tensorflow<2.12,>=2.11.0->tensorflow-text) (1.24.3)\n",
            "Requirement already satisfied: certifi>=2017.4.17 in /usr/local/lib/python3.8/dist-packages (from requests<3,>=2.21.0->tensorboard<2.12,>=2.11->tensorflow<2.12,>=2.11.0->tensorflow-text) (2022.9.24)\n",
            "Requirement already satisfied: chardet<4,>=3.0.2 in /usr/local/lib/python3.8/dist-packages (from requests<3,>=2.21.0->tensorboard<2.12,>=2.11->tensorflow<2.12,>=2.11.0->tensorflow-text) (3.0.4)\n",
            "Requirement already satisfied: idna<3,>=2.5 in /usr/local/lib/python3.8/dist-packages (from requests<3,>=2.21.0->tensorboard<2.12,>=2.11->tensorflow<2.12,>=2.11.0->tensorflow-text) (2.10)\n",
            "Requirement already satisfied: oauthlib>=3.0.0 in /usr/local/lib/python3.8/dist-packages (from requests-oauthlib>=0.7.0->google-auth-oauthlib<0.5,>=0.4.1->tensorboard<2.12,>=2.11->tensorflow<2.12,>=2.11.0->tensorflow-text) (3.2.2)\n",
            "Requirement already satisfied: pyparsing!=3.0.5,>=2.0.2 in /usr/local/lib/python3.8/dist-packages (from packaging->tensorflow<2.12,>=2.11.0->tensorflow-text) (3.0.9)\n",
            "Installing collected packages: tensorflow-estimator, tensorboard, keras, flatbuffers, tensorflow, tensorflow-text\n",
            "  Attempting uninstall: tensorflow-estimator\n",
            "    Found existing installation: tensorflow-estimator 2.9.0\n",
            "    Uninstalling tensorflow-estimator-2.9.0:\n",
            "      Successfully uninstalled tensorflow-estimator-2.9.0\n",
            "  Attempting uninstall: tensorboard\n",
            "    Found existing installation: tensorboard 2.9.1\n",
            "    Uninstalling tensorboard-2.9.1:\n",
            "      Successfully uninstalled tensorboard-2.9.1\n",
            "  Attempting uninstall: keras\n",
            "    Found existing installation: keras 2.9.0\n",
            "    Uninstalling keras-2.9.0:\n",
            "      Successfully uninstalled keras-2.9.0\n",
            "  Attempting uninstall: flatbuffers\n",
            "    Found existing installation: flatbuffers 1.12\n",
            "    Uninstalling flatbuffers-1.12:\n",
            "      Successfully uninstalled flatbuffers-1.12\n",
            "  Attempting uninstall: tensorflow\n",
            "    Found existing installation: tensorflow 2.9.2\n",
            "    Uninstalling tensorflow-2.9.2:\n",
            "      Successfully uninstalled tensorflow-2.9.2\n",
            "Successfully installed flatbuffers-22.11.23 keras-2.11.0 tensorboard-2.11.0 tensorflow-2.11.0 tensorflow-estimator-2.11.0 tensorflow-text-2.11.0\n"
          ]
        },
        {
          "output_type": "display_data",
          "data": {
            "application/vnd.colab-display-data+json": {
              "pip_warning": {
                "packages": [
                  "flatbuffers",
                  "keras",
                  "tensorboard",
                  "tensorflow"
                ]
              }
            }
          },
          "metadata": {}
        }
      ]
    },
    {
      "cell_type": "code",
      "source": [
        "import tensorflow as tf\n",
        "import tensorflow_hub as hub\n",
        "import tensorflow_text as text"
      ],
      "metadata": {
        "id": "vXIfEqqu74gE"
      },
      "execution_count": null,
      "outputs": []
    },
    {
      "cell_type": "code",
      "source": [
        "preprocess = hub.KerasLayer(\"https://tfhub.dev/tensorflow/bert_en_uncased_preprocess/3\")\n",
        "encoder = hub.KerasLayer(\"https://tfhub.dev/tensorflow/bert_en_uncased_L-12_H-768_A-12/4\")\n"
      ],
      "metadata": {
        "id": "UI_wNO428L9y",
        "colab": {
          "base_uri": "https://localhost:8080/"
        },
        "outputId": "903e4aff-0ba1-4b6b-e936-0ed7c0a9465a"
      },
      "execution_count": null,
      "outputs": [
        {
          "output_type": "stream",
          "name": "stderr",
          "text": [
            "WARNING:tensorflow:Please fix your imports. Module tensorflow.python.training.tracking.data_structures has been moved to tensorflow.python.trackable.data_structures. The old module will be deleted in version 2.11.\n"
          ]
        }
      ]
    },
    {
      "cell_type": "code",
      "source": [
        "text_input = tf.keras.layers.Input(shape=(), dtype=tf.string, name='text-layer')\n",
        "preprocessed_text = preprocess(text_input)\n",
        "outputs = encoder(preprocessed_text)\n",
        "d_layer = tf.keras.layers.Dense(128, name=\"dense-layer1\")(outputs['pooled_output'])\n",
        "d_layer = tf.keras.layers.Dropout(0.2, name=\"dropout-layer1\")(d_layer)\n",
        "d_layer = tf.keras.layers.Dense(64, name=\"dense-layer2\")(d_layer)\n",
        "d_layer = tf.keras.layers.Dropout(0.2, name=\"dropout-layer2\")(d_layer)\n",
        "d_layer = tf.keras.layers.Dense(32, name=\"dense-layer3\")(d_layer)\n",
        "d_layer = tf.keras.layers.Dropout(0.2, name=\"dropout-layer3\")(d_layer)\n",
        "d_layer = tf.keras.layers.Dense(16, name=\"dense-layer4\")(d_layer)\n",
        "d_layer = tf.keras.layers.Dropout(0.2, name=\"dropout-layer4\")(d_layer)\n",
        "d_layer = tf.keras.layers.Dense(1, activation='sigmoid', name=\"output\")(d_layer)\n",
        "model = tf.keras.Model(inputs=[text_input], outputs = [d_layer])"
      ],
      "metadata": {
        "id": "VRcJo-Nf8OAd",
        "colab": {
          "base_uri": "https://localhost:8080/"
        },
        "outputId": "9f5b804a-6bb4-4a29-94bd-5925afa8a0f4"
      },
      "execution_count": null,
      "outputs": [
        {
          "output_type": "stream",
          "name": "stderr",
          "text": [
            "WARNING:tensorflow:From /usr/local/lib/python3.8/dist-packages/tensorflow/python/autograph/pyct/static_analysis/liveness.py:83: Analyzer.lamba_check (from tensorflow.python.autograph.pyct.static_analysis.liveness) is deprecated and will be removed after 2023-09-23.\n",
            "Instructions for updating:\n",
            "Lambda fuctions will be no more assumed to be used in the statement where they are used, or at least in the same block. https://github.com/tensorflow/tensorflow/issues/56089\n"
          ]
        }
      ]
    },
    {
      "cell_type": "code",
      "source": [
        "model.summary()"
      ],
      "metadata": {
        "id": "fX-56E4w8Qpv",
        "colab": {
          "base_uri": "https://localhost:8080/"
        },
        "outputId": "e6eb4532-2d6c-41f9-a02d-439bbbc7c10c"
      },
      "execution_count": null,
      "outputs": [
        {
          "output_type": "stream",
          "name": "stdout",
          "text": [
            "Model: \"model\"\n",
            "__________________________________________________________________________________________________\n",
            " Layer (type)                   Output Shape         Param #     Connected to                     \n",
            "==================================================================================================\n",
            " text-layer (InputLayer)        [(None,)]            0           []                               \n",
            "                                                                                                  \n",
            " keras_layer (KerasLayer)       {'input_type_ids':   0           ['text-layer[0][0]']             \n",
            "                                (None, 128),                                                      \n",
            "                                 'input_word_ids':                                                \n",
            "                                (None, 128),                                                      \n",
            "                                 'input_mask': (Non                                               \n",
            "                                e, 128)}                                                          \n",
            "                                                                                                  \n",
            " keras_layer_1 (KerasLayer)     {'encoder_outputs':  109482241   ['keras_layer[0][0]',            \n",
            "                                 [(None, 128, 768),               'keras_layer[0][1]',            \n",
            "                                 (None, 128, 768),                'keras_layer[0][2]']            \n",
            "                                 (None, 128, 768),                                                \n",
            "                                 (None, 128, 768),                                                \n",
            "                                 (None, 128, 768),                                                \n",
            "                                 (None, 128, 768),                                                \n",
            "                                 (None, 128, 768),                                                \n",
            "                                 (None, 128, 768),                                                \n",
            "                                 (None, 128, 768),                                                \n",
            "                                 (None, 128, 768),                                                \n",
            "                                 (None, 128, 768),                                                \n",
            "                                 (None, 128, 768)],                                               \n",
            "                                 'default': (None,                                                \n",
            "                                768),                                                             \n",
            "                                 'pooled_output': (                                               \n",
            "                                None, 768),                                                       \n",
            "                                 'sequence_output':                                               \n",
            "                                 (None, 128, 768)}                                                \n",
            "                                                                                                  \n",
            " dense-layer1 (Dense)           (None, 128)          98432       ['keras_layer_1[0][13]']         \n",
            "                                                                                                  \n",
            " dropout-layer1 (Dropout)       (None, 128)          0           ['dense-layer1[0][0]']           \n",
            "                                                                                                  \n",
            " dense-layer2 (Dense)           (None, 64)           8256        ['dropout-layer1[0][0]']         \n",
            "                                                                                                  \n",
            " dropout-layer2 (Dropout)       (None, 64)           0           ['dense-layer2[0][0]']           \n",
            "                                                                                                  \n",
            " dense-layer3 (Dense)           (None, 32)           2080        ['dropout-layer2[0][0]']         \n",
            "                                                                                                  \n",
            " dropout-layer3 (Dropout)       (None, 32)           0           ['dense-layer3[0][0]']           \n",
            "                                                                                                  \n",
            " dense-layer4 (Dense)           (None, 16)           528         ['dropout-layer3[0][0]']         \n",
            "                                                                                                  \n",
            " dropout-layer4 (Dropout)       (None, 16)           0           ['dense-layer4[0][0]']           \n",
            "                                                                                                  \n",
            " output (Dense)                 (None, 1)            17          ['dropout-layer4[0][0]']         \n",
            "                                                                                                  \n",
            "==================================================================================================\n",
            "Total params: 109,591,554\n",
            "Trainable params: 109,313\n",
            "Non-trainable params: 109,482,241\n",
            "__________________________________________________________________________________________________\n"
          ]
        }
      ]
    },
    {
      "cell_type": "code",
      "source": [
        "model.compile(optimizer='rmsprop', loss='binary_crossentropy', metrics=['acc'])"
      ],
      "metadata": {
        "id": "Pog0MWAr8TSl"
      },
      "execution_count": null,
      "outputs": []
    },
    {
      "cell_type": "code",
      "source": [],
      "metadata": {
        "id": "T5q7wnFUSIQY"
      },
      "execution_count": null,
      "outputs": []
    },
    {
      "cell_type": "code",
      "source": [],
      "metadata": {
        "id": "yS1STa5zSIC0"
      },
      "execution_count": null,
      "outputs": []
    },
    {
      "cell_type": "code",
      "source": [
        "X_train = pickle.load(open('/content/gdrive/MyDrive/MachineLearning/disaster_tweets/outputs/xtrain3.pkl', 'rb'))\n",
        "X_test = pickle.load(open('/content/gdrive/MyDrive/MachineLearning/disaster_tweets/outputs/xtest3.pkl', 'rb'))\n",
        "y_train=pickle.load(open('/content/gdrive/MyDrive/MachineLearning/disaster_tweets/outputs/ytrain3.pkl', 'rb'))\n",
        "y_test=pickle.load(open('/content/gdrive/MyDrive/MachineLearning/disaster_tweets/outputs/y_test3.pkl', 'rb'))"
      ],
      "metadata": {
        "id": "_SKksPZFUhTQ"
      },
      "execution_count": null,
      "outputs": []
    },
    {
      "cell_type": "code",
      "source": [
        "history = model.fit(X_train, y_train, epochs=50, batch_size=128,\n",
        "                    validation_split = 0.2)\n"
      ],
      "metadata": {
        "id": "pNJT3iyu8Vsz",
        "colab": {
          "base_uri": "https://localhost:8080/"
        },
        "outputId": "617fd87c-35bd-4742-d0e5-dd9bd782ab82"
      },
      "execution_count": null,
      "outputs": [
        {
          "output_type": "stream",
          "name": "stdout",
          "text": [
            "Epoch 1/50\n",
            "59/59 [==============================] - 153s 2s/step - loss: 0.9797 - acc: 0.5700 - val_loss: 0.5895 - val_acc: 0.6991\n",
            "Epoch 2/50\n",
            "59/59 [==============================] - 140s 2s/step - loss: 0.7274 - acc: 0.6041 - val_loss: 0.5850 - val_acc: 0.7277\n",
            "Epoch 3/50\n",
            "59/59 [==============================] - 140s 2s/step - loss: 0.6808 - acc: 0.6249 - val_loss: 0.6349 - val_acc: 0.6394\n",
            "Epoch 4/50\n",
            "59/59 [==============================] - 139s 2s/step - loss: 0.6465 - acc: 0.6573 - val_loss: 0.8983 - val_acc: 0.5640\n",
            "Epoch 5/50\n",
            "59/59 [==============================] - 139s 2s/step - loss: 0.6405 - acc: 0.6667 - val_loss: 0.7866 - val_acc: 0.5673\n",
            "Epoch 6/50\n",
            "59/59 [==============================] - 139s 2s/step - loss: 0.6112 - acc: 0.6814 - val_loss: 0.7542 - val_acc: 0.5797\n",
            "Epoch 7/50\n",
            "59/59 [==============================] - 139s 2s/step - loss: 0.6140 - acc: 0.6865 - val_loss: 0.5633 - val_acc: 0.7191\n",
            "Epoch 8/50\n",
            "59/59 [==============================] - 141s 2s/step - loss: 0.5914 - acc: 0.7021 - val_loss: 0.6133 - val_acc: 0.6512\n",
            "Epoch 9/50\n",
            "59/59 [==============================] - 139s 2s/step - loss: 0.5898 - acc: 0.7025 - val_loss: 0.6951 - val_acc: 0.5980\n",
            "Epoch 10/50\n",
            "59/59 [==============================] - 141s 2s/step - loss: 0.5843 - acc: 0.7087 - val_loss: 0.6251 - val_acc: 0.6685\n",
            "Epoch 11/50\n",
            "59/59 [==============================] - 139s 2s/step - loss: 0.5797 - acc: 0.7137 - val_loss: 0.6121 - val_acc: 0.6615\n",
            "Epoch 12/50\n",
            "59/59 [==============================] - 139s 2s/step - loss: 0.5678 - acc: 0.7246 - val_loss: 1.3375 - val_acc: 0.4440\n",
            "Epoch 13/50\n",
            "59/59 [==============================] - 140s 2s/step - loss: 0.5729 - acc: 0.7255 - val_loss: 0.6036 - val_acc: 0.7018\n",
            "Epoch 14/50\n",
            "59/59 [==============================] - 139s 2s/step - loss: 0.5645 - acc: 0.7273 - val_loss: 0.6959 - val_acc: 0.6399\n",
            "Epoch 15/50\n",
            "59/59 [==============================] - 140s 2s/step - loss: 0.5619 - acc: 0.7266 - val_loss: 0.5543 - val_acc: 0.7325\n",
            "Epoch 16/50\n",
            "59/59 [==============================] - 139s 2s/step - loss: 0.5544 - acc: 0.7305 - val_loss: 0.8587 - val_acc: 0.5850\n",
            "Epoch 17/50\n",
            "59/59 [==============================] - 140s 2s/step - loss: 0.5581 - acc: 0.7267 - val_loss: 0.6064 - val_acc: 0.6572\n",
            "Epoch 18/50\n",
            "59/59 [==============================] - 139s 2s/step - loss: 0.5438 - acc: 0.7387 - val_loss: 0.9169 - val_acc: 0.5926\n",
            "Epoch 19/50\n",
            "59/59 [==============================] - 139s 2s/step - loss: 0.5519 - acc: 0.7368 - val_loss: 0.7095 - val_acc: 0.6093\n",
            "Epoch 20/50\n",
            "59/59 [==============================] - 140s 2s/step - loss: 0.5460 - acc: 0.7348 - val_loss: 0.5208 - val_acc: 0.7508\n",
            "Epoch 21/50\n",
            "59/59 [==============================] - 139s 2s/step - loss: 0.5447 - acc: 0.7434 - val_loss: 0.6804 - val_acc: 0.5850\n",
            "Epoch 22/50\n",
            "59/59 [==============================] - 140s 2s/step - loss: 0.5445 - acc: 0.7353 - val_loss: 0.4960 - val_acc: 0.7809\n",
            "Epoch 23/50\n",
            "59/59 [==============================] - 139s 2s/step - loss: 0.5348 - acc: 0.7439 - val_loss: 0.5382 - val_acc: 0.7465\n",
            "Epoch 24/50\n",
            "59/59 [==============================] - 139s 2s/step - loss: 0.5379 - acc: 0.7426 - val_loss: 0.4984 - val_acc: 0.7815\n",
            "Epoch 25/50\n",
            "59/59 [==============================] - 140s 2s/step - loss: 0.5335 - acc: 0.7570 - val_loss: 0.7845 - val_acc: 0.5447\n",
            "Epoch 26/50\n",
            "59/59 [==============================] - 139s 2s/step - loss: 0.5362 - acc: 0.7470 - val_loss: 0.4823 - val_acc: 0.7793\n",
            "Epoch 27/50\n",
            "59/59 [==============================] - 140s 2s/step - loss: 0.5275 - acc: 0.7520 - val_loss: 0.5300 - val_acc: 0.7460\n",
            "Epoch 28/50\n",
            "59/59 [==============================] - 139s 2s/step - loss: 0.5294 - acc: 0.7539 - val_loss: 0.4743 - val_acc: 0.7885\n",
            "Epoch 29/50\n",
            "59/59 [==============================] - 139s 2s/step - loss: 0.5311 - acc: 0.7499 - val_loss: 0.6671 - val_acc: 0.6534\n",
            "Epoch 30/50\n",
            "59/59 [==============================] - 140s 2s/step - loss: 0.5227 - acc: 0.7594 - val_loss: 0.4951 - val_acc: 0.7777\n",
            "Epoch 31/50\n",
            "59/59 [==============================] - 139s 2s/step - loss: 0.5214 - acc: 0.7540 - val_loss: 0.4903 - val_acc: 0.7799\n",
            "Epoch 32/50\n",
            "59/59 [==============================] - 140s 2s/step - loss: 0.5252 - acc: 0.7531 - val_loss: 0.5052 - val_acc: 0.7680\n",
            "Epoch 33/50\n",
            "59/59 [==============================] - 139s 2s/step - loss: 0.5231 - acc: 0.7625 - val_loss: 0.6206 - val_acc: 0.6642\n",
            "Epoch 34/50\n",
            "59/59 [==============================] - 139s 2s/step - loss: 0.5178 - acc: 0.7600 - val_loss: 0.6558 - val_acc: 0.6216\n",
            "Epoch 35/50\n",
            "59/59 [==============================] - 140s 2s/step - loss: 0.5255 - acc: 0.7530 - val_loss: 0.4849 - val_acc: 0.7772\n",
            "Epoch 36/50\n",
            "59/59 [==============================] - 139s 2s/step - loss: 0.5164 - acc: 0.7606 - val_loss: 0.6161 - val_acc: 0.7234\n",
            "Epoch 37/50\n",
            "59/59 [==============================] - 140s 2s/step - loss: 0.5219 - acc: 0.7628 - val_loss: 0.5222 - val_acc: 0.7449\n",
            "Epoch 38/50\n",
            "59/59 [==============================] - 139s 2s/step - loss: 0.5114 - acc: 0.7636 - val_loss: 0.5249 - val_acc: 0.7497\n",
            "Epoch 39/50\n",
            "59/59 [==============================] - 139s 2s/step - loss: 0.5163 - acc: 0.7641 - val_loss: 0.4782 - val_acc: 0.7858\n",
            "Epoch 40/50\n",
            "59/59 [==============================] - 140s 2s/step - loss: 0.5189 - acc: 0.7565 - val_loss: 0.5748 - val_acc: 0.7013\n",
            "Epoch 41/50\n",
            "59/59 [==============================] - 139s 2s/step - loss: 0.5145 - acc: 0.7641 - val_loss: 0.5046 - val_acc: 0.7723\n",
            "Epoch 42/50\n",
            "59/59 [==============================] - 140s 2s/step - loss: 0.5089 - acc: 0.7696 - val_loss: 0.6412 - val_acc: 0.6733\n",
            "Epoch 43/50\n",
            "59/59 [==============================] - 139s 2s/step - loss: 0.5106 - acc: 0.7699 - val_loss: 0.5723 - val_acc: 0.6932\n",
            "Epoch 44/50\n",
            "59/59 [==============================] - 140s 2s/step - loss: 0.5124 - acc: 0.7624 - val_loss: 0.5205 - val_acc: 0.7481\n",
            "Epoch 45/50\n",
            "59/59 [==============================] - 139s 2s/step - loss: 0.5119 - acc: 0.7613 - val_loss: 0.5836 - val_acc: 0.6895\n",
            "Epoch 46/50\n",
            "59/59 [==============================] - 139s 2s/step - loss: 0.5096 - acc: 0.7663 - val_loss: 0.8356 - val_acc: 0.6179\n",
            "Epoch 47/50\n",
            "59/59 [==============================] - 140s 2s/step - loss: 0.5112 - acc: 0.7625 - val_loss: 0.5053 - val_acc: 0.7632\n",
            "Epoch 48/50\n",
            "59/59 [==============================] - 139s 2s/step - loss: 0.5101 - acc: 0.7668 - val_loss: 0.4802 - val_acc: 0.7826\n",
            "Epoch 49/50\n",
            "59/59 [==============================] - 140s 2s/step - loss: 0.5113 - acc: 0.7628 - val_loss: 0.5835 - val_acc: 0.7018\n",
            "Epoch 50/50\n",
            "59/59 [==============================] - 139s 2s/step - loss: 0.5048 - acc: 0.7706 - val_loss: 0.4785 - val_acc: 0.7906\n"
          ]
        }
      ]
    },
    {
      "cell_type": "code",
      "source": [
        "acc = history.history['acc']\n",
        "val_acc = history.history['val_acc']\n",
        "loss = history.history['loss']\n",
        "val_loss = history.history['val_loss']\n",
        "\n",
        "epochs = range(len(acc))\n",
        "\n",
        "plt.plot(epochs, acc, 'r', label='Training acc')\n",
        "plt.plot(epochs, val_acc, 'g', label='Validation acc')\n",
        "plt.title('Training and validation accuracy of Experiment #2')\n",
        "plt.legend()\n",
        "\n",
        "plt.figure()\n",
        "plt.show()\n"
      ],
      "metadata": {
        "id": "iN0i1yTD8Vh5",
        "colab": {
          "base_uri": "https://localhost:8080/",
          "height": 298
        },
        "outputId": "3225e665-62c6-4710-bf2d-ca254463626c"
      },
      "execution_count": null,
      "outputs": [
        {
          "output_type": "display_data",
          "data": {
            "text/plain": [
              "<Figure size 432x288 with 1 Axes>"
            ],
            "image/png": "[encoded data removed]"
          },
          "metadata": {
            "needs_background": "light"
          }
        },
        {
          "output_type": "display_data",
          "data": {
            "text/plain": [
              "<Figure size 432x288 with 0 Axes>"
            ]
          },
          "metadata": {}
        }
      ]
    },
    {
      "cell_type": "code",
      "source": [
        "y_pred = model.predict(X_test)\n",
        "performanceArray = []\n",
        "\n",
        "\n",
        "\n",
        "accuracy = accuracy_score(y_test,y_pred.round())\n",
        "precision = precision_score(y_test,y_pred.round())\n",
        "recall=recall_score(y_test,y_pred.round())\n",
        "f1 = f1_score(y_test,y_pred.round())\n",
        "performanceArray.append([accuracy,precision,recall,f1])\n",
        "print('Experiment#1--> Accuracy: ',accuracy,' \\tPrecision: ',precision,'\\tRecall: ',recall,'\\tF1-Score: ',f1)\n",
        "\n",
        "# In order to store the performance( accuracy, precision, recall and F1) of each experiment \n",
        "pickle.dump(performanceArray, open('/content/gdrive/MyDrive/MachineLearning/disaster_tweets/outputs/performance2.pkl', 'wb'))\n",
        "\n",
        "\n"
      ],
      "metadata": {
        "id": "Voud3Fzu8ahm",
        "colab": {
          "base_uri": "https://localhost:8080/"
        },
        "outputId": "40b72b18-4862-430d-c7d1-261bb6e83292"
      },
      "execution_count": null,
      "outputs": [
        {
          "output_type": "stream",
          "name": "stdout",
          "text": [
            "73/73 [==============================] - 25s 340ms/step\n",
            "Experiment#1--> Accuracy:  0.7671114937580714  \tPrecision:  0.8101092896174863 \tRecall:  0.5959798994974874 \tF1-Score:  0.6867400115807759\n"
          ]
        }
      ]
    },
    {
      "cell_type": "markdown",
      "source": [
        "SUMMARY"
      ],
      "metadata": {
        "id": "6gpvoUPso8EB"
      }
    },
    {
      "cell_type": "code",
      "source": [
        "df4 = pd.read_excel(\"/content/gdrive/MyDrive/MachineLearning/disaster_tweets/outputs/AUGT2.csv\")  \n",
        "df4"
      ],
      "metadata": {
        "colab": {
          "base_uri": "https://localhost:8080/",
          "height": 332
        },
        "id": "rtaMLg1T7uOT",
        "outputId": "47df8844-6b03-44d0-f642-c9e420f73748"
      },
      "execution_count": null,
      "outputs": [
        {
          "output_type": "execute_result",
          "data": {
            "text/plain": [
              "                              Experiment Description  Accuracy  Precision  \\\n",
              "0                           Eperiment# 1: Simple RNN  0.844598   0.822811   \n",
              "1     Eperiment# 2: RNN and pre-trained Glove word e  0.776582   0.757019   \n",
              "2    Eperiment# 3: RNN with and pre-trained twitt...  0.731812   0.836957   \n",
              "3      Eperiment# 4: RNN and pre-trained FastText wo  0.767111   0.769596   \n",
              "4                          Eperiment# 5: Simple LSTM  0.839432   0.849438   \n",
              "5      Eperiment# 6: LSTM and pre-trained Glove word  0.780456   0.713656   \n",
              "6    Eperiment# 7: LSTM and pre-trained twitter-Glo.  0.763668   0.935547   \n",
              "7  Eperiment# 8: LSTM and pre-trained FastText wo...  0.779595   0.727615   \n",
              "8                                 Eperiment# 9: BERT  0.767111   0.810109   \n",
              "\n",
              "     Recall  F1-Score  \n",
              "0  0.812060  0.817400  \n",
              "1  0.704523  0.729828  \n",
              "2  0.464322  0.597285  \n",
              "3  0.651256  0.705498  \n",
              "4  0.759799  0.802122  \n",
              "5  0.814070  0.760563  \n",
              "6  0.481407  0.635700  \n",
              "7  0.775879  0.750973  \n",
              "8  0.595980  0.686740  "
            ],
            "text/html": [
              "\n",
              "  <div id=\"df-f352d06f-9674-475b-8af8-7b50d8a477ea\">\n",
              "    <div class=\"colab-df-container\">\n",
              "      <div>\n",
              "<style scoped>\n",
              "    .dataframe tbody tr th:only-of-type {\n",
              "        vertical-align: middle;\n",
              "    }\n",
              "\n",
              "    .dataframe tbody tr th {\n",
              "        vertical-align: top;\n",
              "    }\n",
              "\n",
              "    .dataframe thead th {\n",
              "        text-align: right;\n",
              "    }\n",
              "</style>\n",
              "<table border=\"1\" class=\"dataframe\">\n",
              "  <thead>\n",
              "    <tr style=\"text-align: right;\">\n",
              "      <th></th>\n",
              "      <th>Experiment Description</th>\n",
              "      <th>Accuracy</th>\n",
              "      <th>Precision</th>\n",
              "      <th>Recall</th>\n",
              "      <th>F1-Score</th>\n",
              "    </tr>\n",
              "  </thead>\n",
              "  <tbody>\n",
              "    <tr>\n",
              "      <th>0</th>\n",
              "      <td>Eperiment# 1: Simple RNN</td>\n",
              "      <td>0.844598</td>\n",
              "      <td>0.822811</td>\n",
              "      <td>0.812060</td>\n",
              "      <td>0.817400</td>\n",
              "    </tr>\n",
              "    <tr>\n",
              "      <th>1</th>\n",
              "      <td>Eperiment# 2: RNN and pre-trained Glove word e</td>\n",
              "      <td>0.776582</td>\n",
              "      <td>0.757019</td>\n",
              "      <td>0.704523</td>\n",
              "      <td>0.729828</td>\n",
              "    </tr>\n",
              "    <tr>\n",
              "      <th>2</th>\n",
              "      <td>Eperiment# 3: RNN with and pre-trained twitt...</td>\n",
              "      <td>0.731812</td>\n",
              "      <td>0.836957</td>\n",
              "      <td>0.464322</td>\n",
              "      <td>0.597285</td>\n",
              "    </tr>\n",
              "    <tr>\n",
              "      <th>3</th>\n",
              "      <td>Eperiment# 4: RNN and pre-trained FastText wo</td>\n",
              "      <td>0.767111</td>\n",
              "      <td>0.769596</td>\n",
              "      <td>0.651256</td>\n",
              "      <td>0.705498</td>\n",
              "    </tr>\n",
              "    <tr>\n",
              "      <th>4</th>\n",
              "      <td>Eperiment# 5: Simple LSTM</td>\n",
              "      <td>0.839432</td>\n",
              "      <td>0.849438</td>\n",
              "      <td>0.759799</td>\n",
              "      <td>0.802122</td>\n",
              "    </tr>\n",
              "    <tr>\n",
              "      <th>5</th>\n",
              "      <td>Eperiment# 6: LSTM and pre-trained Glove word</td>\n",
              "      <td>0.780456</td>\n",
              "      <td>0.713656</td>\n",
              "      <td>0.814070</td>\n",
              "      <td>0.760563</td>\n",
              "    </tr>\n",
              "    <tr>\n",
              "      <th>6</th>\n",
              "      <td>Eperiment# 7: LSTM and pre-trained twitter-Glo.</td>\n",
              "      <td>0.763668</td>\n",
              "      <td>0.935547</td>\n",
              "      <td>0.481407</td>\n",
              "      <td>0.635700</td>\n",
              "    </tr>\n",
              "    <tr>\n",
              "      <th>7</th>\n",
              "      <td>Eperiment# 8: LSTM and pre-trained FastText wo...</td>\n",
              "      <td>0.779595</td>\n",
              "      <td>0.727615</td>\n",
              "      <td>0.775879</td>\n",
              "      <td>0.750973</td>\n",
              "    </tr>\n",
              "    <tr>\n",
              "      <th>8</th>\n",
              "      <td>Eperiment# 9: BERT</td>\n",
              "      <td>0.767111</td>\n",
              "      <td>0.810109</td>\n",
              "      <td>0.595980</td>\n",
              "      <td>0.686740</td>\n",
              "    </tr>\n",
              "  </tbody>\n",
              "</table>\n",
              "</div>\n",
              "      <button class=\"colab-df-convert\" onclick=\"convertToInteractive('df-f352d06f-9674-475b-8af8-7b50d8a477ea')\"\n",
              "              title=\"Convert this dataframe to an interactive table.\"\n",
              "              style=\"display:none;\">\n",
              "        \n",
              "  <svg xmlns=\"http://www.w3.org/2000/svg\" height=\"24px\"viewBox=\"0 0 24 24\"\n",
              "       width=\"24px\">\n",
              "    <path d=\"M0 0h24v24H0V0z\" fill=\"none\"/>\n",
              "    <path d=\"M18.56 5.44l.94 2.06.94-2.06 2.06-.94-2.06-.94-.94-2.06-.94 2.06-2.06.94zm-11 1L8.5 8.5l.94-2.06 2.06-.94-2.06-.94L8.5 2.5l-.94 2.06-2.06.94zm10 10l.94 2.06.94-2.06 2.06-.94-2.06-.94-.94-2.06-.94 2.06-2.06.94z\"/><path d=\"M17.41 7.96l-1.37-1.37c-.4-.4-.92-.59-1.43-.59-.52 0-1.04.2-1.43.59L10.3 9.45l-7.72 7.72c-.78.78-.78 2.05 0 2.83L4 21.41c.39.39.9.59 1.41.59.51 0 1.02-.2 1.41-.59l7.78-7.78 2.81-2.81c.8-.78.8-2.07 0-2.86zM5.41 20L4 18.59l7.72-7.72 1.47 1.35L5.41 20z\"/>\n",
              "  </svg>\n",
              "      </button>\n",
              "      \n",
              "  <style>\n",
              "    .colab-df-container {\n",
              "      display:flex;\n",
              "      flex-wrap:wrap;\n",
              "      gap: 12px;\n",
              "    }\n",
              "\n",
              "    .colab-df-convert {\n",
              "      background-color: #E8F0FE;\n",
              "      border: none;\n",
              "      border-radius: 50%;\n",
              "      cursor: pointer;\n",
              "      display: none;\n",
              "      fill: #1967D2;\n",
              "      height: 32px;\n",
              "      padding: 0 0 0 0;\n",
              "      width: 32px;\n",
              "    }\n",
              "\n",
              "    .colab-df-convert:hover {\n",
              "      background-color: #E2EBFA;\n",
              "      box-shadow: 0px 1px 2px rgba(60, 64, 67, 0.3), 0px 1px 3px 1px rgba(60, 64, 67, 0.15);\n",
              "      fill: #174EA6;\n",
              "    }\n",
              "\n",
              "    [theme=dark] .colab-df-convert {\n",
              "      background-color: #3B4455;\n",
              "      fill: #D2E3FC;\n",
              "    }\n",
              "\n",
              "    [theme=dark] .colab-df-convert:hover {\n",
              "      background-color: #434B5C;\n",
              "      box-shadow: 0px 1px 3px 1px rgba(0, 0, 0, 0.15);\n",
              "      filter: drop-shadow(0px 1px 2px rgba(0, 0, 0, 0.3));\n",
              "      fill: #FFFFFF;\n",
              "    }\n",
              "  </style>\n",
              "\n",
              "      <script>\n",
              "        const buttonEl =\n",
              "          document.querySelector('#df-f352d06f-9674-475b-8af8-7b50d8a477ea button.colab-df-convert');\n",
              "        buttonEl.style.display =\n",
              "          google.colab.kernel.accessAllowed ? 'block' : 'none';\n",
              "\n",
              "        async function convertToInteractive(key) {\n",
              "          const element = document.querySelector('#df-f352d06f-9674-475b-8af8-7b50d8a477ea');\n",
              "          const dataTable =\n",
              "            await google.colab.kernel.invokeFunction('convertToInteractive',\n",
              "                                                     [key], {});\n",
              "          if (!dataTable) return;\n",
              "\n",
              "          const docLinkHtml = 'Like what you see? Visit the ' +\n",
              "            '<a target=\"_blank\" href=https://colab.research.google.com/notebooks/data_table.ipynb>data table notebook</a>'\n",
              "            + ' to learn more about interactive tables.';\n",
              "          element.innerHTML = '';\n",
              "          dataTable['output_type'] = 'display_data';\n",
              "          await google.colab.output.renderOutput(dataTable, element);\n",
              "          const docLink = document.createElement('div');\n",
              "          docLink.innerHTML = docLinkHtml;\n",
              "          element.appendChild(docLink);\n",
              "        }\n",
              "      </script>\n",
              "    </div>\n",
              "  </div>\n",
              "  "
            ]
          },
          "metadata": {},
          "execution_count": 15
        }
      ]
    },
    {
      "cell_type": "code",
      "source": [],
      "metadata": {
        "id": "frFtjycb7gIL"
      },
      "execution_count": null,
      "outputs": []
    },
    {
      "cell_type": "code",
      "source": [],
      "metadata": {
        "id": "jiPAiBpc7kqx"
      },
      "execution_count": null,
      "outputs": []
    }
  ]
}