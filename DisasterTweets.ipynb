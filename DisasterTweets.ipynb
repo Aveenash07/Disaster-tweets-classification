{
  "cells": [
    {
      "cell_type": "markdown",
      "metadata": {
        "id": "Np8tnEIBWYfC"
      },
      "source": [
        "Import all required modules"
      ]
    },
    {
      "cell_type": "code",
      "source": [],
      "metadata": {
        "colab": {
          "base_uri": "https://localhost:8080/"
        },
        "id": "KyHbi47J7a4y",
        "outputId": "861d505f-765a-4116-c1be-34441de5cc70"
      },
      "execution_count": null,
      "outputs": [
        {
          "output_type": "stream",
          "name": "stdout",
          "text": [
            "Looking in indexes: https://pypi.org/simple, https://us-python.pkg.dev/colab-wheels/public/simple/\n",
            "Collecting tensorflow-text\n",
            "  Downloading tensorflow_text-2.11.0-cp38-cp38-manylinux_2_17_x86_64.manylinux2014_x86_64.whl (5.8 MB)\n",
            "\u001b[K     |████████████████████████████████| 5.8 MB 18.3 MB/s \n",
            "\u001b[?25hCollecting tensorflow<2.12,>=2.11.0\n",
            "  Downloading tensorflow-2.11.0-cp38-cp38-manylinux_2_17_x86_64.manylinux2014_x86_64.whl (588.3 MB)\n",
            "\u001b[K     |████████████████████████████████| 588.3 MB 21 kB/s \n",
            "\u001b[?25hRequirement already satisfied: tensorflow-hub>=0.8.0 in /usr/local/lib/python3.8/dist-packages (from tensorflow-text) (0.12.0)\n",
            "Requirement already satisfied: astunparse>=1.6.0 in /usr/local/lib/python3.8/dist-packages (from tensorflow<2.12,>=2.11.0->tensorflow-text) (1.6.3)\n",
            "Requirement already satisfied: protobuf<3.20,>=3.9.2 in /usr/local/lib/python3.8/dist-packages (from tensorflow<2.12,>=2.11.0->tensorflow-text) (3.19.6)\n",
            "Requirement already satisfied: opt-einsum>=2.3.2 in /usr/local/lib/python3.8/dist-packages (from tensorflow<2.12,>=2.11.0->tensorflow-text) (3.3.0)\n",
            "Requirement already satisfied: tensorflow-io-gcs-filesystem>=0.23.1 in /usr/local/lib/python3.8/dist-packages (from tensorflow<2.12,>=2.11.0->tensorflow-text) (0.28.0)\n",
            "Requirement already satisfied: google-pasta>=0.1.1 in /usr/local/lib/python3.8/dist-packages (from tensorflow<2.12,>=2.11.0->tensorflow-text) (0.2.0)\n",
            "Requirement already satisfied: h5py>=2.9.0 in /usr/local/lib/python3.8/dist-packages (from tensorflow<2.12,>=2.11.0->tensorflow-text) (3.1.0)\n",
            "Requirement already satisfied: typing-extensions>=3.6.6 in /usr/local/lib/python3.8/dist-packages (from tensorflow<2.12,>=2.11.0->tensorflow-text) (4.1.1)\n",
            "Requirement already satisfied: gast<=0.4.0,>=0.2.1 in /usr/local/lib/python3.8/dist-packages (from tensorflow<2.12,>=2.11.0->tensorflow-text) (0.4.0)\n",
            "Requirement already satisfied: packaging in /usr/local/lib/python3.8/dist-packages (from tensorflow<2.12,>=2.11.0->tensorflow-text) (21.3)\n",
            "Collecting flatbuffers>=2.0\n",
            "  Downloading flatbuffers-22.11.23-py2.py3-none-any.whl (26 kB)\n",
            "Requirement already satisfied: numpy>=1.20 in /usr/local/lib/python3.8/dist-packages (from tensorflow<2.12,>=2.11.0->tensorflow-text) (1.21.6)\n",
            "Collecting tensorflow-estimator<2.12,>=2.11.0\n",
            "  Downloading tensorflow_estimator-2.11.0-py2.py3-none-any.whl (439 kB)\n",
            "\u001b[K     |████████████████████████████████| 439 kB 60.4 MB/s \n",
            "\u001b[?25hCollecting tensorboard<2.12,>=2.11\n",
            "  Downloading tensorboard-2.11.0-py3-none-any.whl (6.0 MB)\n",
            "\u001b[K     |████████████████████████████████| 6.0 MB 36.5 MB/s \n",
            "\u001b[?25hRequirement already satisfied: libclang>=13.0.0 in /usr/local/lib/python3.8/dist-packages (from tensorflow<2.12,>=2.11.0->tensorflow-text) (14.0.6)\n",
            "Requirement already satisfied: absl-py>=1.0.0 in /usr/local/lib/python3.8/dist-packages (from tensorflow<2.12,>=2.11.0->tensorflow-text) (1.3.0)\n",
            "Requirement already satisfied: wrapt>=1.11.0 in /usr/local/lib/python3.8/dist-packages (from tensorflow<2.12,>=2.11.0->tensorflow-text) (1.14.1)\n",
            "Requirement already satisfied: termcolor>=1.1.0 in /usr/local/lib/python3.8/dist-packages (from tensorflow<2.12,>=2.11.0->tensorflow-text) (2.1.1)\n",
            "Requirement already satisfied: six>=1.12.0 in /usr/local/lib/python3.8/dist-packages (from tensorflow<2.12,>=2.11.0->tensorflow-text) (1.15.0)\n",
            "Collecting keras<2.12,>=2.11.0\n",
            "  Downloading keras-2.11.0-py2.py3-none-any.whl (1.7 MB)\n",
            "\u001b[K     |████████████████████████████████| 1.7 MB 62.1 MB/s \n",
            "\u001b[?25hRequirement already satisfied: setuptools in /usr/local/lib/python3.8/dist-packages (from tensorflow<2.12,>=2.11.0->tensorflow-text) (57.4.0)\n",
            "Requirement already satisfied: grpcio<2.0,>=1.24.3 in /usr/local/lib/python3.8/dist-packages (from tensorflow<2.12,>=2.11.0->tensorflow-text) (1.50.0)\n",
            "Requirement already satisfied: wheel<1.0,>=0.23.0 in /usr/local/lib/python3.8/dist-packages (from astunparse>=1.6.0->tensorflow<2.12,>=2.11.0->tensorflow-text) (0.38.4)\n",
            "Requirement already satisfied: google-auth-oauthlib<0.5,>=0.4.1 in /usr/local/lib/python3.8/dist-packages (from tensorboard<2.12,>=2.11->tensorflow<2.12,>=2.11.0->tensorflow-text) (0.4.6)\n",
            "Requirement already satisfied: werkzeug>=1.0.1 in /usr/local/lib/python3.8/dist-packages (from tensorboard<2.12,>=2.11->tensorflow<2.12,>=2.11.0->tensorflow-text) (1.0.1)\n",
            "Requirement already satisfied: google-auth<3,>=1.6.3 in /usr/local/lib/python3.8/dist-packages (from tensorboard<2.12,>=2.11->tensorflow<2.12,>=2.11.0->tensorflow-text) (2.14.1)\n",
            "Requirement already satisfied: tensorboard-data-server<0.7.0,>=0.6.0 in /usr/local/lib/python3.8/dist-packages (from tensorboard<2.12,>=2.11->tensorflow<2.12,>=2.11.0->tensorflow-text) (0.6.1)\n",
            "Requirement already satisfied: requests<3,>=2.21.0 in /usr/local/lib/python3.8/dist-packages (from tensorboard<2.12,>=2.11->tensorflow<2.12,>=2.11.0->tensorflow-text) (2.23.0)\n",
            "Requirement already satisfied: markdown>=2.6.8 in /usr/local/lib/python3.8/dist-packages (from tensorboard<2.12,>=2.11->tensorflow<2.12,>=2.11.0->tensorflow-text) (3.4.1)\n",
            "Requirement already satisfied: tensorboard-plugin-wit>=1.6.0 in /usr/local/lib/python3.8/dist-packages (from tensorboard<2.12,>=2.11->tensorflow<2.12,>=2.11.0->tensorflow-text) (1.8.1)\n",
            "Requirement already satisfied: rsa<5,>=3.1.4 in /usr/local/lib/python3.8/dist-packages (from google-auth<3,>=1.6.3->tensorboard<2.12,>=2.11->tensorflow<2.12,>=2.11.0->tensorflow-text) (4.9)\n",
            "Requirement already satisfied: pyasn1-modules>=0.2.1 in /usr/local/lib/python3.8/dist-packages (from google-auth<3,>=1.6.3->tensorboard<2.12,>=2.11->tensorflow<2.12,>=2.11.0->tensorflow-text) (0.2.8)\n",
            "Requirement already satisfied: cachetools<6.0,>=2.0.0 in /usr/local/lib/python3.8/dist-packages (from google-auth<3,>=1.6.3->tensorboard<2.12,>=2.11->tensorflow<2.12,>=2.11.0->tensorflow-text) (5.2.0)\n",
            "Requirement already satisfied: requests-oauthlib>=0.7.0 in /usr/local/lib/python3.8/dist-packages (from google-auth-oauthlib<0.5,>=0.4.1->tensorboard<2.12,>=2.11->tensorflow<2.12,>=2.11.0->tensorflow-text) (1.3.1)\n",
            "Requirement already satisfied: importlib-metadata>=4.4 in /usr/local/lib/python3.8/dist-packages (from markdown>=2.6.8->tensorboard<2.12,>=2.11->tensorflow<2.12,>=2.11.0->tensorflow-text) (4.13.0)\n",
            "Requirement already satisfied: zipp>=0.5 in /usr/local/lib/python3.8/dist-packages (from importlib-metadata>=4.4->markdown>=2.6.8->tensorboard<2.12,>=2.11->tensorflow<2.12,>=2.11.0->tensorflow-text) (3.10.0)\n",
            "Requirement already satisfied: pyasn1<0.5.0,>=0.4.6 in /usr/local/lib/python3.8/dist-packages (from pyasn1-modules>=0.2.1->google-auth<3,>=1.6.3->tensorboard<2.12,>=2.11->tensorflow<2.12,>=2.11.0->tensorflow-text) (0.4.8)\n",
            "Requirement already satisfied: urllib3!=1.25.0,!=1.25.1,<1.26,>=1.21.1 in /usr/local/lib/python3.8/dist-packages (from requests<3,>=2.21.0->tensorboard<2.12,>=2.11->tensorflow<2.12,>=2.11.0->tensorflow-text) (1.24.3)\n",
            "Requirement already satisfied: certifi>=2017.4.17 in /usr/local/lib/python3.8/dist-packages (from requests<3,>=2.21.0->tensorboard<2.12,>=2.11->tensorflow<2.12,>=2.11.0->tensorflow-text) (2022.9.24)\n",
            "Requirement already satisfied: chardet<4,>=3.0.2 in /usr/local/lib/python3.8/dist-packages (from requests<3,>=2.21.0->tensorboard<2.12,>=2.11->tensorflow<2.12,>=2.11.0->tensorflow-text) (3.0.4)\n",
            "Requirement already satisfied: idna<3,>=2.5 in /usr/local/lib/python3.8/dist-packages (from requests<3,>=2.21.0->tensorboard<2.12,>=2.11->tensorflow<2.12,>=2.11.0->tensorflow-text) (2.10)\n",
            "Requirement already satisfied: oauthlib>=3.0.0 in /usr/local/lib/python3.8/dist-packages (from requests-oauthlib>=0.7.0->google-auth-oauthlib<0.5,>=0.4.1->tensorboard<2.12,>=2.11->tensorflow<2.12,>=2.11.0->tensorflow-text) (3.2.2)\n",
            "Requirement already satisfied: pyparsing!=3.0.5,>=2.0.2 in /usr/local/lib/python3.8/dist-packages (from packaging->tensorflow<2.12,>=2.11.0->tensorflow-text) (3.0.9)\n",
            "Installing collected packages: tensorflow-estimator, tensorboard, keras, flatbuffers, tensorflow, tensorflow-text\n",
            "  Attempting uninstall: tensorflow-estimator\n",
            "    Found existing installation: tensorflow-estimator 2.9.0\n",
            "    Uninstalling tensorflow-estimator-2.9.0:\n",
            "      Successfully uninstalled tensorflow-estimator-2.9.0\n",
            "  Attempting uninstall: tensorboard\n",
            "    Found existing installation: tensorboard 2.9.1\n",
            "    Uninstalling tensorboard-2.9.1:\n",
            "      Successfully uninstalled tensorboard-2.9.1\n",
            "  Attempting uninstall: keras\n",
            "    Found existing installation: keras 2.9.0\n",
            "    Uninstalling keras-2.9.0:\n",
            "      Successfully uninstalled keras-2.9.0\n",
            "  Attempting uninstall: flatbuffers\n",
            "    Found existing installation: flatbuffers 1.12\n",
            "    Uninstalling flatbuffers-1.12:\n",
            "      Successfully uninstalled flatbuffers-1.12\n",
            "  Attempting uninstall: tensorflow\n",
            "    Found existing installation: tensorflow 2.9.2\n",
            "    Uninstalling tensorflow-2.9.2:\n",
            "      Successfully uninstalled tensorflow-2.9.2\n",
            "Successfully installed flatbuffers-22.11.23 keras-2.11.0 tensorboard-2.11.0 tensorflow-2.11.0 tensorflow-estimator-2.11.0 tensorflow-text-2.11.0\n"
          ]
        }
      ]
    },
    {
      "cell_type": "code",
      "execution_count": null,
      "metadata": {
        "id": "gVdVZN60WXZT",
        "colab": {
          "base_uri": "https://localhost:8080/"
        },
        "outputId": "93157580-c66f-460a-d107-c1669b56555b"
      },
      "outputs": [
        {
          "output_type": "stream",
          "name": "stderr",
          "text": [
            "[nltk_data] Downloading package stopwords to /root/nltk_data...\n",
            "[nltk_data]   Package stopwords is already up-to-date!\n",
            "[nltk_data] Downloading package omw-1.4 to /root/nltk_data...\n",
            "[nltk_data]   Package omw-1.4 is already up-to-date!\n"
          ]
        },
        {
          "output_type": "execute_result",
          "data": {
            "text/plain": [
              "True"
            ]
          },
          "metadata": {},
          "execution_count": 7
        }
      ],
      "source": [
        "from google.colab import drive\n",
        "import keras\n",
        "import numpy as np\n",
        "import pandas as pd\n",
        "import nltk\n",
        "from nltk.corpus import stopwords\n",
        "import pickle\n",
        "from sklearn.metrics import accuracy_score\n",
        "from sklearn.metrics import precision_score\n",
        "from sklearn.metrics import recall_score\n",
        "from sklearn.metrics import f1_score\n",
        "import re\n",
        "from sklearn.model_selection import train_test_split\n",
        "from tensorflow.keras.layers import TextVectorization\n",
        "from keras.models import Sequential\n",
        "from keras.layers import Embedding, SimpleRNN\n",
        "from keras.layers import Dense\n",
        "import matplotlib.pyplot as plt\n",
        "from keras.layers import LSTM\n",
        "from tensorflow.keras.layers import Bidirectional\n",
        "from tensorflow.keras.layers import Dropout\n",
        "from nltk.stem import WordNetLemmatizer \n",
        "import string\n",
        "import nltk\n",
        "nltk.download('stopwords')\n",
        "nltk.download('omw-1.4')\n",
        "\n"
      ]
    },
    {
      "cell_type": "markdown",
      "source": [
        "MOUNT THE DRIVE"
      ],
      "metadata": {
        "id": "NSpp5M22aLV6"
      }
    },
    {
      "cell_type": "code",
      "execution_count": null,
      "metadata": {
        "colab": {
          "base_uri": "https://localhost:8080/"
        },
        "id": "Z1ElT1BocGVU",
        "outputId": "695c8a69-66a5-4f26-8de7-96181450fb8b"
      },
      "outputs": [
        {
          "output_type": "stream",
          "name": "stdout",
          "text": [
            "Drive already mounted at /content/gdrive; to attempt to forcibly remount, call drive.mount(\"/content/gdrive\", force_remount=True).\n"
          ]
        }
      ],
      "source": [
        "drive.mount('/content/gdrive')"
      ]
    },
    {
      "cell_type": "markdown",
      "source": [
        "READ TRAIN AND TEST DATA"
      ],
      "metadata": {
        "id": "wHwiHshkaOQV"
      }
    },
    {
      "cell_type": "code",
      "execution_count": null,
      "metadata": {
        "colab": {
          "base_uri": "https://localhost:8080/",
          "height": 206
        },
        "id": "weNLBOLMR1MF",
        "outputId": "1b183814-d8e2-429f-9530-29d52825b7e9"
      },
      "outputs": [
        {
          "output_type": "execute_result",
          "data": {
            "text/plain": [
              "   id keyword location                                               text  \\\n",
              "0   1     NaN      NaN  Our Deeds are the Reason of this #earthquake M...   \n",
              "1   4     NaN      NaN             Forest fire near La Ronge Sask. Canada   \n",
              "2   5     NaN      NaN  All residents asked to 'shelter in place' are ...   \n",
              "3   6     NaN      NaN  13,000 people receive #wildfires evacuation or...   \n",
              "4   7     NaN      NaN  Just got sent this photo from Ruby #Alaska as ...   \n",
              "\n",
              "   target  \n",
              "0       1  \n",
              "1       1  \n",
              "2       1  \n",
              "3       1  \n",
              "4       1  "
            ],
            "text/html": [
              "\n",
              "  <div id=\"df-8c032361-25a2-48cc-8320-6011f3a532dc\">\n",
              "    <div class=\"colab-df-container\">\n",
              "      <div>\n",
              "<style scoped>\n",
              "    .dataframe tbody tr th:only-of-type {\n",
              "        vertical-align: middle;\n",
              "    }\n",
              "\n",
              "    .dataframe tbody tr th {\n",
              "        vertical-align: top;\n",
              "    }\n",
              "\n",
              "    .dataframe thead th {\n",
              "        text-align: right;\n",
              "    }\n",
              "</style>\n",
              "<table border=\"1\" class=\"dataframe\">\n",
              "  <thead>\n",
              "    <tr style=\"text-align: right;\">\n",
              "      <th></th>\n",
              "      <th>id</th>\n",
              "      <th>keyword</th>\n",
              "      <th>location</th>\n",
              "      <th>text</th>\n",
              "      <th>target</th>\n",
              "    </tr>\n",
              "  </thead>\n",
              "  <tbody>\n",
              "    <tr>\n",
              "      <th>0</th>\n",
              "      <td>1</td>\n",
              "      <td>NaN</td>\n",
              "      <td>NaN</td>\n",
              "      <td>Our Deeds are the Reason of this #earthquake M...</td>\n",
              "      <td>1</td>\n",
              "    </tr>\n",
              "    <tr>\n",
              "      <th>1</th>\n",
              "      <td>4</td>\n",
              "      <td>NaN</td>\n",
              "      <td>NaN</td>\n",
              "      <td>Forest fire near La Ronge Sask. Canada</td>\n",
              "      <td>1</td>\n",
              "    </tr>\n",
              "    <tr>\n",
              "      <th>2</th>\n",
              "      <td>5</td>\n",
              "      <td>NaN</td>\n",
              "      <td>NaN</td>\n",
              "      <td>All residents asked to 'shelter in place' are ...</td>\n",
              "      <td>1</td>\n",
              "    </tr>\n",
              "    <tr>\n",
              "      <th>3</th>\n",
              "      <td>6</td>\n",
              "      <td>NaN</td>\n",
              "      <td>NaN</td>\n",
              "      <td>13,000 people receive #wildfires evacuation or...</td>\n",
              "      <td>1</td>\n",
              "    </tr>\n",
              "    <tr>\n",
              "      <th>4</th>\n",
              "      <td>7</td>\n",
              "      <td>NaN</td>\n",
              "      <td>NaN</td>\n",
              "      <td>Just got sent this photo from Ruby #Alaska as ...</td>\n",
              "      <td>1</td>\n",
              "    </tr>\n",
              "  </tbody>\n",
              "</table>\n",
              "</div>\n",
              "      <button class=\"colab-df-convert\" onclick=\"convertToInteractive('df-8c032361-25a2-48cc-8320-6011f3a532dc')\"\n",
              "              title=\"Convert this dataframe to an interactive table.\"\n",
              "              style=\"display:none;\">\n",
              "        \n",
              "  <svg xmlns=\"http://www.w3.org/2000/svg\" height=\"24px\"viewBox=\"0 0 24 24\"\n",
              "       width=\"24px\">\n",
              "    <path d=\"M0 0h24v24H0V0z\" fill=\"none\"/>\n",
              "    <path d=\"M18.56 5.44l.94 2.06.94-2.06 2.06-.94-2.06-.94-.94-2.06-.94 2.06-2.06.94zm-11 1L8.5 8.5l.94-2.06 2.06-.94-2.06-.94L8.5 2.5l-.94 2.06-2.06.94zm10 10l.94 2.06.94-2.06 2.06-.94-2.06-.94-.94-2.06-.94 2.06-2.06.94z\"/><path d=\"M17.41 7.96l-1.37-1.37c-.4-.4-.92-.59-1.43-.59-.52 0-1.04.2-1.43.59L10.3 9.45l-7.72 7.72c-.78.78-.78 2.05 0 2.83L4 21.41c.39.39.9.59 1.41.59.51 0 1.02-.2 1.41-.59l7.78-7.78 2.81-2.81c.8-.78.8-2.07 0-2.86zM5.41 20L4 18.59l7.72-7.72 1.47 1.35L5.41 20z\"/>\n",
              "  </svg>\n",
              "      </button>\n",
              "      \n",
              "  <style>\n",
              "    .colab-df-container {\n",
              "      display:flex;\n",
              "      flex-wrap:wrap;\n",
              "      gap: 12px;\n",
              "    }\n",
              "\n",
              "    .colab-df-convert {\n",
              "      background-color: #E8F0FE;\n",
              "      border: none;\n",
              "      border-radius: 50%;\n",
              "      cursor: pointer;\n",
              "      display: none;\n",
              "      fill: #1967D2;\n",
              "      height: 32px;\n",
              "      padding: 0 0 0 0;\n",
              "      width: 32px;\n",
              "    }\n",
              "\n",
              "    .colab-df-convert:hover {\n",
              "      background-color: #E2EBFA;\n",
              "      box-shadow: 0px 1px 2px rgba(60, 64, 67, 0.3), 0px 1px 3px 1px rgba(60, 64, 67, 0.15);\n",
              "      fill: #174EA6;\n",
              "    }\n",
              "\n",
              "    [theme=dark] .colab-df-convert {\n",
              "      background-color: #3B4455;\n",
              "      fill: #D2E3FC;\n",
              "    }\n",
              "\n",
              "    [theme=dark] .colab-df-convert:hover {\n",
              "      background-color: #434B5C;\n",
              "      box-shadow: 0px 1px 3px 1px rgba(0, 0, 0, 0.15);\n",
              "      filter: drop-shadow(0px 1px 2px rgba(0, 0, 0, 0.3));\n",
              "      fill: #FFFFFF;\n",
              "    }\n",
              "  </style>\n",
              "\n",
              "      <script>\n",
              "        const buttonEl =\n",
              "          document.querySelector('#df-8c032361-25a2-48cc-8320-6011f3a532dc button.colab-df-convert');\n",
              "        buttonEl.style.display =\n",
              "          google.colab.kernel.accessAllowed ? 'block' : 'none';\n",
              "\n",
              "        async function convertToInteractive(key) {\n",
              "          const element = document.querySelector('#df-8c032361-25a2-48cc-8320-6011f3a532dc');\n",
              "          const dataTable =\n",
              "            await google.colab.kernel.invokeFunction('convertToInteractive',\n",
              "                                                     [key], {});\n",
              "          if (!dataTable) return;\n",
              "\n",
              "          const docLinkHtml = 'Like what you see? Visit the ' +\n",
              "            '<a target=\"_blank\" href=https://colab.research.google.com/notebooks/data_table.ipynb>data table notebook</a>'\n",
              "            + ' to learn more about interactive tables.';\n",
              "          element.innerHTML = '';\n",
              "          dataTable['output_type'] = 'display_data';\n",
              "          await google.colab.output.renderOutput(dataTable, element);\n",
              "          const docLink = document.createElement('div');\n",
              "          docLink.innerHTML = docLinkHtml;\n",
              "          element.appendChild(docLink);\n",
              "        }\n",
              "      </script>\n",
              "    </div>\n",
              "  </div>\n",
              "  "
            ]
          },
          "metadata": {},
          "execution_count": 9
        }
      ],
      "source": [
        "\n",
        "\n",
        "df = pd.read_csv(\"/content/gdrive/MyDrive/MachineLearning/disaster_tweets/train.csv\")\n",
        "df_test = pd.read_csv(\"/content/gdrive/MyDrive/MachineLearning/disaster_tweets/test.csv\")\n",
        "\n",
        "df.head(5)"
      ]
    },
    {
      "cell_type": "markdown",
      "source": [
        "SEE PROPERTIES OF DATASET"
      ],
      "metadata": {
        "id": "RNCqc5IuaTgc"
      }
    },
    {
      "cell_type": "code",
      "source": [
        "df.isnull().sum()"
      ],
      "metadata": {
        "colab": {
          "base_uri": "https://localhost:8080/"
        },
        "id": "Zae8w4KLuNMt",
        "outputId": "084c8ec3-96a0-48f1-c53c-e25498b55108"
      },
      "execution_count": null,
      "outputs": [
        {
          "output_type": "execute_result",
          "data": {
            "text/plain": [
              "id             0\n",
              "keyword       61\n",
              "location    2533\n",
              "text           0\n",
              "target         0\n",
              "dtype: int64"
            ]
          },
          "metadata": {},
          "execution_count": 10
        }
      ]
    },
    {
      "cell_type": "code",
      "execution_count": null,
      "metadata": {
        "colab": {
          "base_uri": "https://localhost:8080/"
        },
        "id": "-SNRgPYJR1MM",
        "outputId": "26b497c8-a818-4624-8526-506679732cdf"
      },
      "outputs": [
        {
          "output_type": "execute_result",
          "data": {
            "text/plain": [
              "0    4342\n",
              "1    3271\n",
              "Name: target, dtype: int64"
            ]
          },
          "metadata": {},
          "execution_count": 11
        }
      ],
      "source": [
        "# Display number of samples for each class\n",
        "\n",
        "df[\"target\"].value_counts()"
      ]
    },
    {
      "cell_type": "code",
      "source": [
        "df.info()"
      ],
      "metadata": {
        "colab": {
          "base_uri": "https://localhost:8080/"
        },
        "id": "f0Ra7WL0udwt",
        "outputId": "2242145a-ed4b-4e8f-90a2-760f412d6d0d"
      },
      "execution_count": null,
      "outputs": [
        {
          "output_type": "stream",
          "name": "stdout",
          "text": [
            "<class 'pandas.core.frame.DataFrame'>\n",
            "RangeIndex: 7613 entries, 0 to 7612\n",
            "Data columns (total 5 columns):\n",
            " #   Column    Non-Null Count  Dtype \n",
            "---  ------    --------------  ----- \n",
            " 0   id        7613 non-null   int64 \n",
            " 1   keyword   7552 non-null   object\n",
            " 2   location  5080 non-null   object\n",
            " 3   text      7613 non-null   object\n",
            " 4   target    7613 non-null   int64 \n",
            "dtypes: int64(2), object(3)\n",
            "memory usage: 297.5+ KB\n"
          ]
        }
      ]
    },
    {
      "cell_type": "code",
      "source": [
        "df.location.value_counts() \n"
      ],
      "metadata": {
        "colab": {
          "base_uri": "https://localhost:8080/"
        },
        "id": "rSEQVvrauojG",
        "outputId": "525f8bee-e6fd-4052-d185-5e0a89c48f6a"
      },
      "execution_count": null,
      "outputs": [
        {
          "output_type": "execute_result",
          "data": {
            "text/plain": [
              "USA                    104\n",
              "New York                71\n",
              "United States           50\n",
              "London                  45\n",
              "Canada                  29\n",
              "                      ... \n",
              "MontrÌ©al, QuÌ©bec       1\n",
              "Montreal                 1\n",
              "ÌÏT: 6.4682,3.18287      1\n",
              "Live4Heed??              1\n",
              "Lincoln                  1\n",
              "Name: location, Length: 3341, dtype: int64"
            ]
          },
          "metadata": {},
          "execution_count": 13
        }
      ]
    },
    {
      "cell_type": "code",
      "source": [
        "df.groupby(\"target\")[\"location\"].value_counts()"
      ],
      "metadata": {
        "colab": {
          "base_uri": "https://localhost:8080/"
        },
        "id": "QFnY3M_Zu36n",
        "outputId": "dd5e94bd-b495-438a-c3e3-bbc35d5940ba"
      },
      "execution_count": null,
      "outputs": [
        {
          "output_type": "execute_result",
          "data": {
            "text/plain": [
              "target  location                                \n",
              "0       New York                                    55\n",
              "        USA                                         37\n",
              "        London                                      29\n",
              "        United States                               23\n",
              "        Los Angeles, CA                             18\n",
              "                                                    ..\n",
              "1       ÌÏT: 40.562796,-75.488849                    1\n",
              "        ÌÏT: 41.252426,-96.072013                    1\n",
              "        ÌÏT: 6.4682,3.18287                          1\n",
              "        ÌÏT: 6.488400524109015,3.352798039832285     1\n",
              "        åø\\_(?)_/åø                                  1\n",
              "Name: location, Length: 3655, dtype: int64"
            ]
          },
          "metadata": {},
          "execution_count": 14
        }
      ]
    },
    {
      "cell_type": "code",
      "source": [
        "\n",
        "\n",
        "df.keyword.value_counts()\n"
      ],
      "metadata": {
        "colab": {
          "base_uri": "https://localhost:8080/"
        },
        "id": "Vwqj5da4vB8E",
        "outputId": "e162fc1e-6272-4156-fe2f-92112a94c5fe"
      },
      "execution_count": null,
      "outputs": [
        {
          "output_type": "execute_result",
          "data": {
            "text/plain": [
              "fatalities               45\n",
              "deluge                   42\n",
              "armageddon               42\n",
              "sinking                  41\n",
              "damage                   41\n",
              "                         ..\n",
              "forest%20fire            19\n",
              "epicentre                12\n",
              "threat                   11\n",
              "inundation               10\n",
              "radiation%20emergency     9\n",
              "Name: keyword, Length: 221, dtype: int64"
            ]
          },
          "metadata": {},
          "execution_count": 15
        }
      ]
    },
    {
      "cell_type": "code",
      "source": [
        "\n",
        "\n",
        "\n",
        "\n",
        "df[\"keyword\"] = df[\"keyword\"].fillna(\" \")\n",
        "df_test[\"keyword\"] = df[\"keyword\"].fillna(\" \")"
      ],
      "metadata": {
        "id": "WLlfmI5DvReF"
      },
      "execution_count": null,
      "outputs": []
    },
    {
      "cell_type": "code",
      "source": [],
      "metadata": {
        "id": "-ovmQ4mPvcK9"
      },
      "execution_count": null,
      "outputs": []
    },
    {
      "cell_type": "code",
      "execution_count": null,
      "metadata": {
        "colab": {
          "base_uri": "https://localhost:8080/"
        },
        "id": "9NsZpbOBPFWd",
        "outputId": "0a17dc1d-45ff-4240-8c34-bd0c13bf090e"
      },
      "outputs": [
        {
          "output_type": "stream",
          "name": "stderr",
          "text": [
            "[nltk_data] Downloading package stopwords to /root/nltk_data...\n",
            "[nltk_data]   Package stopwords is already up-to-date!\n"
          ]
        },
        {
          "output_type": "execute_result",
          "data": {
            "text/plain": [
              "True"
            ]
          },
          "metadata": {},
          "execution_count": 17
        }
      ],
      "source": [
        "nltk.download('stopwords')"
      ]
    },
    {
      "cell_type": "code",
      "execution_count": null,
      "metadata": {
        "id": "QrJZjR2RsLCy"
      },
      "outputs": [],
      "source": [
        "stop_words = set(stopwords.words(\"english\"))"
      ]
    },
    {
      "cell_type": "markdown",
      "metadata": {
        "id": "ubr_vDnVt4MV"
      },
      "source": [
        "PREPROCESSING"
      ]
    },
    {
      "cell_type": "code",
      "execution_count": null,
      "metadata": {
        "id": "DrXl-OhZr-mI",
        "colab": {
          "base_uri": "https://localhost:8080/"
        },
        "outputId": "16d39acc-38a5-435e-fe89-80f46872b9cb"
      },
      "outputs": [
        {
          "output_type": "stream",
          "name": "stderr",
          "text": [
            "[nltk_data] Downloading package wordnet to /root/nltk_data...\n",
            "[nltk_data]   Package wordnet is already up-to-date!\n"
          ]
        }
      ],
      "source": [
        "import nltk\n",
        "nltk.download('wordnet')\n",
        "\n",
        "\n",
        "lemmatizer = WordNetLemmatizer()\n",
        "\n",
        "# def Standardization(text):\n",
        "#   text = text.lower()\n",
        "#   text = re.sub(r'@\\w+', '', text)\n",
        "#   text = re.sub(r'http:\\S+', '', text)\n",
        "#   text = re.sub(r'[^\\w\\s]', '', text)\n",
        "#   text = [w for w in text.split() if w not in stop_words]\n",
        "#   return \" \".join(text)\n",
        "\n",
        "def removeStopWords(text):\n",
        "    \"\"\"\n",
        "    Filter words that are not found in stop words\n",
        "    \"\"\"\n",
        "    return \" \".join([word for word in text.split() if word not in stopwords.words(\"english\")])\n",
        "\n",
        "\n",
        "def removePunctuation(text):\n",
        "    \"\"\"\n",
        "    Remove punctuation symbols and convert text to lowercase\n",
        "    \"\"\"\n",
        "    return text.lower().translate(str.maketrans('', '', string.punctuation))\n",
        "\n",
        "def calculateMaxSeqLen(texts):\n",
        "    \"\"\"\n",
        "    Calculates the maximum sequence length found in the corpus\n",
        "    \"\"\"\n",
        "    max_len = float('-inf')\n",
        "    for text in texts:\n",
        "        if len(text.split()) > max_len:\n",
        "            max_len = len(text.split())\n",
        "            \n",
        "    return max_len\n",
        "\n",
        "def lemmatize(text):\n",
        "    \"\"\"\n",
        "    Filter words that are not found in stop words\n",
        "    \"\"\"\n",
        "    return \" \".join([lemmatizer.lemmatize(word) for word in text.split()])\n",
        "\n",
        "def remove_certain_numbers(text):\n",
        "    return text.replace('20', ' ')\n",
        "\n",
        "\n",
        "\n",
        "X = df.loc[:,\"text\"]\n",
        "# Target Selection\n",
        "y = df.loc[:,\"target\"]\n",
        "\n",
        "#X1_test = df_test.loc[:,\"text\"]\n",
        "\n",
        "\n",
        "X = X.apply(removeStopWords)\n",
        "X = X.apply(removePunctuation)\n",
        "X = X.apply(remove_certain_numbers)\n",
        "X = X.apply(lemmatize)\n",
        "\n",
        "\n",
        "# X1_test = X1_test.apply(removeStopWords)\n",
        "# X1_test = X1_test.apply(removePunctuation)\n",
        "# X1_test = X1_test.apply(remove_certain_numbers)\n",
        "# X1_test = X1_test.apply(lemmatize)\n",
        "\n",
        "\n"
      ]
    },
    {
      "cell_type": "code",
      "execution_count": null,
      "metadata": {
        "colab": {
          "base_uri": "https://localhost:8080/"
        },
        "id": "TBZE7yyPvf2n",
        "outputId": "8cb5ab84-333f-40f4-e3ef-37c8f3f0e3a2"
      },
      "outputs": [
        {
          "output_type": "execute_result",
          "data": {
            "text/plain": [
              "0          our deed reason earthquake may allah forgive u\n",
              "1                   forest fire near la ronge sask canada\n",
              "2       all resident asked shelter place notified offi...\n",
              "3       13000 people receive wildfire evacuation order...\n",
              "4       just got sent photo ruby alaska smoke wildfire...\n",
              "                              ...                        \n",
              "7608    two giant crane holding bridge collapse nearby...\n",
              "7609    ariaahrary thetawniest the control wild fire c...\n",
              "7610    m194 0104 utc5km s volcano hawaii httptcozdtoy...\n",
              "7611    police investigating ebike collided car little...\n",
              "7612    the latest more home razed northern california...\n",
              "Name: text, Length: 7613, dtype: object"
            ]
          },
          "metadata": {},
          "execution_count": 20
        }
      ],
      "source": [
        "X"
      ]
    },
    {
      "cell_type": "markdown",
      "metadata": {
        "id": "YsRz0gEjNDxN"
      },
      "source": [
        "CHECK MAX SEQUENCE LENGTH OF TWITTER TEXT"
      ]
    },
    {
      "cell_type": "code",
      "source": [
        "def calculateMaxSeqLen(texts):\n",
        "    \"\"\"\n",
        "    Calculates the maximum sequence length found in the corpus\n",
        "    \"\"\"\n",
        "    max_len = float('-inf')\n",
        "    for text in texts:\n",
        "        if len(text.split()) > max_len:\n",
        "            max_len = len(text.split())\n",
        "            \n",
        "    return max_len\n",
        "\n",
        "\n",
        "\n",
        "max_seq_len = calculateMaxSeqLen(X)\n",
        "\n",
        "print(max_seq_len)"
      ],
      "metadata": {
        "colab": {
          "base_uri": "https://localhost:8080/"
        },
        "id": "7B5ijo5WzgWg",
        "outputId": "291630a8-644f-497a-b18e-6ac8935db6a6"
      },
      "execution_count": null,
      "outputs": [
        {
          "output_type": "stream",
          "name": "stdout",
          "text": [
            "27\n"
          ]
        }
      ]
    },
    {
      "cell_type": "markdown",
      "source": [
        "SPLIT THE DATA IN TRAIN AND TEST"
      ],
      "metadata": {
        "id": "i0kv48c8akNm"
      }
    },
    {
      "cell_type": "code",
      "execution_count": null,
      "metadata": {
        "id": "r8fkHBTSwb3o"
      },
      "outputs": [],
      "source": [
        "\n",
        "\n",
        "X_train, X_test, y_train, y_test = train_test_split(\n",
        "    X, y,\n",
        "    test_size=0.2,\n",
        "    stratify=y,\n",
        "    random_state=5\n",
        ")\n",
        "\n",
        "\n"
      ]
    },
    {
      "cell_type": "code",
      "source": [],
      "metadata": {
        "id": "4Vp_K4yn6tjP"
      },
      "execution_count": null,
      "outputs": []
    },
    {
      "cell_type": "markdown",
      "metadata": {
        "id": "eXA1VHf3wmej"
      },
      "source": [
        "Vectorization (TextVectorization with max_tokens of 10000)\n"
      ]
    },
    {
      "cell_type": "code",
      "execution_count": null,
      "metadata": {
        "id": "Q4h0diqkkaTo"
      },
      "outputs": [],
      "source": [
        "\n",
        "text_vectorization = TextVectorization(\n",
        "    output_mode=\"int\",\n",
        "   max_tokens=10000\n",
        ")\n",
        "text_vectorization.adapt(X)  \n",
        "\n",
        "X_train = text_vectorization(X_train)\n",
        "#x1_test = text_vectorization(X1_test)\n",
        "X_test = text_vectorization(X_test)\n",
        "\n"
      ]
    },
    {
      "cell_type": "code",
      "execution_count": null,
      "metadata": {
        "id": "UjWLtcsiP6GP"
      },
      "outputs": [],
      "source": [
        "pickle.dump(text_vectorization.get_vocabulary(), open('/content/gdrive/MyDrive/MachineLearning/disaster_tweets/outputs/vocab.pkl', 'wb'))"
      ]
    },
    {
      "cell_type": "markdown",
      "metadata": {
        "id": "8XzaeLCenMLJ"
      },
      "source": [
        "Storing the X_train, X_test, Y_train, and Y_test for future use."
      ]
    },
    {
      "cell_type": "code",
      "execution_count": null,
      "metadata": {
        "id": "DjrFLhJzmIrE"
      },
      "outputs": [],
      "source": [
        "\n",
        "pickle.dump(X_train, open('/content/gdrive/MyDrive/MachineLearning/disaster_tweets/outputs/xtrain.pkl', 'wb'))\n",
        "pickle.dump(X_test, open('/content/gdrive/MyDrive/MachineLearning/disaster_tweets/outputs/xtest.pkl', 'wb'))\n",
        "pickle.dump(y_train, open('/content/gdrive/MyDrive/MachineLearning/disaster_tweets/outputs/ytrain.pkl', 'wb'))\n",
        "pickle.dump(y_test, open('/content/gdrive/MyDrive/MachineLearning/disaster_tweets/outputs/y_test.pkl', 'wb'))"
      ]
    },
    {
      "cell_type": "code",
      "execution_count": null,
      "metadata": {
        "id": "zz15RgzOrQV3"
      },
      "outputs": [],
      "source": [
        "\n",
        "# X_train = pickle.load(open('/content/gdrive/MyDrive/MachineLearning/disaster_tweets/outputs/xtrain.pkl', 'rb'))\n",
        "# X_test = pickle.load(open('/content/gdrive/MyDrive/MachineLearning/disaster_tweets/outputs/xtest.pkl', 'rb'))\n",
        "# y_train=pickle.load(open('/content/gdrive/MyDrive/MachineLearning/disaster_tweets/outputs', 'rb'))\n",
        "# y_test=pickle.load(open('/content/gdrive/MyDrive/MachineLearning/disaster_tweets/outputs/ytest.pkl', 'rb'))"
      ]
    },
    {
      "cell_type": "markdown",
      "metadata": {
        "id": "Wnchg_QKxjwB"
      },
      "source": [
        "**Experiment-1: RNN with an embedding layer and two hidden layers (128,64, 32,16) to learn word embedding from the data, keeping max feature size = 10000 and max length of each tweet 28 words**"
      ]
    },
    {
      "cell_type": "code",
      "source": [
        "max_features = 10000\n",
        "maxlen = 28"
      ],
      "metadata": {
        "id": "6hRNMQYv2sDF"
      },
      "execution_count": null,
      "outputs": []
    },
    {
      "cell_type": "code",
      "source": [
        "# # Define model\n",
        "# from keras.models import Sequential\n",
        "# from keras.layers import Dense, CuDNNGRU\n",
        "# from keras.optimizers import adam\n",
        "# from keras.callbacks import ModelCheckpoint\n",
        "# from __future__ import print_function\n",
        "# import keras\n",
        "# from keras.datasets import mnist\n",
        "# from keras.models import Sequential\n",
        "# from keras.layers import Dense, Dropout, Flatten\n",
        "# from sklearn.model_selection import GridSearchCV\n",
        "# from keras.wrappers.scikit_learn import KerasClassifier\n",
        "# from keras.optimizers import SGD\n",
        "# from keras.constraints import maxnorm\n",
        "\n",
        "# #cb = [ModelCheckpoint(\"model.hdf5\", monitor='val_loss', save_weights_only=False, period=3)]\n",
        "\n",
        "# def create_model():\n",
        "#     # default values\n",
        "    \n",
        "#     optimizer='adam' # or SGD\n",
        "#     lr = 0.01\n",
        "#     momemntum=0\n",
        "#     # create model\n",
        "#     model = Sequential()\n",
        "#     model.add(Dense(8, \n",
        "#                     input_dim=input_dim, kernel_initializer=init_mode, \n",
        "#                     activation=activation,\n",
        "#                     kernel_constraint=maxnorm(weight_constraint)))\n",
        "#     model.add(Dropout(dropout_rate)) \n",
        "#     model.add(Dense(1, kernel_initializer=init_mode, activation='sigmoid'))\n",
        "#     # Compile model\n",
        "#     model.compile(loss='mae', \n",
        "#                   optimizer=optimizer, \n",
        "#                   metrics=['accuracy'])\n",
        "#     return model\n",
        "\n",
        "# # create model\n",
        "# model = KerasClassifier(build_fn=create_model, batch_size=1000, epochs=10) \n",
        "# # use verbose=0 if you do not want to see progress\n",
        "\n",
        "# ########################################################\n",
        "# # Use scikit-learn to grid search \n",
        " \n",
        "# momentum = [0.0, 0.2, 0.4, 0.6, 0.8, 0.9]\n",
        "# learn_rate = [0.001, 0.01, 0.1, 0.2, 0.3]\n",
        "# optimizer = [ 'SGD', 'RMSprop', 'Adagrad', 'Adadelta', 'Adam', 'Adamax', 'Nadam']\n",
        "# ##############################################################\n",
        "# # grid search epochs, batch size\n",
        "# param_grid = dict(optimizer__learning_rate=learn_rate, optimizer__momentum=momentum , optimizer__optimizer = optimizer)\n",
        "# ##############################################################\n",
        "# grid = GridSearchCV(estimator=model, param_grid=param_grid, n_jobs=-1)\n",
        "# grid_result = grid.fit(X_train_scaled,y_train) \n",
        "# ##############################################################\n",
        "# # summarize results\n",
        "# print(\"Best: %f using %s\" % (grid_result.best_score_, grid_result.best_params_))\n",
        "# means = grid_result.cv_results_['mean_test_score']\n",
        "# stds = grid_result.cv_results_['std_test_score']\n",
        "# params = grid_result.cv_results_['params']\n",
        "# for mean, stdev, param in zip(means, stds, params):\n",
        "#     print(\"%f (%f) with: %r\" % (mean, stdev, param))"
      ],
      "metadata": {
        "id": "SU_FKTc3CHkQ"
      },
      "execution_count": null,
      "outputs": []
    },
    {
      "cell_type": "code",
      "execution_count": null,
      "metadata": {
        "colab": {
          "base_uri": "https://localhost:8080/"
        },
        "id": "UiPm-P7x57K_",
        "outputId": "f411eb6a-dfd6-4b46-a2bf-58e29c747c0e"
      },
      "outputs": [
        {
          "output_type": "stream",
          "name": "stdout",
          "text": [
            "Model: \"sequential_1\"\n",
            "_________________________________________________________________\n",
            " Layer (type)                Output Shape              Param #   \n",
            "=================================================================\n",
            " embedding_1 (Embedding)     (None, None, 28)          280000    \n",
            "                                                                 \n",
            " simple_rnn_1 (SimpleRNN)    (None, 32)                1952      \n",
            "                                                                 \n",
            " dense_2 (Dense)             (None, 128)               4224      \n",
            "                                                                 \n",
            " dense_3 (Dense)             (None, 64)                8256      \n",
            "                                                                 \n",
            " dropout (Dropout)           (None, 64)                0         \n",
            "                                                                 \n",
            " dense_4 (Dense)             (None, 32)                2080      \n",
            "                                                                 \n",
            " dense_5 (Dense)             (None, 16)                528       \n",
            "                                                                 \n",
            " dropout_1 (Dropout)         (None, 16)                0         \n",
            "                                                                 \n",
            " dense_6 (Dense)             (None, 1)                 17        \n",
            "                                                                 \n",
            "=================================================================\n",
            "Total params: 297,057\n",
            "Trainable params: 297,057\n",
            "Non-trainable params: 0\n",
            "_________________________________________________________________\n",
            "Epoch 1/5\n",
            "153/153 [==============================] - 26s 128ms/step - loss: 0.6695 - acc: 0.5956 - val_loss: 0.6150 - val_acc: 0.6724\n",
            "Epoch 2/5\n",
            "153/153 [==============================] - 7s 44ms/step - loss: 0.4769 - acc: 0.7915 - val_loss: 0.5185 - val_acc: 0.7537\n",
            "Epoch 3/5\n",
            "153/153 [==============================] - 6s 38ms/step - loss: 0.3120 - acc: 0.8871 - val_loss: 0.6366 - val_acc: 0.7603\n",
            "Epoch 4/5\n",
            "153/153 [==============================] - 5s 33ms/step - loss: 0.2132 - acc: 0.9290 - val_loss: 0.7044 - val_acc: 0.7373\n",
            "Epoch 5/5\n",
            "153/153 [==============================] - 5s 31ms/step - loss: 0.1604 - acc: 0.9518 - val_loss: 0.7749 - val_acc: 0.7373\n"
          ]
        }
      ],
      "source": [
        "\n",
        "model = Sequential()\n",
        "model.add(Embedding(max_features, maxlen))\n",
        "\n",
        "\n",
        "model.add(SimpleRNN(32))\n",
        "model.add(Dense(128, activation='relu' ))\n",
        "model.add(Dense(64, activation='relu'))\n",
        "model.add(Dropout(0.2))\n",
        "model.add(Dense(32, activation='relu'))\n",
        "model.add(Dense(16, activation='relu'))\n",
        "model.add(Dropout(0.2))\n",
        "model.add(Dense(1, activation='sigmoid'))\n",
        "model.compile(optimizer='rmsprop', loss='binary_crossentropy', metrics=['acc'])\n",
        "model.summary()\n",
        "history = model.fit(X_train, y_train,\n",
        "                    epochs=5,\n",
        "                    batch_size=32,\n",
        "                    validation_split = 0.2\n",
        "                   )\n",
        "\n"
      ]
    },
    {
      "cell_type": "code",
      "execution_count": null,
      "metadata": {
        "colab": {
          "base_uri": "https://localhost:8080/",
          "height": 298
        },
        "id": "Z8wRVmzP6zgO",
        "outputId": "c03439ca-28fd-4544-be77-b313be79d6b4"
      },
      "outputs": [
        {
          "output_type": "display_data",
          "data": {
            "text/plain": [
              "<Figure size 432x288 with 1 Axes>"
            ],
            "image/png": "[encoded data removed]"
          },
          "metadata": {
            "needs_background": "light"
          }
        },
        {
          "output_type": "display_data",
          "data": {
            "text/plain": [
              "<Figure size 432x288 with 0 Axes>"
            ]
          },
          "metadata": {}
        }
      ],
      "source": [
        "acc = history.history['acc']\n",
        "val_acc = history.history['val_acc']\n",
        "loss = history.history['loss']\n",
        "val_loss = history.history['val_loss']\n",
        "\n",
        "epochs = range(len(acc))\n",
        "\n",
        "plt.plot(epochs, acc, 'r', label='Training acc')\n",
        "plt.plot(epochs, val_acc, 'g', label='Validation acc')\n",
        "plt.title('Training and validation accuracy of Experiment #2')\n",
        "plt.legend()\n",
        "\n",
        "plt.figure()\n",
        "plt.show()\n"
      ]
    },
    {
      "cell_type": "code",
      "execution_count": null,
      "metadata": {
        "colab": {
          "base_uri": "https://localhost:8080/"
        },
        "id": "64DnBCpS6ckY",
        "outputId": "8041604f-a33b-4e34-8514-4208ebf12302"
      },
      "outputs": [
        {
          "output_type": "stream",
          "name": "stdout",
          "text": [
            "48/48 [==============================] - 0s 3ms/step\n",
            "Experiment#1--> Accuracy:  0.7353906762967827  \tPrecision:  0.6765119549929677 \tRecall:  0.735474006116208 \tF1-Score:  0.7047619047619047\n"
          ]
        }
      ],
      "source": [
        "y_pred = model.predict(X_test)\n",
        "performanceArray = []\n",
        "\n",
        "\n",
        "\n",
        "accuracy = accuracy_score(y_test,y_pred.round())\n",
        "precision = precision_score(y_test,y_pred.round())\n",
        "recall=recall_score(y_test,y_pred.round())\n",
        "f1 = f1_score(y_test,y_pred.round())\n",
        "performanceArray.append([accuracy,precision,recall,f1])\n",
        "print('Experiment#1--> Accuracy: ',accuracy,' \\tPrecision: ',precision,'\\tRecall: ',recall,'\\tF1-Score: ',f1)\n",
        "\n",
        "# In order to store the performance( accuracy, precision, recall and F1) of each experiment \n",
        "pickle.dump(performanceArray, open('/content/gdrive/MyDrive/MachineLearning/disaster_tweets/outputs/performance.pkl', 'wb'))\n",
        "\n",
        "\n"
      ]
    },
    {
      "cell_type": "code",
      "source": [
        "# import tensorflow as tf\n",
        "\n",
        "# y_pred = model.predict(x1_test)\n",
        "# y_pred = tf.squeeze(tf.round(y_pred))\n",
        "# y_pred"
      ],
      "metadata": {
        "id": "zVKFjJBMD9PP"
      },
      "execution_count": null,
      "outputs": []
    },
    {
      "cell_type": "code",
      "source": [
        "# output = pd.DataFrame({'id':df_test['id'], 'text': df_test[\"text\"]   , 'target': y_pred})\n",
        "# output.to_csv(\"/content/gdrive/MyDrive/MachineLearning/disaster_tweets/outputs/RNN.csv\", index=False)"
      ],
      "metadata": {
        "id": "VIxLWZ5aF9fi"
      },
      "execution_count": null,
      "outputs": []
    },
    {
      "cell_type": "code",
      "source": [
        "#output"
      ],
      "metadata": {
        "id": "lrLQZeVaLWSf"
      },
      "execution_count": null,
      "outputs": []
    },
    {
      "cell_type": "markdown",
      "metadata": {
        "id": "qW7V1g29IeoX"
      },
      "source": [
        "**Experiment-2: RNN with an embedding layer and three hidden layers (128,64, 32,16) by Using Glove with 100d, keeping max feature size = 10000 and max length of each tweet 28 words**"
      ]
    },
    {
      "cell_type": "code",
      "execution_count": null,
      "metadata": {
        "colab": {
          "base_uri": "https://localhost:8080/"
        },
        "id": "zlYaaH1eW9n-",
        "outputId": "aa4ba461-d44c-4cfc-94ed-cac49955550b"
      },
      "outputs": [
        {
          "output_type": "stream",
          "name": "stdout",
          "text": [
            "Model: \"sequential_2\"\n",
            "_________________________________________________________________\n",
            " Layer (type)                Output Shape              Param #   \n",
            "=================================================================\n",
            " embedding_2 (Embedding)     (None, None, 100)         1000000   \n",
            "                                                                 \n",
            " simple_rnn_2 (SimpleRNN)    (None, 32)                4256      \n",
            "                                                                 \n",
            " dense_7 (Dense)             (None, 128)               4224      \n",
            "                                                                 \n",
            " dense_8 (Dense)             (None, 64)                8256      \n",
            "                                                                 \n",
            " dropout_2 (Dropout)         (None, 64)                0         \n",
            "                                                                 \n",
            " dense_9 (Dense)             (None, 32)                2080      \n",
            "                                                                 \n",
            " dense_10 (Dense)            (None, 16)                528       \n",
            "                                                                 \n",
            " dropout_3 (Dropout)         (None, 16)                0         \n",
            "                                                                 \n",
            " dense_11 (Dense)            (None, 1)                 17        \n",
            "                                                                 \n",
            "=================================================================\n",
            "Total params: 1,019,361\n",
            "Trainable params: 19,361\n",
            "Non-trainable params: 1,000,000\n",
            "_________________________________________________________________\n",
            "Epoch 1/20\n",
            "153/153 [==============================] - 6s 24ms/step - loss: 0.5989 - acc: 0.6972 - val_loss: 0.5568 - val_acc: 0.7471\n",
            "Epoch 2/20\n",
            "153/153 [==============================] - 4s 23ms/step - loss: 0.5480 - acc: 0.7533 - val_loss: 0.5734 - val_acc: 0.7406\n",
            "Epoch 3/20\n",
            "153/153 [==============================] - 4s 25ms/step - loss: 0.5238 - acc: 0.7730 - val_loss: 0.5498 - val_acc: 0.7594\n",
            "Epoch 4/20\n",
            "153/153 [==============================] - 4s 23ms/step - loss: 0.5037 - acc: 0.7830 - val_loss: 0.5514 - val_acc: 0.7529\n",
            "Epoch 5/20\n",
            "153/153 [==============================] - 4s 24ms/step - loss: 0.4958 - acc: 0.7896 - val_loss: 0.5643 - val_acc: 0.7381\n",
            "Epoch 6/20\n",
            "153/153 [==============================] - 3s 23ms/step - loss: 0.4852 - acc: 0.7935 - val_loss: 0.5194 - val_acc: 0.7718\n",
            "Epoch 7/20\n",
            "153/153 [==============================] - 4s 23ms/step - loss: 0.4777 - acc: 0.8060 - val_loss: 0.5293 - val_acc: 0.7644\n",
            "Epoch 8/20\n",
            "153/153 [==============================] - 3s 22ms/step - loss: 0.4619 - acc: 0.8120 - val_loss: 0.6022 - val_acc: 0.7430\n",
            "Epoch 9/20\n",
            "153/153 [==============================] - 3s 23ms/step - loss: 0.4577 - acc: 0.8173 - val_loss: 0.4959 - val_acc: 0.7808\n",
            "Epoch 10/20\n",
            "153/153 [==============================] - 3s 23ms/step - loss: 0.4498 - acc: 0.8216 - val_loss: 0.5046 - val_acc: 0.7833\n",
            "Epoch 11/20\n",
            "153/153 [==============================] - 4s 24ms/step - loss: 0.4386 - acc: 0.8272 - val_loss: 0.5489 - val_acc: 0.7734\n",
            "Epoch 12/20\n",
            "153/153 [==============================] - 4s 23ms/step - loss: 0.4344 - acc: 0.8278 - val_loss: 0.5363 - val_acc: 0.7627\n",
            "Epoch 13/20\n",
            "153/153 [==============================] - 4s 23ms/step - loss: 0.4263 - acc: 0.8296 - val_loss: 0.5157 - val_acc: 0.7718\n",
            "Epoch 14/20\n",
            "153/153 [==============================] - 6s 41ms/step - loss: 0.4179 - acc: 0.8348 - val_loss: 0.5398 - val_acc: 0.7759\n",
            "Epoch 15/20\n",
            "153/153 [==============================] - 8s 50ms/step - loss: 0.4123 - acc: 0.8372 - val_loss: 0.5452 - val_acc: 0.7660\n",
            "Epoch 16/20\n",
            "153/153 [==============================] - 8s 50ms/step - loss: 0.4094 - acc: 0.8452 - val_loss: 0.5322 - val_acc: 0.7652\n",
            "Epoch 17/20\n",
            "153/153 [==============================] - 4s 23ms/step - loss: 0.3983 - acc: 0.8479 - val_loss: 0.5282 - val_acc: 0.7668\n",
            "Epoch 18/20\n",
            "153/153 [==============================] - 4s 24ms/step - loss: 0.3981 - acc: 0.8498 - val_loss: 0.5061 - val_acc: 0.7750\n",
            "Epoch 19/20\n",
            "153/153 [==============================] - 4s 24ms/step - loss: 0.3813 - acc: 0.8545 - val_loss: 0.5955 - val_acc: 0.7668\n",
            "Epoch 20/20\n",
            "153/153 [==============================] - 4s 24ms/step - loss: 0.3819 - acc: 0.8582 - val_loss: 0.5405 - val_acc: 0.7841\n"
          ]
        }
      ],
      "source": [
        "from tensorflow.keras.layers import Dense, Dropout, Flatten, Conv2D, MaxPooling2D \n",
        "\n",
        "path_to_glove_file = \"/content/gdrive/MyDrive/MachineLearning/disaster_tweets/glove.6B.100d.txt\"\n",
        "embeddings_index = {}\n",
        "with open(path_to_glove_file) as f:\n",
        "    for line in f:\n",
        "        word, coefs = line.split(maxsplit=1)\n",
        "        coefs = np.fromstring(coefs, \"f\", sep=\" \")\n",
        "        embeddings_index[word] = coefs\n",
        "\n",
        "embedding_dim = 100\n",
        "\n",
        "vocabulary = text_vectorization.get_vocabulary()\n",
        "word_index = dict(zip(vocabulary, range(len(vocabulary))))\n",
        "\n",
        "embedding_matrix = np.zeros((10000, embedding_dim))\n",
        "for word, i in word_index.items():\n",
        "    if i <10000:\n",
        "        embedding_vector = embeddings_index.get(word)\n",
        "    if embedding_vector is not None:\n",
        "        embedding_matrix[i] = embedding_vector\n",
        "model = Sequential()\n",
        "model.add(Embedding(max_features, 100,embeddings_initializer=keras.initializers.Constant(embedding_matrix),\n",
        "    trainable=False,))\n",
        "\n",
        "model.add(SimpleRNN(32))\n",
        "model.add(Dense(128, activation='relu'))\n",
        "model.add(Dense(64, activation='relu'))\n",
        "model.add(Dropout(0.2))\n",
        "model.add(Dense(32, activation='relu'))\n",
        "model.add(Dense(16, activation='relu'))\n",
        "model.add(Dropout(0.2))\n",
        "model.add(Dense(1, activation='sigmoid'))\n",
        "model.compile(optimizer='rmsprop', loss='binary_crossentropy', metrics=['acc'])\n",
        "model.summary()\n",
        "history = model.fit(X_train, y_train,\n",
        "                    epochs=20,\n",
        "                    batch_size=32,\n",
        "                    validation_split=0.2)"
      ]
    },
    {
      "cell_type": "code",
      "execution_count": null,
      "metadata": {
        "colab": {
          "base_uri": "https://localhost:8080/",
          "height": 298
        },
        "id": "md9EpPmXXRaM",
        "outputId": "a37e4bd3-1e8a-4a4c-dff0-78e495e8232f"
      },
      "outputs": [
        {
          "output_type": "display_data",
          "data": {
            "text/plain": [
              "<Figure size 432x288 with 1 Axes>"
            ],
            "image/png": "[encoded data removed]"
          },
          "metadata": {
            "needs_background": "light"
          }
        },
        {
          "output_type": "display_data",
          "data": {
            "text/plain": [
              "<Figure size 432x288 with 0 Axes>"
            ]
          },
          "metadata": {}
        }
      ],
      "source": [
        "acc = history.history['acc']\n",
        "val_acc = history.history['val_acc']\n",
        "loss = history.history['loss']\n",
        "val_loss = history.history['val_loss']\n",
        "\n",
        "epochs = range(len(acc))\n",
        "\n",
        "plt.plot(epochs, acc, 'r', label='Training acc')\n",
        "plt.plot(epochs, val_acc, 'g', label='Validation acc')\n",
        "plt.title('Training and validation accuracy of Experiment #4')\n",
        "plt.legend()\n",
        "\n",
        "plt.figure()\n",
        "plt.show()"
      ]
    },
    {
      "cell_type": "code",
      "execution_count": null,
      "metadata": {
        "colab": {
          "base_uri": "https://localhost:8080/"
        },
        "id": "wolMmv9xXTWO",
        "outputId": "506d7a17-676e-461e-e65d-0e0339bdde62"
      },
      "outputs": [
        {
          "output_type": "stream",
          "name": "stdout",
          "text": [
            "48/48 [==============================] - 0s 4ms/step\n",
            "Experiment#2--> Accuracy:  0.8023637557452397  \tPrecision:  0.8413926499032882 \tRecall:  0.6651376146788991 \tF1-Score:  0.7429547395388556\n"
          ]
        }
      ],
      "source": [
        "y_pred = model.predict(X_test)\n",
        "performanceArray = pickle.load(open('/content/gdrive/MyDrive/MachineLearning/disaster_tweets/outputs/performance.pkl', 'rb'))\n",
        "\n",
        "accuracy = accuracy_score(y_test,y_pred.round())\n",
        "precision = precision_score(y_test,y_pred.round())\n",
        "recall=recall_score(y_test,y_pred.round())\n",
        "f1 = f1_score(y_test,y_pred.round())\n",
        "performanceArray.append([accuracy,precision,recall,f1])\n",
        "print('Experiment#2--> Accuracy: ',accuracy,' \\tPrecision: ',precision,'\\tRecall: ',recall,'\\tF1-Score: ',f1)\n",
        "\n",
        "# In order to store the performance( accuracy, precision, recall and F1) of each experiment \n",
        "pickle.dump(performanceArray, open('/content/gdrive/MyDrive/MachineLearning/disaster_tweets/outputs/performance.pkl', 'wb'))\n"
      ]
    },
    {
      "cell_type": "code",
      "execution_count": null,
      "metadata": {
        "id": "SDq2WWoaLV-5",
        "colab": {
          "base_uri": "https://localhost:8080/",
          "height": 183
        },
        "outputId": "a54d1be9-99ac-46df-b669-902cfe0eb2e4"
      },
      "outputs": [
        {
          "output_type": "error",
          "ename": "FileNotFoundError",
          "evalue": "ignored",
          "traceback": [
            "\u001b[0;31m---------------------------------------------------------------------------\u001b[0m",
            "\u001b[0;31mFileNotFoundError\u001b[0m                         Traceback (most recent call last)",
            "\u001b[0;32m<ipython-input-35-295c6fb3fe18>\u001b[0m in \u001b[0;36m<module>\u001b[0;34m\u001b[0m\n\u001b[1;32m      1\u001b[0m \u001b[0;31m# Extract Vocabulary from drive\u001b[0m\u001b[0;34m\u001b[0m\u001b[0;34m\u001b[0m\u001b[0;34m\u001b[0m\u001b[0m\n\u001b[0;32m----> 2\u001b[0;31m \u001b[0mvocabulary\u001b[0m \u001b[0;34m=\u001b[0m \u001b[0mpickle\u001b[0m\u001b[0;34m.\u001b[0m\u001b[0mload\u001b[0m\u001b[0;34m(\u001b[0m\u001b[0mopen\u001b[0m\u001b[0;34m(\u001b[0m\u001b[0;34m'drive/My Drive/Machine Learning/Assignment3/vocab.pkl'\u001b[0m\u001b[0;34m,\u001b[0m \u001b[0;34m'rb'\u001b[0m\u001b[0;34m)\u001b[0m\u001b[0;34m)\u001b[0m\u001b[0;34m\u001b[0m\u001b[0;34m\u001b[0m\u001b[0m\n\u001b[0m",
            "\u001b[0;31mFileNotFoundError\u001b[0m: [Errno 2] No such file or directory: 'drive/My Drive/Machine Learning/Assignment3/vocab.pkl'"
          ]
        }
      ],
      "source": [
        "# Extract Vocabulary from drive\n",
        "#vocabulary = pickle.load(open('drive/My Drive/Machine Learning/Assignment3/vocab.pkl', 'rb'))"
      ]
    },
    {
      "cell_type": "markdown",
      "metadata": {
        "id": "dys04DCzzdds"
      },
      "source": [
        "**Experiment-3: RNN with an embedding layer and three hidden layers (128, 64, 32,16) by Using Glove-twitter with 100d, keeping max feature size = 10000 and max length of each tweet 28 words**"
      ]
    },
    {
      "cell_type": "code",
      "source": [
        "path_to_glove_file = \"/content/gdrive/MyDrive/MachineLearning/disaster_tweets/glove.twitter.27B.100d.txt\"\n",
        "embeddings_index = {}\n",
        "with open(path_to_glove_file) as f:\n",
        "    for line in f:\n",
        "        word, coefs = line.split(maxsplit=1)\n",
        "        coefs = np.fromstring(coefs, \"f\", sep=\" \")\n",
        "        embeddings_index[word] = coefs\n",
        "\n",
        "embedding_dim = 100\n",
        "\n",
        "word_index = dict(zip(vocabulary, range(len(vocabulary))))\n",
        "\n",
        "embedding_matrix = np.zeros((10000, embedding_dim))\n",
        "for word, i in word_index.items():\n",
        "    if i <10000:\n",
        "        embedding_vector = embeddings_index.get(word)\n",
        "    if embedding_vector is not None:\n",
        "        embedding_matrix[i] = embedding_vector"
      ],
      "metadata": {
        "id": "Glvs-uGqQJ3i"
      },
      "execution_count": null,
      "outputs": []
    },
    {
      "cell_type": "code",
      "execution_count": null,
      "metadata": {
        "colab": {
          "base_uri": "https://localhost:8080/"
        },
        "id": "uGfoXdoMiYMP",
        "outputId": "8baec8dd-a3f2-4352-947e-0cd738f342d3"
      },
      "outputs": [
        {
          "output_type": "stream",
          "name": "stdout",
          "text": [
            "Model: \"sequential_3\"\n",
            "_________________________________________________________________\n",
            " Layer (type)                Output Shape              Param #   \n",
            "=================================================================\n",
            " embedding_3 (Embedding)     (None, None, 100)         1000000   \n",
            "                                                                 \n",
            " simple_rnn_3 (SimpleRNN)    (None, 32)                4256      \n",
            "                                                                 \n",
            " dense_12 (Dense)            (None, 128)               4224      \n",
            "                                                                 \n",
            " dense_13 (Dense)            (None, 64)                8256      \n",
            "                                                                 \n",
            " dropout_4 (Dropout)         (None, 64)                0         \n",
            "                                                                 \n",
            " dense_14 (Dense)            (None, 32)                2080      \n",
            "                                                                 \n",
            " dense_15 (Dense)            (None, 16)                528       \n",
            "                                                                 \n",
            " dropout_5 (Dropout)         (None, 16)                0         \n",
            "                                                                 \n",
            " dense_16 (Dense)            (None, 1)                 17        \n",
            "                                                                 \n",
            "=================================================================\n",
            "Total params: 1,019,361\n",
            "Trainable params: 19,361\n",
            "Non-trainable params: 1,000,000\n",
            "_________________________________________________________________\n",
            "Epoch 1/20\n",
            "153/153 [==============================] - 6s 26ms/step - loss: 0.5996 - acc: 0.6956 - val_loss: 0.5338 - val_acc: 0.7570\n",
            "Epoch 2/20\n",
            "153/153 [==============================] - 4s 25ms/step - loss: 0.5307 - acc: 0.7656 - val_loss: 0.5949 - val_acc: 0.7504\n",
            "Epoch 3/20\n",
            "153/153 [==============================] - 4s 25ms/step - loss: 0.5154 - acc: 0.7888 - val_loss: 0.5255 - val_acc: 0.7660\n",
            "Epoch 4/20\n",
            "153/153 [==============================] - 7s 45ms/step - loss: 0.5008 - acc: 0.7931 - val_loss: 0.5070 - val_acc: 0.7734\n",
            "Epoch 5/20\n",
            "153/153 [==============================] - 5s 33ms/step - loss: 0.4819 - acc: 0.7974 - val_loss: 0.5114 - val_acc: 0.7800\n",
            "Epoch 6/20\n",
            "153/153 [==============================] - 6s 39ms/step - loss: 0.4667 - acc: 0.8120 - val_loss: 0.4868 - val_acc: 0.7865\n",
            "Epoch 7/20\n",
            "153/153 [==============================] - 4s 25ms/step - loss: 0.4567 - acc: 0.8167 - val_loss: 0.5067 - val_acc: 0.7882\n",
            "Epoch 8/20\n",
            "153/153 [==============================] - 4s 24ms/step - loss: 0.4483 - acc: 0.8188 - val_loss: 0.4896 - val_acc: 0.7816\n",
            "Epoch 9/20\n",
            "153/153 [==============================] - 4s 23ms/step - loss: 0.4375 - acc: 0.8270 - val_loss: 0.4851 - val_acc: 0.7849\n",
            "Epoch 10/20\n",
            "153/153 [==============================] - 4s 23ms/step - loss: 0.4307 - acc: 0.8315 - val_loss: 0.5132 - val_acc: 0.7906\n",
            "Epoch 11/20\n",
            "153/153 [==============================] - 4s 25ms/step - loss: 0.4176 - acc: 0.8409 - val_loss: 0.5036 - val_acc: 0.7791\n",
            "Epoch 12/20\n",
            "153/153 [==============================] - 5s 30ms/step - loss: 0.4063 - acc: 0.8440 - val_loss: 0.5063 - val_acc: 0.7915\n",
            "Epoch 13/20\n",
            "153/153 [==============================] - 5s 35ms/step - loss: 0.3939 - acc: 0.8539 - val_loss: 0.5205 - val_acc: 0.7849\n",
            "Epoch 14/20\n",
            "153/153 [==============================] - 4s 24ms/step - loss: 0.3815 - acc: 0.8559 - val_loss: 0.5408 - val_acc: 0.7791\n",
            "Epoch 15/20\n",
            "153/153 [==============================] - 4s 23ms/step - loss: 0.3731 - acc: 0.8662 - val_loss: 0.5876 - val_acc: 0.7414\n",
            "Epoch 16/20\n",
            "153/153 [==============================] - 4s 25ms/step - loss: 0.3588 - acc: 0.8676 - val_loss: 0.5741 - val_acc: 0.7882\n",
            "Epoch 17/20\n",
            "153/153 [==============================] - 4s 24ms/step - loss: 0.3521 - acc: 0.8729 - val_loss: 0.5369 - val_acc: 0.7586\n",
            "Epoch 18/20\n",
            "153/153 [==============================] - 4s 23ms/step - loss: 0.3470 - acc: 0.8740 - val_loss: 0.6219 - val_acc: 0.7824\n",
            "Epoch 19/20\n",
            "153/153 [==============================] - 4s 24ms/step - loss: 0.3322 - acc: 0.8822 - val_loss: 0.5292 - val_acc: 0.7594\n",
            "Epoch 20/20\n",
            "153/153 [==============================] - 4s 24ms/step - loss: 0.3183 - acc: 0.8859 - val_loss: 0.6024 - val_acc: 0.7627\n"
          ]
        }
      ],
      "source": [
        "\n",
        "model = Sequential()\n",
        "model.add(Embedding(10000, 100,embeddings_initializer=keras.initializers.Constant(embedding_matrix),\n",
        "    trainable=False,))\n",
        "\n",
        "model.add(SimpleRNN(32))\n",
        "model.add(Dense(128, activation='relu'))\n",
        "model.add(Dense(64, activation='relu'))\n",
        "model.add(Dropout(0.2))\n",
        "model.add(Dense(32, activation='relu'))\n",
        "model.add(Dense(16, activation='relu'))\n",
        "model.add(Dropout(0.2))\n",
        "model.add(Dense(1, activation='sigmoid'))\n",
        "model.compile(optimizer='rmsprop', loss='binary_crossentropy', metrics=['acc'])\n",
        "model.summary()\n",
        "history = model.fit(X_train, y_train,\n",
        "                    epochs=20,\n",
        "                    batch_size=32,\n",
        "                    validation_split=0.2)"
      ]
    },
    {
      "cell_type": "code",
      "execution_count": null,
      "metadata": {
        "colab": {
          "base_uri": "https://localhost:8080/",
          "height": 298
        },
        "id": "tVRYZyPpN8gh",
        "outputId": "7cd144b0-f313-4814-ab47-d447c6938077"
      },
      "outputs": [
        {
          "output_type": "display_data",
          "data": {
            "text/plain": [
              "<Figure size 432x288 with 1 Axes>"
            ],
            "image/png": "[encoded data removed]"
          },
          "metadata": {
            "needs_background": "light"
          }
        },
        {
          "output_type": "display_data",
          "data": {
            "text/plain": [
              "<Figure size 432x288 with 0 Axes>"
            ]
          },
          "metadata": {}
        }
      ],
      "source": [
        "acc = history.history['acc']\n",
        "val_acc = history.history['val_acc']\n",
        "loss = history.history['loss']\n",
        "val_loss = history.history['val_loss']\n",
        "\n",
        "epochs = range(len(acc))\n",
        "\n",
        "plt.plot(epochs, acc, 'r', label='Training acc')\n",
        "plt.plot(epochs, val_acc, 'g', label='Validation acc')\n",
        "plt.title('Training and validation accuracy of Experiment #6')\n",
        "plt.legend()\n",
        "\n",
        "plt.figure()\n",
        "plt.show()"
      ]
    },
    {
      "cell_type": "code",
      "execution_count": null,
      "metadata": {
        "colab": {
          "base_uri": "https://localhost:8080/"
        },
        "id": "LKj4JxnvODpH",
        "outputId": "17fe6a7a-b8b3-4d67-a09f-1fd9fdb5f68e"
      },
      "outputs": [
        {
          "output_type": "stream",
          "name": "stdout",
          "text": [
            "48/48 [==============================] - 0s 3ms/step\n",
            "Experiment#6--> Accuracy:  0.7905449770190414  \tPrecision:  0.778702163061564 \tRecall:  0.7155963302752294 \tF1-Score:  0.7458167330677292\n"
          ]
        }
      ],
      "source": [
        "y_pred = model.predict(X_test)\n",
        "performanceArray = pickle.load(open('/content/gdrive/MyDrive/MachineLearning/disaster_tweets/outputs/performance.pkl', 'rb'))\n",
        "\n",
        "accuracy = accuracy_score(y_test,y_pred.round())\n",
        "precision = precision_score(y_test,y_pred.round())\n",
        "recall=recall_score(y_test,y_pred.round())\n",
        "f1 = f1_score(y_test,y_pred.round())\n",
        "performanceArray.append([accuracy,precision,recall,f1])\n",
        "print('Experiment#6--> Accuracy: ',accuracy,' \\tPrecision: ',precision,'\\tRecall: ',recall,'\\tF1-Score: ',f1)\n",
        "\n",
        "# In order to store the performance( accuracy, precision, recall and F1) of each experiment \n",
        "pickle.dump(performanceArray, open('/content/gdrive/MyDrive/MachineLearning/disaster_tweets/outputs/performance.pkl', 'wb'))"
      ]
    },
    {
      "cell_type": "markdown",
      "source": [
        "**Experiment-4: RNN with an embedding layer and three hidden layers (128,64, 32,16) by Using fastex with 300d, keeping max feature size = 10000 and max length of each tweet 28 words**"
      ],
      "metadata": {
        "id": "2luT1z_9VqJM"
      }
    },
    {
      "cell_type": "code",
      "source": [
        "path_to_glove_file = \"/content/gdrive/MyDrive/MachineLearning/disaster_tweets/wiki-news-300d-1M.vec\"\n",
        "embeddings_index = {}\n",
        "with open(path_to_glove_file) as f:\n",
        "    for line in f:\n",
        "        word, coefs = line.split(maxsplit=1)\n",
        "        coefs = np.fromstring(coefs, \"f\", sep=\" \")\n",
        "        embeddings_index[word] = coefs\n",
        "\n",
        "embedding_dim = 300\n",
        "\n",
        "word_index = dict(zip(vocabulary, range(len(vocabulary))))\n",
        "\n",
        "embedding_matrix = np.zeros((10000, embedding_dim))\n",
        "for word, i in word_index.items():\n",
        "    if i <10000:\n",
        "        embedding_vector = embeddings_index.get(word)\n",
        "    if embedding_vector is not None:\n",
        "        embedding_matrix[i] = embedding_vector"
      ],
      "metadata": {
        "id": "kIJvGrjUbIj-"
      },
      "execution_count": null,
      "outputs": []
    },
    {
      "cell_type": "code",
      "source": [
        "model = Sequential()\n",
        "model.add(Embedding(10000, 300,embeddings_initializer=keras.initializers.Constant(embedding_matrix),\n",
        "    trainable=False,))\n",
        "\n",
        "model.add(SimpleRNN(32))\n",
        "model.add(Dense(128, activation='relu'))\n",
        "model.add(Dense(64, activation='relu'))\n",
        "model.add(Dropout(0.2))\n",
        "model.add(Dense(32, activation='relu'))\n",
        "model.add(Dense(16, activation='relu'))\n",
        "model.add(Dropout(0.2))\n",
        "model.add(Dense(1, activation='sigmoid'))\n",
        "model.compile(optimizer='rmsprop', loss='binary_crossentropy', metrics=['acc'])\n",
        "model.summary()\n",
        "history = model.fit(X_train, y_train,\n",
        "                    epochs=9,\n",
        "                    batch_size=32,\n",
        "                    validation_split=0.2)"
      ],
      "metadata": {
        "colab": {
          "base_uri": "https://localhost:8080/"
        },
        "id": "gbDNAjZQVz6x",
        "outputId": "a396a962-9bae-459c-cd3a-ad7338b8d27d"
      },
      "execution_count": null,
      "outputs": [
        {
          "output_type": "stream",
          "name": "stdout",
          "text": [
            "Model: \"sequential_4\"\n",
            "_________________________________________________________________\n",
            " Layer (type)                Output Shape              Param #   \n",
            "=================================================================\n",
            " embedding_4 (Embedding)     (None, None, 300)         3000000   \n",
            "                                                                 \n",
            " simple_rnn_4 (SimpleRNN)    (None, 32)                10656     \n",
            "                                                                 \n",
            " dense_17 (Dense)            (None, 128)               4224      \n",
            "                                                                 \n",
            " dense_18 (Dense)            (None, 64)                8256      \n",
            "                                                                 \n",
            " dropout_6 (Dropout)         (None, 64)                0         \n",
            "                                                                 \n",
            " dense_19 (Dense)            (None, 32)                2080      \n",
            "                                                                 \n",
            " dense_20 (Dense)            (None, 16)                528       \n",
            "                                                                 \n",
            " dropout_7 (Dropout)         (None, 16)                0         \n",
            "                                                                 \n",
            " dense_21 (Dense)            (None, 1)                 17        \n",
            "                                                                 \n",
            "=================================================================\n",
            "Total params: 3,025,761\n",
            "Trainable params: 25,761\n",
            "Non-trainable params: 3,000,000\n",
            "_________________________________________________________________\n",
            "Epoch 1/9\n",
            "153/153 [==============================] - 6s 26ms/step - loss: 0.5584 - acc: 0.7270 - val_loss: 0.4809 - val_acc: 0.7947\n",
            "Epoch 2/9\n",
            "153/153 [==============================] - 3s 22ms/step - loss: 0.4724 - acc: 0.7935 - val_loss: 0.4642 - val_acc: 0.7956\n",
            "Epoch 3/9\n",
            "153/153 [==============================] - 4s 24ms/step - loss: 0.4370 - acc: 0.8089 - val_loss: 0.4899 - val_acc: 0.7857\n",
            "Epoch 4/9\n",
            "153/153 [==============================] - 4s 23ms/step - loss: 0.4242 - acc: 0.8247 - val_loss: 0.4715 - val_acc: 0.7865\n",
            "Epoch 5/9\n",
            "153/153 [==============================] - 3s 23ms/step - loss: 0.3980 - acc: 0.8282 - val_loss: 0.4819 - val_acc: 0.7898\n",
            "Epoch 6/9\n",
            "153/153 [==============================] - 4s 24ms/step - loss: 0.3762 - acc: 0.8420 - val_loss: 0.4997 - val_acc: 0.7849\n",
            "Epoch 7/9\n",
            "153/153 [==============================] - 4s 24ms/step - loss: 0.3507 - acc: 0.8547 - val_loss: 0.5910 - val_acc: 0.7890\n",
            "Epoch 8/9\n",
            "153/153 [==============================] - 4s 24ms/step - loss: 0.3382 - acc: 0.8610 - val_loss: 0.5237 - val_acc: 0.7594\n",
            "Epoch 9/9\n",
            "153/153 [==============================] - 4s 24ms/step - loss: 0.3209 - acc: 0.8709 - val_loss: 0.5304 - val_acc: 0.7635\n"
          ]
        }
      ]
    },
    {
      "cell_type": "code",
      "source": [
        "acc = history.history['acc']\n",
        "val_acc = history.history['val_acc']\n",
        "loss = history.history['loss']\n",
        "val_loss = history.history['val_loss']\n",
        "\n",
        "epochs = range(len(acc))\n",
        "\n",
        "plt.plot(epochs, acc, 'r', label='Training acc')\n",
        "plt.plot(epochs, val_acc, 'g', label='Validation acc')\n",
        "plt.title('Training and validation accuracy of Experiment #8')\n",
        "plt.legend()\n",
        "\n",
        "plt.figure()\n",
        "plt.show()"
      ],
      "metadata": {
        "colab": {
          "base_uri": "https://localhost:8080/",
          "height": 298
        },
        "id": "1NOZHBlKV0Ve",
        "outputId": "6c10a47f-8147-42b7-c3ee-aa1aab0db369"
      },
      "execution_count": null,
      "outputs": [
        {
          "output_type": "display_data",
          "data": {
            "text/plain": [
              "<Figure size 432x288 with 1 Axes>"
            ],
            "image/png": "[encoded data removed]"
          },
          "metadata": {
            "needs_background": "light"
          }
        },
        {
          "output_type": "display_data",
          "data": {
            "text/plain": [
              "<Figure size 432x288 with 0 Axes>"
            ]
          },
          "metadata": {}
        }
      ]
    },
    {
      "cell_type": "code",
      "source": [
        "y_pred = model.predict(X_test)\n",
        "performanceArray = pickle.load(open('/content/gdrive/MyDrive/MachineLearning/disaster_tweets/outputs/performance.pkl', 'rb'))\n",
        "\n",
        "accuracy = accuracy_score(y_test,y_pred.round())\n",
        "precision = precision_score(y_test,y_pred.round())\n",
        "recall=recall_score(y_test,y_pred.round())\n",
        "f1 = f1_score(y_test,y_pred.round())\n",
        "performanceArray.append([accuracy,precision,recall,f1])\n",
        "print('Experiment#8--> Accuracy: ',accuracy,' \\tPrecision: ',precision,'\\tRecall: ',recall,'\\tF1-Score: ',f1)\n",
        "\n",
        "# In order to store the performance( accuracy, precision, recall and F1) of each experiment \n",
        "pickle.dump(performanceArray, open('/content/gdrive/MyDrive/MachineLearning/disaster_tweets/outputs/performance.pkl', 'wb'))"
      ],
      "metadata": {
        "colab": {
          "base_uri": "https://localhost:8080/"
        },
        "id": "TpRqG7wBV0fA",
        "outputId": "92c3f06c-1670-4572-cd70-e2012406d84b"
      },
      "execution_count": null,
      "outputs": [
        {
          "output_type": "stream",
          "name": "stdout",
          "text": [
            "48/48 [==============================] - 0s 3ms/step\n",
            "Experiment#8--> Accuracy:  0.7590282337491793  \tPrecision:  0.713859910581222 \tRecall:  0.7324159021406728 \tF1-Score:  0.7230188679245283\n"
          ]
        }
      ]
    },
    {
      "cell_type": "markdown",
      "source": [
        "Now Moving to LSTM"
      ],
      "metadata": {
        "id": "vjfVFe1sdI2h"
      }
    },
    {
      "cell_type": "markdown",
      "source": [
        "**Experiment-5: LSTM with an embedding layer and three hidden layers (128, 64, 32,16) to learn word embedding from the data, keeping max feature size = 10000 and max length of each tweet 28 words**"
      ],
      "metadata": {
        "id": "XNGwkgGtiMjf"
      }
    },
    {
      "cell_type": "code",
      "source": [
        "max_features = 10000  # number of words to consider as features\n",
        "maxlen = 28  # Cut texts after this number of words (among top max_features most common words)\n",
        "\n",
        "model = Sequential()\n",
        "model.add(Embedding(max_features, maxlen))\n",
        "model.add(Bidirectional(LSTM(32)))\n",
        "model.add(Dense(128, activation='relu'))\n",
        "model.add(Dense(64, activation='relu'))\n",
        "model.add(Dropout(0.2))\n",
        "model.add(Dense(32, activation='relu'))\n",
        "model.add(Dense(16, activation='relu'))\n",
        "model.add(Dropout(0.2))\n",
        "model.add(Dense(1, activation='sigmoid'))\n",
        "model.compile(optimizer='rmsprop', loss='binary_crossentropy', metrics=['acc'])\n",
        "model.summary()\n",
        "history = model.fit(X_train, y_train,\n",
        "                    epochs=5,\n",
        "                    batch_size=32,\n",
        "                    validation_split=0.2)"
      ],
      "metadata": {
        "id": "LoiF1jzhiNSI",
        "colab": {
          "base_uri": "https://localhost:8080/"
        },
        "outputId": "ebc63013-ff22-401d-a3d0-237682cb6907"
      },
      "execution_count": null,
      "outputs": [
        {
          "output_type": "stream",
          "name": "stdout",
          "text": [
            "Model: \"sequential_5\"\n",
            "_________________________________________________________________\n",
            " Layer (type)                Output Shape              Param #   \n",
            "=================================================================\n",
            " embedding_5 (Embedding)     (None, None, 28)          280000    \n",
            "                                                                 \n",
            " bidirectional (Bidirectiona  (None, 64)               15616     \n",
            " l)                                                              \n",
            "                                                                 \n",
            " dense_22 (Dense)            (None, 128)               8320      \n",
            "                                                                 \n",
            " dense_23 (Dense)            (None, 64)                8256      \n",
            "                                                                 \n",
            " dropout_8 (Dropout)         (None, 64)                0         \n",
            "                                                                 \n",
            " dense_24 (Dense)            (None, 32)                2080      \n",
            "                                                                 \n",
            " dense_25 (Dense)            (None, 16)                528       \n",
            "                                                                 \n",
            " dropout_9 (Dropout)         (None, 16)                0         \n",
            "                                                                 \n",
            " dense_26 (Dense)            (None, 1)                 17        \n",
            "                                                                 \n",
            "=================================================================\n",
            "Total params: 314,817\n",
            "Trainable params: 314,817\n",
            "Non-trainable params: 0\n",
            "_________________________________________________________________\n",
            "Epoch 1/5\n",
            "153/153 [==============================] - 15s 47ms/step - loss: 0.6471 - acc: 0.6211 - val_loss: 0.5301 - val_acc: 0.7652\n",
            "Epoch 2/5\n",
            "153/153 [==============================] - 3s 18ms/step - loss: 0.4398 - acc: 0.8200 - val_loss: 0.4799 - val_acc: 0.7947\n",
            "Epoch 3/5\n",
            "153/153 [==============================] - 2s 14ms/step - loss: 0.3440 - acc: 0.8666 - val_loss: 0.5355 - val_acc: 0.7833\n",
            "Epoch 4/5\n",
            "153/153 [==============================] - 2s 14ms/step - loss: 0.2961 - acc: 0.8879 - val_loss: 0.5493 - val_acc: 0.7816\n",
            "Epoch 5/5\n",
            "153/153 [==============================] - 2s 14ms/step - loss: 0.2642 - acc: 0.9031 - val_loss: 0.5480 - val_acc: 0.7726\n"
          ]
        }
      ]
    },
    {
      "cell_type": "code",
      "source": [
        "epochs = [i for i in range(5)]\n",
        "fig , ax = plt.subplots(1,2)\n",
        "train_acc = history.history['acc']\n",
        "train_loss = history.history['loss']\n",
        "val_acc = history.history['val_acc']\n",
        "val_loss = history.history['val_loss']\n",
        "fig.set_size_inches(15,10)\n",
        "\n",
        "ax[0].plot(epochs , train_acc , 'go-' , label = 'Training Accuracy')\n",
        "ax[0].plot(epochs , val_acc , 'ro-' , label = 'Validation Accuracy')\n",
        "ax[0].set_title('Training & Validation Accuracy')\n",
        "ax[0].legend()\n",
        "ax[0].set_xlabel(\"Epochs\")\n",
        "ax[0].set_ylabel(\"Accuracy\")\n",
        "\n",
        "ax[1].plot(epochs , train_loss , 'g-o' , label = 'Training Loss')\n",
        "ax[1].plot(epochs , val_loss , 'r-o' , label = 'Validation Loss')\n",
        "ax[1].set_title('Testing Accuracy & Loss')\n",
        "ax[1].legend()\n",
        "ax[1].set_xlabel(\"Epochs\")\n",
        "ax[1].set_ylabel(\"Training & Validation Loss\")\n",
        "plt.show()"
      ],
      "metadata": {
        "id": "qckN5H1niO_M",
        "colab": {
          "base_uri": "https://localhost:8080/",
          "height": 621
        },
        "outputId": "2b50a953-95f6-4224-8f38-310406da69bb"
      },
      "execution_count": null,
      "outputs": [
        {
          "output_type": "display_data",
          "data": {
            "text/plain": [
              "<Figure size 1080x720 with 2 Axes>"
            ],
            "image/png": "[encoded data removed]"
          },
          "metadata": {
            "needs_background": "light"
          }
        }
      ]
    },
    {
      "cell_type": "code",
      "source": [
        "y_pred = model.predict(X_test)\n",
        "performanceArray = pickle.load(open('/content/gdrive/MyDrive/MachineLearning/disaster_tweets/outputs/performance.pkl', 'rb'))\n",
        "\n",
        "accuracy = accuracy_score(y_test,y_pred.round())\n",
        "precision = precision_score(y_test,y_pred.round())\n",
        "recall=recall_score(y_test,y_pred.round())\n",
        "f1 = f1_score(y_test,y_pred.round())\n",
        "performanceArray.append([accuracy,precision,recall,f1])\n",
        "print('Experiment#8--> Accuracy: ',accuracy,' \\tPrecision: ',precision,'\\tRecall: ',recall,'\\tF1-Score: ',f1)\n",
        "\n",
        "# In order to store the performance( accuracy, precision, recall and F1) of each experiment \n",
        "pickle.dump(performanceArray, open('/content/gdrive/MyDrive/MachineLearning/disaster_tweets/outputs/performance.pkl', 'wb'))"
      ],
      "metadata": {
        "id": "hWdzyAs8iPKm",
        "colab": {
          "base_uri": "https://localhost:8080/"
        },
        "outputId": "5e52c29c-7cf3-491f-8749-3f05364b8bcf"
      },
      "execution_count": null,
      "outputs": [
        {
          "output_type": "stream",
          "name": "stdout",
          "text": [
            "48/48 [==============================] - 1s 3ms/step\n",
            "Experiment#8--> Accuracy:  0.7787261982928431  \tPrecision:  0.7168262653898769 \tRecall:  0.8012232415902141 \tF1-Score:  0.7566787003610108\n"
          ]
        }
      ]
    },
    {
      "cell_type": "code",
      "source": [
        "#vocabulary = pickle.load(open('drive/My Drive/Machine Learning/Assignment3/vocab.pkl','rb'))"
      ],
      "metadata": {
        "id": "UrgmES8B9ZbP",
        "colab": {
          "base_uri": "https://localhost:8080/",
          "height": 165
        },
        "outputId": "cd9fb821-845f-4d80-8fee-b5b4ae23c7a6"
      },
      "execution_count": null,
      "outputs": [
        {
          "output_type": "error",
          "ename": "FileNotFoundError",
          "evalue": "ignored",
          "traceback": [
            "\u001b[0;31m---------------------------------------------------------------------------\u001b[0m",
            "\u001b[0;31mFileNotFoundError\u001b[0m                         Traceback (most recent call last)",
            "\u001b[0;32m<ipython-input-47-ad25dbc89231>\u001b[0m in \u001b[0;36m<module>\u001b[0;34m\u001b[0m\n\u001b[0;32m----> 1\u001b[0;31m \u001b[0mvocabulary\u001b[0m \u001b[0;34m=\u001b[0m \u001b[0mpickle\u001b[0m\u001b[0;34m.\u001b[0m\u001b[0mload\u001b[0m\u001b[0;34m(\u001b[0m\u001b[0mopen\u001b[0m\u001b[0;34m(\u001b[0m\u001b[0;34m'drive/My Drive/Machine Learning/Assignment3/vocab.pkl'\u001b[0m\u001b[0;34m,\u001b[0m\u001b[0;34m'rb'\u001b[0m\u001b[0;34m)\u001b[0m\u001b[0;34m)\u001b[0m\u001b[0;34m\u001b[0m\u001b[0;34m\u001b[0m\u001b[0m\n\u001b[0m",
            "\u001b[0;31mFileNotFoundError\u001b[0m: [Errno 2] No such file or directory: 'drive/My Drive/Machine Learning/Assignment3/vocab.pkl'"
          ]
        }
      ]
    },
    {
      "cell_type": "markdown",
      "source": [
        "**Experiment-6: RNN with an embedding layer and three hidden layers (128,64, 32,16) by Using Glove with 100d, keeping max feature size = 10000 and max length of each tweet 28 words**"
      ],
      "metadata": {
        "id": "C_mr6F_6bhNI"
      }
    },
    {
      "cell_type": "code",
      "execution_count": null,
      "metadata": {
        "colab": {
          "base_uri": "https://localhost:8080/"
        },
        "outputId": "3c236675-3c52-4a70-de86-75bc7e86447d",
        "id": "eIc62GYX8w0s"
      },
      "outputs": [
        {
          "output_type": "stream",
          "name": "stdout",
          "text": [
            "Model: \"sequential_6\"\n",
            "_________________________________________________________________\n",
            " Layer (type)                Output Shape              Param #   \n",
            "=================================================================\n",
            " embedding_6 (Embedding)     (None, None, 100)         1000000   \n",
            "                                                                 \n",
            " bidirectional_1 (Bidirectio  (None, 64)               34048     \n",
            " nal)                                                            \n",
            "                                                                 \n",
            " dense_27 (Dense)            (None, 128)               8320      \n",
            "                                                                 \n",
            " dense_28 (Dense)            (None, 64)                8256      \n",
            "                                                                 \n",
            " dropout_10 (Dropout)        (None, 64)                0         \n",
            "                                                                 \n",
            " dense_29 (Dense)            (None, 32)                2080      \n",
            "                                                                 \n",
            " dense_30 (Dense)            (None, 16)                528       \n",
            "                                                                 \n",
            " dropout_11 (Dropout)        (None, 16)                0         \n",
            "                                                                 \n",
            " dense_31 (Dense)            (None, 1)                 17        \n",
            "                                                                 \n",
            "=================================================================\n",
            "Total params: 1,053,249\n",
            "Trainable params: 53,249\n",
            "Non-trainable params: 1,000,000\n",
            "_________________________________________________________________\n",
            "Epoch 1/7\n",
            "153/153 [==============================] - 7s 13ms/step - loss: 0.5471 - acc: 0.7387 - val_loss: 0.4846 - val_acc: 0.7800\n",
            "Epoch 2/7\n",
            "153/153 [==============================] - 1s 9ms/step - loss: 0.4570 - acc: 0.8030 - val_loss: 0.4725 - val_acc: 0.7841\n",
            "Epoch 3/7\n",
            "153/153 [==============================] - 1s 9ms/step - loss: 0.4452 - acc: 0.8112 - val_loss: 0.4963 - val_acc: 0.7750\n",
            "Epoch 4/7\n",
            "153/153 [==============================] - 1s 8ms/step - loss: 0.4195 - acc: 0.8243 - val_loss: 0.5236 - val_acc: 0.7742\n",
            "Epoch 5/7\n",
            "153/153 [==============================] - 1s 8ms/step - loss: 0.4042 - acc: 0.8280 - val_loss: 0.5009 - val_acc: 0.7791\n",
            "Epoch 6/7\n",
            "153/153 [==============================] - 1s 9ms/step - loss: 0.3896 - acc: 0.8337 - val_loss: 0.5012 - val_acc: 0.7767\n",
            "Epoch 7/7\n",
            "153/153 [==============================] - 1s 9ms/step - loss: 0.3674 - acc: 0.8436 - val_loss: 0.5128 - val_acc: 0.7824\n"
          ]
        }
      ],
      "source": [
        "\n",
        "path_to_glove_file = \"/content/gdrive/MyDrive/MachineLearning/disaster_tweets/glove.6B.100d.txt\"\n",
        "\n",
        "embeddings_index = {}\n",
        "with open(path_to_glove_file) as f:\n",
        "    for line in f:\n",
        "        word, coefs = line.split(maxsplit=1)\n",
        "        coefs = np.fromstring(coefs, \"f\", sep=\" \")\n",
        "        embeddings_index[word] = coefs\n",
        "\n",
        "embedding_dim = 100\n",
        "\n",
        "word_index = dict(zip(vocabulary, range(len(vocabulary))))\n",
        "\n",
        "embedding_matrix = np.zeros((10000, embedding_dim))\n",
        "for word, i in word_index.items():\n",
        "    if i <10000:\n",
        "        embedding_vector = embeddings_index.get(word)\n",
        "    if embedding_vector is not None:\n",
        "        embedding_matrix[i] = embedding_vector\n",
        "\n",
        "model = Sequential()\n",
        "model.add(Embedding(max_features, 100,embeddings_initializer=keras.initializers.Constant(embedding_matrix),\n",
        "    trainable=False,))\n",
        "\n",
        "model.add(Bidirectional(LSTM(32)))\n",
        "model.add(Dense(128 , activation='relu' ))\n",
        "model.add(Dense(64, activation='relu'))\n",
        "model.add(Dropout(0.2))\n",
        "model.add(Dense(32, activation='relu'))\n",
        "model.add(Dense(16, activation='relu'))\n",
        "model.add(Dropout(0.2))\n",
        "model.add(Dense(1, activation='sigmoid'))\n",
        "model.compile(optimizer='rmsprop', loss='binary_crossentropy', metrics=['acc'])\n",
        "model.summary()\n",
        "history = model.fit(X_train, y_train,\n",
        "                    epochs=7,\n",
        "                    batch_size=32,\n",
        "                    validation_split=0.2)"
      ]
    },
    {
      "cell_type": "code",
      "execution_count": null,
      "metadata": {
        "colab": {
          "base_uri": "https://localhost:8080/",
          "height": 298
        },
        "outputId": "83ab6c5c-e7ed-4736-c312-aca0802f801f",
        "id": "ewhoanJV8w0t"
      },
      "outputs": [
        {
          "output_type": "display_data",
          "data": {
            "text/plain": [
              "<Figure size 432x288 with 1 Axes>"
            ],
            "image/png": "[encoded data removed]"
          },
          "metadata": {
            "needs_background": "light"
          }
        },
        {
          "output_type": "display_data",
          "data": {
            "text/plain": [
              "<Figure size 432x288 with 0 Axes>"
            ]
          },
          "metadata": {}
        }
      ],
      "source": [
        "acc = history.history['acc']\n",
        "val_acc = history.history['val_acc']\n",
        "loss = history.history['loss']\n",
        "val_loss = history.history['val_loss']\n",
        "\n",
        "epochs = range(len(acc))\n",
        "\n",
        "plt.plot(epochs, acc, 'r', label='Training acc')\n",
        "plt.plot(epochs, val_acc, 'g', label='Validation acc')\n",
        "plt.title('Training and validation accuracy of Experiment #12')\n",
        "plt.legend()\n",
        "\n",
        "plt.figure()\n",
        "plt.show()"
      ]
    },
    {
      "cell_type": "code",
      "execution_count": null,
      "metadata": {
        "colab": {
          "base_uri": "https://localhost:8080/"
        },
        "outputId": "3b69196f-5367-48f3-c723-19ea6de4a8fa",
        "id": "VViiqXAJ8w0t"
      },
      "outputs": [
        {
          "output_type": "stream",
          "name": "stdout",
          "text": [
            "48/48 [==============================] - 1s 3ms/step\n",
            "Experiment#12--> Accuracy:  0.8017071569271176  \tPrecision:  0.7682926829268293 \tRecall:  0.7706422018348624 \tF1-Score:  0.7694656488549618\n"
          ]
        }
      ],
      "source": [
        "y_pred = model.predict(X_test)\n",
        "performanceArray = pickle.load(open('/content/gdrive/MyDrive/MachineLearning/disaster_tweets/outputs/performance.pkl', 'rb'))\n",
        "\n",
        "accuracy = accuracy_score(y_test,y_pred.round())\n",
        "precision = precision_score(y_test,y_pred.round())\n",
        "recall=recall_score(y_test,y_pred.round())\n",
        "f1 = f1_score(y_test,y_pred.round())\n",
        "performanceArray.append([accuracy,precision,recall,f1])\n",
        "print('Experiment#12--> Accuracy: ',accuracy,' \\tPrecision: ',precision,'\\tRecall: ',recall,'\\tF1-Score: ',f1)\n",
        "\n",
        "# In order to store the performance( accuracy, precision, recall and F1) of each experiment \n",
        "pickle.dump(performanceArray, open('/content/gdrive/MyDrive/MachineLearning/disaster_tweets/outputs/performance.pkl', 'wb'))\n"
      ]
    },
    {
      "cell_type": "code",
      "execution_count": null,
      "metadata": {
        "id": "pB76VolK8w0t"
      },
      "outputs": [],
      "source": [
        "# Extract Vocabulary from drive\n",
        "#vocabulary = pickle.load(open('drive/My Drive/Machine Learning/Assignment3/vocab.pkl', 'rb'))"
      ]
    },
    {
      "cell_type": "markdown",
      "metadata": {
        "id": "gO1nKor18w0t"
      },
      "source": [
        "**Experiment-7: LSTM with an embedding layer and two hidden layers (128,64,32,16) by Using Glove-twitter with 100d, keeping max feature size = 10000 and max length of each tweet 28 words**"
      ]
    },
    {
      "cell_type": "code",
      "execution_count": null,
      "metadata": {
        "id": "AGeANu5W8w0t"
      },
      "outputs": [],
      "source": [
        "path_to_glove_file = \"/content/gdrive/MyDrive/MachineLearning/disaster_tweets/glove.twitter.27B.100d.txt\"\n",
        "embeddings_index = {}\n",
        "with open(path_to_glove_file) as f:\n",
        "    for line in f:\n",
        "        word, coefs = line.split(maxsplit=1)\n",
        "        coefs = np.fromstring(coefs, \"f\", sep=\" \")\n",
        "        embeddings_index[word] = coefs\n",
        "\n",
        "embedding_dim = 100\n",
        "\n",
        "word_index = dict(zip(vocabulary, range(len(vocabulary))))\n",
        "\n",
        "embedding_matrix = np.zeros((10000, embedding_dim))\n",
        "for word, i in word_index.items():\n",
        "    if i <10000:\n",
        "        embedding_vector = embeddings_index.get(word)\n",
        "    if embedding_vector is not None:\n",
        "        embedding_matrix[i] = embedding_vector"
      ]
    },
    {
      "cell_type": "code",
      "execution_count": null,
      "metadata": {
        "colab": {
          "base_uri": "https://localhost:8080/"
        },
        "outputId": "0f53abc8-ca26-40e0-cc3c-10fb94594248",
        "id": "Zr18apVa8w0u"
      },
      "outputs": [
        {
          "output_type": "stream",
          "name": "stdout",
          "text": [
            "Model: \"sequential_7\"\n",
            "_________________________________________________________________\n",
            " Layer (type)                Output Shape              Param #   \n",
            "=================================================================\n",
            " embedding_7 (Embedding)     (None, None, 100)         1000000   \n",
            "                                                                 \n",
            " bidirectional_2 (Bidirectio  (None, 64)               34048     \n",
            " nal)                                                            \n",
            "                                                                 \n",
            " dense_32 (Dense)            (None, 128)               8320      \n",
            "                                                                 \n",
            " dense_33 (Dense)            (None, 64)                8256      \n",
            "                                                                 \n",
            " dropout_12 (Dropout)        (None, 64)                0         \n",
            "                                                                 \n",
            " dense_34 (Dense)            (None, 32)                2080      \n",
            "                                                                 \n",
            " dense_35 (Dense)            (None, 16)                528       \n",
            "                                                                 \n",
            " dropout_13 (Dropout)        (None, 16)                0         \n",
            "                                                                 \n",
            " dense_36 (Dense)            (None, 1)                 17        \n",
            "                                                                 \n",
            "=================================================================\n",
            "Total params: 1,053,249\n",
            "Trainable params: 53,249\n",
            "Non-trainable params: 1,000,000\n",
            "_________________________________________________________________\n",
            "Epoch 1/5\n",
            "153/153 [==============================] - 8s 25ms/step - loss: 0.5325 - acc: 0.7504 - val_loss: 0.4752 - val_acc: 0.7759\n",
            "Epoch 2/5\n",
            "153/153 [==============================] - 2s 13ms/step - loss: 0.4536 - acc: 0.8030 - val_loss: 0.4913 - val_acc: 0.7594\n",
            "Epoch 3/5\n",
            "153/153 [==============================] - 2s 13ms/step - loss: 0.4252 - acc: 0.8200 - val_loss: 0.5067 - val_acc: 0.7750\n",
            "Epoch 4/5\n",
            "153/153 [==============================] - 1s 10ms/step - loss: 0.4075 - acc: 0.8274 - val_loss: 0.4558 - val_acc: 0.7923\n",
            "Epoch 5/5\n",
            "153/153 [==============================] - 1s 8ms/step - loss: 0.3831 - acc: 0.8399 - val_loss: 0.4684 - val_acc: 0.7874\n"
          ]
        }
      ],
      "source": [
        "\n",
        "\n",
        "model = Sequential()\n",
        "model.add(Embedding(10000, 100,embeddings_initializer=keras.initializers.Constant(embedding_matrix),\n",
        "    trainable=False,))\n",
        "\n",
        "model.add(Bidirectional(LSTM(32)))\n",
        "model.add(Dense(128, activation='relu'))\n",
        "model.add(Dense(64, activation='relu'))\n",
        "model.add(Dropout(0.2))\n",
        "model.add(Dense(32, activation='relu'))\n",
        "model.add(Dense(16, activation='relu'))\n",
        "model.add(Dropout(0.2))\n",
        "model.add(Dense(1, activation='sigmoid'))\n",
        "model.compile(optimizer='rmsprop', loss='binary_crossentropy', metrics=['acc'])\n",
        "model.summary()\n",
        "history = model.fit(X_train, y_train,\n",
        "                    epochs=5,\n",
        "                    batch_size=32,\n",
        "                    validation_split=0.2)"
      ]
    },
    {
      "cell_type": "code",
      "execution_count": null,
      "metadata": {
        "colab": {
          "base_uri": "https://localhost:8080/",
          "height": 621
        },
        "outputId": "aecd6b00-87c3-4efb-defd-b7cbe5cb4bd2",
        "id": "lN0Po0GI8w0u"
      },
      "outputs": [
        {
          "output_type": "display_data",
          "data": {
            "text/plain": [
              "<Figure size 1080x720 with 2 Axes>"
            ],
            "image/png": "[encoded data removed]"
          },
          "metadata": {
            "needs_background": "light"
          }
        }
      ],
      "source": [
        "epochs = [i for i in range(5)]\n",
        "fig , ax = plt.subplots(1,2)\n",
        "train_acc = history.history['acc']\n",
        "train_loss = history.history['loss']\n",
        "val_acc = history.history['val_acc']\n",
        "val_loss = history.history['val_loss']\n",
        "fig.set_size_inches(15,10)\n",
        "\n",
        "ax[0].plot(epochs , train_acc , 'go-' , label = 'Training Accuracy')\n",
        "ax[0].plot(epochs , val_acc , 'ro-' , label = 'Validation Accuracy')\n",
        "ax[0].set_title('Training & Validation Accuracy')\n",
        "ax[0].legend()\n",
        "ax[0].set_xlabel(\"Epochs\")\n",
        "ax[0].set_ylabel(\"Accuracy\")\n",
        "\n",
        "ax[1].plot(epochs , train_loss , 'g-o' , label = 'Training Loss')\n",
        "ax[1].plot(epochs , val_loss , 'r-o' , label = 'Validation Loss')\n",
        "ax[1].set_title('Testing Accuracy & Loss')\n",
        "ax[1].legend()\n",
        "ax[1].set_xlabel(\"Epochs\")\n",
        "ax[1].set_ylabel(\"Training & Validation Loss\")\n",
        "plt.show()"
      ]
    },
    {
      "cell_type": "code",
      "execution_count": null,
      "metadata": {
        "colab": {
          "base_uri": "https://localhost:8080/"
        },
        "outputId": "9fded4e6-a243-4d5b-a287-1a15d732a84c",
        "id": "cZxv0Q7D8w0u"
      },
      "outputs": [
        {
          "output_type": "stream",
          "name": "stdout",
          "text": [
            "48/48 [==============================] - 1s 3ms/step\n",
            "Experiment#13--> Accuracy:  0.8161523309258043  \tPrecision:  0.8303886925795053 \tRecall:  0.7186544342507645 \tF1-Score:  0.7704918032786885\n"
          ]
        }
      ],
      "source": [
        "y_pred = model.predict(X_test)\n",
        "performanceArray = pickle.load(open('/content/gdrive/MyDrive/MachineLearning/disaster_tweets/outputs/performance.pkl', 'rb'))\n",
        "\n",
        "accuracy = accuracy_score(y_test,y_pred.round())\n",
        "precision = precision_score(y_test,y_pred.round())\n",
        "recall=recall_score(y_test,y_pred.round())\n",
        "f1 = f1_score(y_test,y_pred.round())\n",
        "performanceArray.append([accuracy,precision,recall,f1])\n",
        "print('Experiment#13--> Accuracy: ',accuracy,' \\tPrecision: ',precision,'\\tRecall: ',recall,'\\tF1-Score: ',f1)\n",
        "\n",
        "# In order to store the performance( accuracy, precision, recall and F1) of each experiment \n",
        "pickle.dump(performanceArray, open('/content/gdrive/MyDrive/MachineLearning/disaster_tweets/outputs/performance.pkl', 'wb'))"
      ]
    },
    {
      "cell_type": "code",
      "source": [
        "#vocabulary = pickle.load(open('drive/My Drive/Machine Learning/Assignment3/vocab.pkl','rb'))"
      ],
      "metadata": {
        "id": "aK8CestROjYJ",
        "colab": {
          "base_uri": "https://localhost:8080/",
          "height": 165
        },
        "outputId": "55fc3ff7-185a-4567-f502-9b5549b28939"
      },
      "execution_count": null,
      "outputs": [
        {
          "output_type": "error",
          "ename": "FileNotFoundError",
          "evalue": "ignored",
          "traceback": [
            "\u001b[0;31m---------------------------------------------------------------------------\u001b[0m",
            "\u001b[0;31mFileNotFoundError\u001b[0m                         Traceback (most recent call last)",
            "\u001b[0;32m<ipython-input-56-ad25dbc89231>\u001b[0m in \u001b[0;36m<module>\u001b[0;34m\u001b[0m\n\u001b[0;32m----> 1\u001b[0;31m \u001b[0mvocabulary\u001b[0m \u001b[0;34m=\u001b[0m \u001b[0mpickle\u001b[0m\u001b[0;34m.\u001b[0m\u001b[0mload\u001b[0m\u001b[0;34m(\u001b[0m\u001b[0mopen\u001b[0m\u001b[0;34m(\u001b[0m\u001b[0;34m'drive/My Drive/Machine Learning/Assignment3/vocab.pkl'\u001b[0m\u001b[0;34m,\u001b[0m\u001b[0;34m'rb'\u001b[0m\u001b[0;34m)\u001b[0m\u001b[0;34m)\u001b[0m\u001b[0;34m\u001b[0m\u001b[0;34m\u001b[0m\u001b[0m\n\u001b[0m",
            "\u001b[0;31mFileNotFoundError\u001b[0m: [Errno 2] No such file or directory: 'drive/My Drive/Machine Learning/Assignment3/vocab.pkl'"
          ]
        }
      ]
    },
    {
      "cell_type": "markdown",
      "metadata": {
        "id": "jdlFm06z8w0u"
      },
      "source": [
        "**Experiment-8: LSTM with an embedding layer and two hidden layers (128,64, 32,16) by Using fastex with 300d, keeping max feature size = 10000 and max length of each tweet 28 words**"
      ]
    },
    {
      "cell_type": "code",
      "execution_count": null,
      "metadata": {
        "id": "P-ZKFR7y8w0u"
      },
      "outputs": [],
      "source": [
        "path_to_glove_file = \"/content/gdrive/MyDrive/MachineLearning/disaster_tweets/wiki-news-300d-1M.vec\"\n",
        "\n",
        "embeddings_index = {}\n",
        "with open(path_to_glove_file) as f:\n",
        "    for line in f:\n",
        "        word, coefs = line.split(maxsplit=1)\n",
        "        coefs = np.fromstring(coefs, \"f\", sep=\" \")\n",
        "        embeddings_index[word] = coefs\n",
        "\n",
        "embedding_dim = 300\n",
        "\n",
        "word_index = dict(zip(vocabulary, range(len(vocabulary))))\n",
        "\n",
        "embedding_matrix = np.zeros((10000, embedding_dim))\n",
        "for word, i in word_index.items():\n",
        "    if i <10000:\n",
        "        embedding_vector = embeddings_index.get(word)\n",
        "    if embedding_vector is not None:\n",
        "        embedding_matrix[i] = embedding_vector"
      ]
    },
    {
      "cell_type": "code",
      "execution_count": null,
      "metadata": {
        "colab": {
          "base_uri": "https://localhost:8080/"
        },
        "outputId": "6226b79d-2107-41db-d031-47403bd9f7de",
        "id": "zoGizbYl8w0v"
      },
      "outputs": [
        {
          "output_type": "stream",
          "name": "stdout",
          "text": [
            "Model: \"sequential_8\"\n",
            "_________________________________________________________________\n",
            " Layer (type)                Output Shape              Param #   \n",
            "=================================================================\n",
            " embedding_8 (Embedding)     (None, None, 300)         3000000   \n",
            "                                                                 \n",
            " bidirectional_3 (Bidirectio  (None, 64)               85248     \n",
            " nal)                                                            \n",
            "                                                                 \n",
            " dense_37 (Dense)            (None, 128)               8320      \n",
            "                                                                 \n",
            " dense_38 (Dense)            (None, 64)                8256      \n",
            "                                                                 \n",
            " dropout_14 (Dropout)        (None, 64)                0         \n",
            "                                                                 \n",
            " dense_39 (Dense)            (None, 32)                2080      \n",
            "                                                                 \n",
            " dense_40 (Dense)            (None, 16)                528       \n",
            "                                                                 \n",
            " dropout_15 (Dropout)        (None, 16)                0         \n",
            "                                                                 \n",
            " dense_41 (Dense)            (None, 1)                 17        \n",
            "                                                                 \n",
            "=================================================================\n",
            "Total params: 3,104,449\n",
            "Trainable params: 104,449\n",
            "Non-trainable params: 3,000,000\n",
            "_________________________________________________________________\n",
            "Epoch 1/7\n",
            "153/153 [==============================] - 7s 14ms/step - loss: 0.5704 - acc: 0.7204 - val_loss: 0.4768 - val_acc: 0.7857\n",
            "Epoch 2/7\n",
            "153/153 [==============================] - 2s 10ms/step - loss: 0.4633 - acc: 0.8021 - val_loss: 0.4630 - val_acc: 0.7956\n",
            "Epoch 3/7\n",
            "153/153 [==============================] - 1s 9ms/step - loss: 0.4344 - acc: 0.8144 - val_loss: 0.4518 - val_acc: 0.8030\n",
            "Epoch 4/7\n",
            "153/153 [==============================] - 1s 9ms/step - loss: 0.4189 - acc: 0.8241 - val_loss: 0.5070 - val_acc: 0.7644\n",
            "Epoch 5/7\n",
            "153/153 [==============================] - 1s 9ms/step - loss: 0.4001 - acc: 0.8270 - val_loss: 0.4846 - val_acc: 0.7833\n",
            "Epoch 6/7\n",
            "153/153 [==============================] - 1s 9ms/step - loss: 0.3892 - acc: 0.8327 - val_loss: 0.4828 - val_acc: 0.8046\n",
            "Epoch 7/7\n",
            "153/153 [==============================] - 1s 9ms/step - loss: 0.3730 - acc: 0.8407 - val_loss: 0.4843 - val_acc: 0.8005\n"
          ]
        }
      ],
      "source": [
        "\n",
        "model = Sequential()\n",
        "model.add(Embedding(10000, 300,embeddings_initializer=keras.initializers.Constant(embedding_matrix),\n",
        "    trainable=False,))\n",
        "\n",
        "model.add(Bidirectional(LSTM(32)))\n",
        "model.add(Dense(128, activation='relu'))\n",
        "model.add(Dense(64, activation='relu'))\n",
        "model.add(Dropout(0.2))\n",
        "model.add(Dense(32, activation='relu'))\n",
        "model.add(Dense(16, activation='relu'))\n",
        "model.add(Dropout(0.2))\n",
        "model.add(Dense(1, activation='sigmoid'))\n",
        "model.compile(optimizer='rmsprop', loss='binary_crossentropy', metrics=['acc'])\n",
        "model.summary()\n",
        "history = model.fit(X_train, y_train,\n",
        "                    epochs=7,\n",
        "                    batch_size=32,\n",
        "                    validation_split=0.2)"
      ]
    },
    {
      "cell_type": "code",
      "source": [
        "acc = history.history['acc']\n",
        "val_acc = history.history['val_acc']\n",
        "loss = history.history['loss']\n",
        "val_loss = history.history['val_loss']\n",
        "\n",
        "epochs = range(len(acc))\n",
        "\n",
        "plt.plot(epochs, acc, 'r', label='Training acc')\n",
        "plt.plot(epochs, val_acc, 'g', label='Validation acc')\n",
        "plt.title('Training and validation accuracy of Experiment #15')\n",
        "plt.legend()\n",
        "\n",
        "plt.figure()\n",
        "plt.show()"
      ],
      "metadata": {
        "colab": {
          "base_uri": "https://localhost:8080/",
          "height": 298
        },
        "outputId": "9f474032-de56-4572-9067-80f0f634f5a0",
        "id": "9Vphdqpw8w0v"
      },
      "execution_count": null,
      "outputs": [
        {
          "output_type": "display_data",
          "data": {
            "text/plain": [
              "<Figure size 432x288 with 1 Axes>"
            ],
            "image/png": "[encoded data removed]"
          },
          "metadata": {
            "needs_background": "light"
          }
        },
        {
          "output_type": "display_data",
          "data": {
            "text/plain": [
              "<Figure size 432x288 with 0 Axes>"
            ]
          },
          "metadata": {}
        }
      ]
    },
    {
      "cell_type": "code",
      "source": [
        "y_pred = model.predict(X_test)\n",
        "performanceArray = pickle.load(open('/content/gdrive/MyDrive/MachineLearning/disaster_tweets/outputs/performance.pkl', 'rb'))\n",
        "\n",
        "accuracy = accuracy_score(y_test,y_pred.round())\n",
        "precision = precision_score(y_test,y_pred.round())\n",
        "recall=recall_score(y_test,y_pred.round())\n",
        "f1 = f1_score(y_test,y_pred.round())\n",
        "performanceArray.append([accuracy,precision,recall,f1])\n",
        "print('Experiment#15--> Accuracy: ',accuracy,' \\tPrecision: ',precision,'\\tRecall: ',recall,'\\tF1-Score: ',f1)\n",
        "\n",
        "# In order to store the performance( accuracy, precision, recall and F1) of each experiment \n",
        "pickle.dump(performanceArray, open('/content/gdrive/MyDrive/MachineLearning/disaster_tweets/outputs/performance.pkl', 'wb'))"
      ],
      "metadata": {
        "colab": {
          "base_uri": "https://localhost:8080/"
        },
        "outputId": "52ca8e3c-a94e-456b-c6c5-d1ed367233aa",
        "id": "GofVlY7y8w0v"
      },
      "execution_count": null,
      "outputs": [
        {
          "output_type": "stream",
          "name": "stdout",
          "text": [
            "48/48 [==============================] - 1s 3ms/step\n",
            "Experiment#15--> Accuracy:  0.814182534471438  \tPrecision:  0.8128161888701517 \tRecall:  0.7370030581039755 \tF1-Score:  0.7730553327987169\n"
          ]
        }
      ]
    },
    {
      "cell_type": "markdown",
      "source": [
        "Summary"
      ],
      "metadata": {
        "id": "0UuT1NLJU60O"
      }
    },
    {
      "cell_type": "code",
      "source": [
        "# result = pickle.load(open('/content/gdrive/MyDrive/MachineLearning/disaster_tweets/outputs/performance.pkl','rb'))\n",
        "\n",
        "# description = [\"Eperiment# 1:  RNN with two Hidden Layers and word embedding from data\",\"Eperiment# 2:  RNN with three Hidden Layers and word embedding from data\",\"Eperiment# 3:  RNN with two Hidden Layers and pre-trained Glove word embedding\",\"Eperiment# 4:  RNN with three Hidden Layers and pre-trained Glove word embedding\",\"Eperiment# 5:  RNN with two Hidden Layer and pre-trained Glove-Twitter word embedding\",\"Eperiment# 6:  RNN with three Hidden Layer and pre-trained Glove-Twitter word embedding\",\"Eperiment# 7:  RNN with two Hidden Layer and pre-trained fastText word embedding\",\"Eperiment# 8:  RNN with three Hidden Layer and pre-trained fastText word embedding\"]\n",
        "\n",
        "# accuracy = []\n",
        "# precision= []\n",
        "# recall=[]\n",
        "# f1=[]\n",
        "\n",
        "# for i in range(8):\n",
        "#     accuracy.append(result[i][0])\n",
        "#     precision.append(result[i][1])\n",
        "#     recall.append(result[i][2])\n",
        "#     f1.append(result[i][2])\n",
        "   \n"
      ],
      "metadata": {
        "id": "4XQ-C8owRkkQ"
      },
      "execution_count": null,
      "outputs": []
    },
    {
      "cell_type": "code",
      "source": [
        "# data = {'Experiment Description': description, 'Accuracy':accuracy,'Precision':precision,'Recall':recall,'F1-Score':f1 }  \n",
        "\n",
        "# df = pd.DataFrame(data)"
      ],
      "metadata": {
        "id": "x70LtLg8F4WN"
      },
      "execution_count": null,
      "outputs": []
    },
    {
      "cell_type": "code",
      "source": [
        "# df"
      ],
      "metadata": {
        "id": "iU8AfoFIF_2O"
      },
      "execution_count": null,
      "outputs": []
    },
    {
      "cell_type": "markdown",
      "source": [
        "***Out of my 16 experiments , Eperiment# 10: LSTM with three Hidden Layers and word embedding from data performs better has best performance than others beacuse it has good accuracy, precision, recall, and F1-Score.***\n",
        "\n"
      ],
      "metadata": {
        "id": "4Ve3KWSwGIJr"
      }
    },
    {
      "cell_type": "markdown",
      "source": [
        "WORKING ON BERT\n"
      ],
      "metadata": {
        "id": "lhV1pC9y8NB0"
      }
    },
    {
      "cell_type": "markdown",
      "source": [
        "**Experiment-9: keeping max feature size = 10000 and max length of each tweet 28 words**"
      ],
      "metadata": {
        "id": "Ux5aowTFcDop"
      }
    },
    {
      "cell_type": "code",
      "source": [
        "!pip install tensorflow-text\n"
      ],
      "metadata": {
        "colab": {
          "base_uri": "https://localhost:8080/",
          "height": 1000
        },
        "id": "-iZQAYWySTw2",
        "outputId": "0713d4a7-4e61-4bd7-db1b-c3546d8d2a6d"
      },
      "execution_count": null,
      "outputs": [
        {
          "output_type": "stream",
          "name": "stdout",
          "text": [
            "Looking in indexes: https://pypi.org/simple, https://us-python.pkg.dev/colab-wheels/public/simple/\n",
            "Collecting tensorflow-text\n",
            "  Downloading tensorflow_text-2.11.0-cp38-cp38-manylinux_2_17_x86_64.manylinux2014_x86_64.whl (5.8 MB)\n",
            "\u001b[K     |████████████████████████████████| 5.8 MB 24.6 MB/s \n",
            "\u001b[?25hRequirement already satisfied: tensorflow-hub>=0.8.0 in /usr/local/lib/python3.8/dist-packages (from tensorflow-text) (0.12.0)\n",
            "Collecting tensorflow<2.12,>=2.11.0\n",
            "  Downloading tensorflow-2.11.0-cp38-cp38-manylinux_2_17_x86_64.manylinux2014_x86_64.whl (588.3 MB)\n",
            "\u001b[K     |████████████████████████████████| 588.3 MB 21 kB/s \n",
            "\u001b[?25hRequirement already satisfied: gast<=0.4.0,>=0.2.1 in /usr/local/lib/python3.8/dist-packages (from tensorflow<2.12,>=2.11.0->tensorflow-text) (0.4.0)\n",
            "Requirement already satisfied: google-pasta>=0.1.1 in /usr/local/lib/python3.8/dist-packages (from tensorflow<2.12,>=2.11.0->tensorflow-text) (0.2.0)\n",
            "Requirement already satisfied: opt-einsum>=2.3.2 in /usr/local/lib/python3.8/dist-packages (from tensorflow<2.12,>=2.11.0->tensorflow-text) (3.3.0)\n",
            "Requirement already satisfied: astunparse>=1.6.0 in /usr/local/lib/python3.8/dist-packages (from tensorflow<2.12,>=2.11.0->tensorflow-text) (1.6.3)\n",
            "Requirement already satisfied: six>=1.12.0 in /usr/local/lib/python3.8/dist-packages (from tensorflow<2.12,>=2.11.0->tensorflow-text) (1.15.0)\n",
            "Requirement already satisfied: h5py>=2.9.0 in /usr/local/lib/python3.8/dist-packages (from tensorflow<2.12,>=2.11.0->tensorflow-text) (3.1.0)\n",
            "Requirement already satisfied: termcolor>=1.1.0 in /usr/local/lib/python3.8/dist-packages (from tensorflow<2.12,>=2.11.0->tensorflow-text) (2.1.1)\n",
            "Requirement already satisfied: absl-py>=1.0.0 in /usr/local/lib/python3.8/dist-packages (from tensorflow<2.12,>=2.11.0->tensorflow-text) (1.3.0)\n",
            "Requirement already satisfied: grpcio<2.0,>=1.24.3 in /usr/local/lib/python3.8/dist-packages (from tensorflow<2.12,>=2.11.0->tensorflow-text) (1.50.0)\n",
            "Requirement already satisfied: libclang>=13.0.0 in /usr/local/lib/python3.8/dist-packages (from tensorflow<2.12,>=2.11.0->tensorflow-text) (14.0.6)\n",
            "Collecting keras<2.12,>=2.11.0\n",
            "  Downloading keras-2.11.0-py2.py3-none-any.whl (1.7 MB)\n",
            "\u001b[K     |████████████████████████████████| 1.7 MB 54.9 MB/s \n",
            "\u001b[?25hRequirement already satisfied: tensorflow-io-gcs-filesystem>=0.23.1 in /usr/local/lib/python3.8/dist-packages (from tensorflow<2.12,>=2.11.0->tensorflow-text) (0.28.0)\n",
            "Collecting flatbuffers>=2.0\n",
            "  Downloading flatbuffers-22.11.23-py2.py3-none-any.whl (26 kB)\n",
            "Requirement already satisfied: typing-extensions>=3.6.6 in /usr/local/lib/python3.8/dist-packages (from tensorflow<2.12,>=2.11.0->tensorflow-text) (4.1.1)\n",
            "Requirement already satisfied: packaging in /usr/local/lib/python3.8/dist-packages (from tensorflow<2.12,>=2.11.0->tensorflow-text) (21.3)\n",
            "Requirement already satisfied: wrapt>=1.11.0 in /usr/local/lib/python3.8/dist-packages (from tensorflow<2.12,>=2.11.0->tensorflow-text) (1.14.1)\n",
            "Requirement already satisfied: protobuf<3.20,>=3.9.2 in /usr/local/lib/python3.8/dist-packages (from tensorflow<2.12,>=2.11.0->tensorflow-text) (3.19.6)\n",
            "Requirement already satisfied: setuptools in /usr/local/lib/python3.8/dist-packages (from tensorflow<2.12,>=2.11.0->tensorflow-text) (57.4.0)\n",
            "Requirement already satisfied: numpy>=1.20 in /usr/local/lib/python3.8/dist-packages (from tensorflow<2.12,>=2.11.0->tensorflow-text) (1.21.6)\n",
            "Collecting tensorboard<2.12,>=2.11\n",
            "  Downloading tensorboard-2.11.0-py3-none-any.whl (6.0 MB)\n",
            "\u001b[K     |████████████████████████████████| 6.0 MB 64.2 MB/s \n",
            "\u001b[?25hCollecting tensorflow-estimator<2.12,>=2.11.0\n",
            "  Downloading tensorflow_estimator-2.11.0-py2.py3-none-any.whl (439 kB)\n",
            "\u001b[K     |████████████████████████████████| 439 kB 69.0 MB/s \n",
            "\u001b[?25hRequirement already satisfied: wheel<1.0,>=0.23.0 in /usr/local/lib/python3.8/dist-packages (from astunparse>=1.6.0->tensorflow<2.12,>=2.11.0->tensorflow-text) (0.38.4)\n",
            "Requirement already satisfied: markdown>=2.6.8 in /usr/local/lib/python3.8/dist-packages (from tensorboard<2.12,>=2.11->tensorflow<2.12,>=2.11.0->tensorflow-text) (3.4.1)\n",
            "Requirement already satisfied: google-auth<3,>=1.6.3 in /usr/local/lib/python3.8/dist-packages (from tensorboard<2.12,>=2.11->tensorflow<2.12,>=2.11.0->tensorflow-text) (2.14.1)\n",
            "Requirement already satisfied: requests<3,>=2.21.0 in /usr/local/lib/python3.8/dist-packages (from tensorboard<2.12,>=2.11->tensorflow<2.12,>=2.11.0->tensorflow-text) (2.23.0)\n",
            "Requirement already satisfied: tensorboard-plugin-wit>=1.6.0 in /usr/local/lib/python3.8/dist-packages (from tensorboard<2.12,>=2.11->tensorflow<2.12,>=2.11.0->tensorflow-text) (1.8.1)\n",
            "Requirement already satisfied: werkzeug>=1.0.1 in /usr/local/lib/python3.8/dist-packages (from tensorboard<2.12,>=2.11->tensorflow<2.12,>=2.11.0->tensorflow-text) (1.0.1)\n",
            "Requirement already satisfied: google-auth-oauthlib<0.5,>=0.4.1 in /usr/local/lib/python3.8/dist-packages (from tensorboard<2.12,>=2.11->tensorflow<2.12,>=2.11.0->tensorflow-text) (0.4.6)\n",
            "Requirement already satisfied: tensorboard-data-server<0.7.0,>=0.6.0 in /usr/local/lib/python3.8/dist-packages (from tensorboard<2.12,>=2.11->tensorflow<2.12,>=2.11.0->tensorflow-text) (0.6.1)\n",
            "Requirement already satisfied: rsa<5,>=3.1.4 in /usr/local/lib/python3.8/dist-packages (from google-auth<3,>=1.6.3->tensorboard<2.12,>=2.11->tensorflow<2.12,>=2.11.0->tensorflow-text) (4.9)\n",
            "Requirement already satisfied: cachetools<6.0,>=2.0.0 in /usr/local/lib/python3.8/dist-packages (from google-auth<3,>=1.6.3->tensorboard<2.12,>=2.11->tensorflow<2.12,>=2.11.0->tensorflow-text) (5.2.0)\n",
            "Requirement already satisfied: pyasn1-modules>=0.2.1 in /usr/local/lib/python3.8/dist-packages (from google-auth<3,>=1.6.3->tensorboard<2.12,>=2.11->tensorflow<2.12,>=2.11.0->tensorflow-text) (0.2.8)\n",
            "Requirement already satisfied: requests-oauthlib>=0.7.0 in /usr/local/lib/python3.8/dist-packages (from google-auth-oauthlib<0.5,>=0.4.1->tensorboard<2.12,>=2.11->tensorflow<2.12,>=2.11.0->tensorflow-text) (1.3.1)\n",
            "Requirement already satisfied: importlib-metadata>=4.4 in /usr/local/lib/python3.8/dist-packages (from markdown>=2.6.8->tensorboard<2.12,>=2.11->tensorflow<2.12,>=2.11.0->tensorflow-text) (4.13.0)\n",
            "Requirement already satisfied: zipp>=0.5 in /usr/local/lib/python3.8/dist-packages (from importlib-metadata>=4.4->markdown>=2.6.8->tensorboard<2.12,>=2.11->tensorflow<2.12,>=2.11.0->tensorflow-text) (3.10.0)\n",
            "Requirement already satisfied: pyasn1<0.5.0,>=0.4.6 in /usr/local/lib/python3.8/dist-packages (from pyasn1-modules>=0.2.1->google-auth<3,>=1.6.3->tensorboard<2.12,>=2.11->tensorflow<2.12,>=2.11.0->tensorflow-text) (0.4.8)\n",
            "Requirement already satisfied: urllib3!=1.25.0,!=1.25.1,<1.26,>=1.21.1 in /usr/local/lib/python3.8/dist-packages (from requests<3,>=2.21.0->tensorboard<2.12,>=2.11->tensorflow<2.12,>=2.11.0->tensorflow-text) (1.24.3)\n",
            "Requirement already satisfied: idna<3,>=2.5 in /usr/local/lib/python3.8/dist-packages (from requests<3,>=2.21.0->tensorboard<2.12,>=2.11->tensorflow<2.12,>=2.11.0->tensorflow-text) (2.10)\n",
            "Requirement already satisfied: chardet<4,>=3.0.2 in /usr/local/lib/python3.8/dist-packages (from requests<3,>=2.21.0->tensorboard<2.12,>=2.11->tensorflow<2.12,>=2.11.0->tensorflow-text) (3.0.4)\n",
            "Requirement already satisfied: certifi>=2017.4.17 in /usr/local/lib/python3.8/dist-packages (from requests<3,>=2.21.0->tensorboard<2.12,>=2.11->tensorflow<2.12,>=2.11.0->tensorflow-text) (2022.9.24)\n",
            "Requirement already satisfied: oauthlib>=3.0.0 in /usr/local/lib/python3.8/dist-packages (from requests-oauthlib>=0.7.0->google-auth-oauthlib<0.5,>=0.4.1->tensorboard<2.12,>=2.11->tensorflow<2.12,>=2.11.0->tensorflow-text) (3.2.2)\n",
            "Requirement already satisfied: pyparsing!=3.0.5,>=2.0.2 in /usr/local/lib/python3.8/dist-packages (from packaging->tensorflow<2.12,>=2.11.0->tensorflow-text) (3.0.9)\n",
            "Installing collected packages: tensorflow-estimator, tensorboard, keras, flatbuffers, tensorflow, tensorflow-text\n",
            "  Attempting uninstall: tensorflow-estimator\n",
            "    Found existing installation: tensorflow-estimator 2.9.0\n",
            "    Uninstalling tensorflow-estimator-2.9.0:\n",
            "      Successfully uninstalled tensorflow-estimator-2.9.0\n",
            "  Attempting uninstall: tensorboard\n",
            "    Found existing installation: tensorboard 2.9.1\n",
            "    Uninstalling tensorboard-2.9.1:\n",
            "      Successfully uninstalled tensorboard-2.9.1\n",
            "  Attempting uninstall: keras\n",
            "    Found existing installation: keras 2.9.0\n",
            "    Uninstalling keras-2.9.0:\n",
            "      Successfully uninstalled keras-2.9.0\n",
            "  Attempting uninstall: flatbuffers\n",
            "    Found existing installation: flatbuffers 1.12\n",
            "    Uninstalling flatbuffers-1.12:\n",
            "      Successfully uninstalled flatbuffers-1.12\n",
            "  Attempting uninstall: tensorflow\n",
            "    Found existing installation: tensorflow 2.9.2\n",
            "    Uninstalling tensorflow-2.9.2:\n",
            "      Successfully uninstalled tensorflow-2.9.2\n",
            "Successfully installed flatbuffers-22.11.23 keras-2.11.0 tensorboard-2.11.0 tensorflow-2.11.0 tensorflow-estimator-2.11.0 tensorflow-text-2.11.0\n"
          ]
        },
        {
          "output_type": "display_data",
          "data": {
            "application/vnd.colab-display-data+json": {
              "pip_warning": {
                "packages": [
                  "flatbuffers",
                  "keras",
                  "tensorboard",
                  "tensorflow"
                ]
              }
            }
          },
          "metadata": {}
        }
      ]
    },
    {
      "cell_type": "code",
      "source": [
        "import tensorflow as tf\n",
        "import tensorflow_hub as hub\n",
        "import tensorflow_text as text"
      ],
      "metadata": {
        "id": "JrRfNNYx8MqX"
      },
      "execution_count": null,
      "outputs": []
    },
    {
      "cell_type": "markdown",
      "source": [
        "preprocess bert library and and uncased bert embeddings"
      ],
      "metadata": {
        "id": "g9VQJ8MQcKGo"
      }
    },
    {
      "cell_type": "code",
      "source": [
        "preprocess = hub.KerasLayer(\"https://tfhub.dev/tensorflow/bert_en_uncased_preprocess/3\")\n",
        "encoder = hub.KerasLayer(\"https://tfhub.dev/tensorflow/bert_en_uncased_L-12_H-768_A-12/4\")\n"
      ],
      "metadata": {
        "colab": {
          "base_uri": "https://localhost:8080/"
        },
        "id": "qyH_vnwr8QrX",
        "outputId": "79f94c96-8271-47b1-bd43-c25fd7244836"
      },
      "execution_count": null,
      "outputs": [
        {
          "output_type": "stream",
          "name": "stderr",
          "text": [
            "WARNING:tensorflow:Please fix your imports. Module tensorflow.python.training.tracking.data_structures has been moved to tensorflow.python.trackable.data_structures. The old module will be deleted in version 2.11.\n"
          ]
        }
      ]
    },
    {
      "cell_type": "code",
      "source": [
        "\n",
        "text_input = tf.keras.layers.Input(shape=(), dtype=tf.string, name='text-layer')\n",
        "preprocessed_text = preprocess(text_input)\n",
        "outputs = encoder(preprocessed_text)\n",
        "d_layer = tf.keras.layers.Dense(128, name=\"dense-layer1\")(outputs['pooled_output'])\n",
        "d_layer = tf.keras.layers.Dropout(0.2, name=\"dropout-layer1\")(d_layer)\n",
        "d_layer = tf.keras.layers.Dense(64, name=\"dense-layer2\")(d_layer)\n",
        "d_layer = tf.keras.layers.Dropout(0.2, name=\"dropout-layer2\")(d_layer)\n",
        "d_layer = tf.keras.layers.Dense(32, name=\"dense-layer3\")(d_layer)\n",
        "d_layer = tf.keras.layers.Dropout(0.2, name=\"dropout-layer3\")(d_layer)\n",
        "d_layer = tf.keras.layers.Dense(16, name=\"dense-layer4\")(d_layer)\n",
        "d_layer = tf.keras.layers.Dropout(0.2, name=\"dropout-layer4\")(d_layer)\n",
        "d_layer = tf.keras.layers.Dense(1, activation='sigmoid', name=\"output\")(d_layer)\n",
        "model = tf.keras.Model(inputs=[text_input], outputs = [d_layer])"
      ],
      "metadata": {
        "colab": {
          "base_uri": "https://localhost:8080/"
        },
        "id": "biQ_epK88S3z",
        "outputId": "e28be875-cb6b-4961-daa8-c1533303befd"
      },
      "execution_count": null,
      "outputs": [
        {
          "output_type": "stream",
          "name": "stderr",
          "text": [
            "WARNING:tensorflow:From /usr/local/lib/python3.8/dist-packages/tensorflow/python/autograph/pyct/static_analysis/liveness.py:83: Analyzer.lamba_check (from tensorflow.python.autograph.pyct.static_analysis.liveness) is deprecated and will be removed after 2023-09-23.\n",
            "Instructions for updating:\n",
            "Lambda fuctions will be no more assumed to be used in the statement where they are used, or at least in the same block. https://github.com/tensorflow/tensorflow/issues/56089\n"
          ]
        }
      ]
    },
    {
      "cell_type": "code",
      "source": [
        "model.summary()"
      ],
      "metadata": {
        "colab": {
          "base_uri": "https://localhost:8080/"
        },
        "id": "0Eq8hMrz8XMm",
        "outputId": "47d96e92-cd9e-46f5-d943-ee31f3c47a0e"
      },
      "execution_count": null,
      "outputs": [
        {
          "output_type": "stream",
          "name": "stdout",
          "text": [
            "Model: \"model\"\n",
            "__________________________________________________________________________________________________\n",
            " Layer (type)                   Output Shape         Param #     Connected to                     \n",
            "==================================================================================================\n",
            " text-layer (InputLayer)        [(None,)]            0           []                               \n",
            "                                                                                                  \n",
            " keras_layer (KerasLayer)       {'input_word_ids':   0           ['text-layer[0][0]']             \n",
            "                                (None, 128),                                                      \n",
            "                                 'input_mask': (Non                                               \n",
            "                                e, 128),                                                          \n",
            "                                 'input_type_ids':                                                \n",
            "                                (None, 128)}                                                      \n",
            "                                                                                                  \n",
            " keras_layer_1 (KerasLayer)     {'default': (None,   109482241   ['keras_layer[0][0]',            \n",
            "                                768),                             'keras_layer[0][1]',            \n",
            "                                 'pooled_output': (               'keras_layer[0][2]']            \n",
            "                                None, 768),                                                       \n",
            "                                 'encoder_outputs':                                               \n",
            "                                 [(None, 128, 768),                                               \n",
            "                                 (None, 128, 768),                                                \n",
            "                                 (None, 128, 768),                                                \n",
            "                                 (None, 128, 768),                                                \n",
            "                                 (None, 128, 768),                                                \n",
            "                                 (None, 128, 768),                                                \n",
            "                                 (None, 128, 768),                                                \n",
            "                                 (None, 128, 768),                                                \n",
            "                                 (None, 128, 768),                                                \n",
            "                                 (None, 128, 768),                                                \n",
            "                                 (None, 128, 768),                                                \n",
            "                                 (None, 128, 768)],                                               \n",
            "                                 'sequence_output':                                               \n",
            "                                 (None, 128, 768)}                                                \n",
            "                                                                                                  \n",
            " dense-layer1 (Dense)           (None, 128)          98432       ['keras_layer_1[0][13]']         \n",
            "                                                                                                  \n",
            " dropout-layer1 (Dropout)       (None, 128)          0           ['dense-layer1[0][0]']           \n",
            "                                                                                                  \n",
            " dense-layer2 (Dense)           (None, 64)           8256        ['dropout-layer1[0][0]']         \n",
            "                                                                                                  \n",
            " dropout-layer2 (Dropout)       (None, 64)           0           ['dense-layer2[0][0]']           \n",
            "                                                                                                  \n",
            " dense-layer3 (Dense)           (None, 32)           2080        ['dropout-layer2[0][0]']         \n",
            "                                                                                                  \n",
            " dropout-layer3 (Dropout)       (None, 32)           0           ['dense-layer3[0][0]']           \n",
            "                                                                                                  \n",
            " dense-layer4 (Dense)           (None, 16)           528         ['dropout-layer3[0][0]']         \n",
            "                                                                                                  \n",
            " dropout-layer4 (Dropout)       (None, 16)           0           ['dense-layer4[0][0]']           \n",
            "                                                                                                  \n",
            " output (Dense)                 (None, 1)            17          ['dropout-layer4[0][0]']         \n",
            "                                                                                                  \n",
            "==================================================================================================\n",
            "Total params: 109,591,554\n",
            "Trainable params: 109,313\n",
            "Non-trainable params: 109,482,241\n",
            "__________________________________________________________________________________________________\n"
          ]
        }
      ]
    },
    {
      "cell_type": "code",
      "source": [
        "\n",
        "model.compile(optimizer='rmsprop', loss='binary_crossentropy', metrics=['acc'])\n",
        "callback = tf.keras.callbacks.EarlyStopping(monitor='val_loss', mode='max', verbose=1, patience=4,baseline=0.4,min_delta=0.0001,restore_best_weights=False)"
      ],
      "metadata": {
        "id": "zGEAJop48dz-"
      },
      "execution_count": null,
      "outputs": []
    },
    {
      "cell_type": "code",
      "source": [
        "history = model.fit(X_train, y_train, epochs=50, batch_size=128,\n",
        "                    validation_split = 0.2)\n"
      ],
      "metadata": {
        "colab": {
          "base_uri": "https://localhost:8080/"
        },
        "id": "m8VmKsnG8lkM",
        "outputId": "bfa432ed-ddfd-4e12-ef67-abe990e260df"
      },
      "execution_count": null,
      "outputs": [
        {
          "output_type": "stream",
          "name": "stdout",
          "text": [
            "Epoch 1/50\n",
            "39/39 [==============================] - 96s 2s/step - loss: 1.1642 - acc: 0.5593 - val_loss: 0.8033 - val_acc: 0.5739\n",
            "Epoch 2/50\n",
            "39/39 [==============================] - 82s 2s/step - loss: 0.7415 - acc: 0.5899 - val_loss: 0.6149 - val_acc: 0.6404\n",
            "Epoch 3/50\n",
            "39/39 [==============================] - 81s 2s/step - loss: 0.7084 - acc: 0.6106 - val_loss: 1.0873 - val_acc: 0.4278\n",
            "Epoch 4/50\n",
            "39/39 [==============================] - 82s 2s/step - loss: 0.6820 - acc: 0.6326 - val_loss: 0.7166 - val_acc: 0.5862\n",
            "Epoch 5/50\n",
            "39/39 [==============================] - 81s 2s/step - loss: 0.6747 - acc: 0.6332 - val_loss: 0.6397 - val_acc: 0.6470\n",
            "Epoch 6/50\n",
            "39/39 [==============================] - 81s 2s/step - loss: 0.6546 - acc: 0.6418 - val_loss: 0.5875 - val_acc: 0.6938\n",
            "Epoch 7/50\n",
            "39/39 [==============================] - 84s 2s/step - loss: 0.6385 - acc: 0.6595 - val_loss: 0.5842 - val_acc: 0.6970\n",
            "Epoch 8/50\n",
            "39/39 [==============================] - 81s 2s/step - loss: 0.6260 - acc: 0.6716 - val_loss: 0.5663 - val_acc: 0.7315\n",
            "Epoch 9/50\n",
            "39/39 [==============================] - 81s 2s/step - loss: 0.6110 - acc: 0.6853 - val_loss: 0.5859 - val_acc: 0.7085\n",
            "Epoch 10/50\n",
            "39/39 [==============================] - 82s 2s/step - loss: 0.5989 - acc: 0.6890 - val_loss: 0.5621 - val_acc: 0.7258\n",
            "Epoch 11/50\n",
            "39/39 [==============================] - 81s 2s/step - loss: 0.6058 - acc: 0.6876 - val_loss: 0.6197 - val_acc: 0.6593\n",
            "Epoch 12/50\n",
            "39/39 [==============================] - 81s 2s/step - loss: 0.5973 - acc: 0.6989 - val_loss: 0.9187 - val_acc: 0.5780\n",
            "Epoch 13/50\n",
            "39/39 [==============================] - 82s 2s/step - loss: 0.5960 - acc: 0.7028 - val_loss: 0.5271 - val_acc: 0.7594\n",
            "Epoch 14/50\n",
            "39/39 [==============================] - 81s 2s/step - loss: 0.5828 - acc: 0.7050 - val_loss: 0.5894 - val_acc: 0.6970\n",
            "Epoch 15/50\n",
            "39/39 [==============================] - 81s 2s/step - loss: 0.5871 - acc: 0.7083 - val_loss: 0.5587 - val_acc: 0.7118\n",
            "Epoch 16/50\n",
            "39/39 [==============================] - 82s 2s/step - loss: 0.5848 - acc: 0.7112 - val_loss: 0.6013 - val_acc: 0.6683\n",
            "Epoch 17/50\n",
            "39/39 [==============================] - 81s 2s/step - loss: 0.5715 - acc: 0.7200 - val_loss: 0.5971 - val_acc: 0.6880\n",
            "Epoch 18/50\n",
            "39/39 [==============================] - 75s 2s/step - loss: 0.5551 - acc: 0.7299 - val_loss: 0.5575 - val_acc: 0.7159\n",
            "Epoch 19/50\n",
            "39/39 [==============================] - 81s 2s/step - loss: 0.5743 - acc: 0.7221 - val_loss: 0.5572 - val_acc: 0.7241\n",
            "Epoch 20/50\n",
            "39/39 [==============================] - 81s 2s/step - loss: 0.5644 - acc: 0.7272 - val_loss: 0.5262 - val_acc: 0.7422\n",
            "Epoch 21/50\n",
            "39/39 [==============================] - 81s 2s/step - loss: 0.5717 - acc: 0.7276 - val_loss: 0.5396 - val_acc: 0.7504\n",
            "Epoch 22/50\n",
            "39/39 [==============================] - 82s 2s/step - loss: 0.5532 - acc: 0.7362 - val_loss: 0.5767 - val_acc: 0.6987\n",
            "Epoch 23/50\n",
            "39/39 [==============================] - 81s 2s/step - loss: 0.5552 - acc: 0.7338 - val_loss: 0.8730 - val_acc: 0.6166\n",
            "Epoch 24/50\n",
            "39/39 [==============================] - 81s 2s/step - loss: 0.5594 - acc: 0.7379 - val_loss: 0.5202 - val_acc: 0.7545\n",
            "Epoch 25/50\n",
            "39/39 [==============================] - 82s 2s/step - loss: 0.5505 - acc: 0.7410 - val_loss: 0.6075 - val_acc: 0.7028\n",
            "Epoch 26/50\n",
            "39/39 [==============================] - 81s 2s/step - loss: 0.5501 - acc: 0.7432 - val_loss: 0.5129 - val_acc: 0.7652\n",
            "Epoch 27/50\n",
            "39/39 [==============================] - 75s 2s/step - loss: 0.5518 - acc: 0.7420 - val_loss: 0.5134 - val_acc: 0.7603\n",
            "Epoch 28/50\n",
            "39/39 [==============================] - 82s 2s/step - loss: 0.5414 - acc: 0.7412 - val_loss: 0.7423 - val_acc: 0.6305\n",
            "Epoch 29/50\n",
            "39/39 [==============================] - 81s 2s/step - loss: 0.5457 - acc: 0.7432 - val_loss: 0.5277 - val_acc: 0.7438\n",
            "Epoch 30/50\n",
            "39/39 [==============================] - 81s 2s/step - loss: 0.5431 - acc: 0.7469 - val_loss: 0.5351 - val_acc: 0.7340\n",
            "Epoch 31/50\n",
            "39/39 [==============================] - 82s 2s/step - loss: 0.5407 - acc: 0.7457 - val_loss: 0.5262 - val_acc: 0.7562\n",
            "Epoch 32/50\n",
            "39/39 [==============================] - 81s 2s/step - loss: 0.5371 - acc: 0.7469 - val_loss: 0.7569 - val_acc: 0.6166\n",
            "Epoch 33/50\n",
            "39/39 [==============================] - 81s 2s/step - loss: 0.5457 - acc: 0.7422 - val_loss: 0.6687 - val_acc: 0.6552\n",
            "Epoch 34/50\n",
            "39/39 [==============================] - 81s 2s/step - loss: 0.5325 - acc: 0.7490 - val_loss: 0.5026 - val_acc: 0.7635\n",
            "Epoch 35/50\n",
            "39/39 [==============================] - 80s 2s/step - loss: 0.5338 - acc: 0.7551 - val_loss: 0.5028 - val_acc: 0.7677\n",
            "Epoch 36/50\n",
            "39/39 [==============================] - 81s 2s/step - loss: 0.5279 - acc: 0.7492 - val_loss: 0.4978 - val_acc: 0.7668\n",
            "Epoch 37/50\n",
            "39/39 [==============================] - 75s 2s/step - loss: 0.5411 - acc: 0.7434 - val_loss: 0.5889 - val_acc: 0.6913\n",
            "Epoch 38/50\n",
            "39/39 [==============================] - 82s 2s/step - loss: 0.5342 - acc: 0.7553 - val_loss: 0.5157 - val_acc: 0.7537\n",
            "Epoch 39/50\n",
            "39/39 [==============================] - 81s 2s/step - loss: 0.5281 - acc: 0.7541 - val_loss: 0.4986 - val_acc: 0.7660\n",
            "Epoch 40/50\n",
            "39/39 [==============================] - 81s 2s/step - loss: 0.5260 - acc: 0.7582 - val_loss: 0.8218 - val_acc: 0.4811\n",
            "Epoch 41/50\n",
            "39/39 [==============================] - 82s 2s/step - loss: 0.5269 - acc: 0.7580 - val_loss: 0.6414 - val_acc: 0.6667\n",
            "Epoch 42/50\n",
            "39/39 [==============================] - 81s 2s/step - loss: 0.5287 - acc: 0.7523 - val_loss: 0.5573 - val_acc: 0.7291\n",
            "Epoch 43/50\n",
            "39/39 [==============================] - 81s 2s/step - loss: 0.5183 - acc: 0.7640 - val_loss: 0.5806 - val_acc: 0.7003\n",
            "Epoch 44/50\n",
            "39/39 [==============================] - 81s 2s/step - loss: 0.5303 - acc: 0.7586 - val_loss: 1.0644 - val_acc: 0.4614\n",
            "Epoch 45/50\n",
            "39/39 [==============================] - 75s 2s/step - loss: 0.5255 - acc: 0.7613 - val_loss: 0.4986 - val_acc: 0.7693\n",
            "Epoch 46/50\n",
            "39/39 [==============================] - 81s 2s/step - loss: 0.5238 - acc: 0.7629 - val_loss: 0.5023 - val_acc: 0.7709\n",
            "Epoch 47/50\n",
            "39/39 [==============================] - 81s 2s/step - loss: 0.5219 - acc: 0.7603 - val_loss: 0.5275 - val_acc: 0.7471\n",
            "Epoch 48/50\n",
            "39/39 [==============================] - 82s 2s/step - loss: 0.5228 - acc: 0.7584 - val_loss: 0.6632 - val_acc: 0.5993\n",
            "Epoch 49/50\n",
            "39/39 [==============================] - 81s 2s/step - loss: 0.5238 - acc: 0.7553 - val_loss: 0.7559 - val_acc: 0.6273\n",
            "Epoch 50/50\n",
            "39/39 [==============================] - 81s 2s/step - loss: 0.5201 - acc: 0.7607 - val_loss: 0.5275 - val_acc: 0.7471\n"
          ]
        }
      ]
    },
    {
      "cell_type": "code",
      "source": [
        "print(tf. __version__)"
      ],
      "metadata": {
        "colab": {
          "base_uri": "https://localhost:8080/"
        },
        "id": "Xj_hsblIR3WV",
        "outputId": "386a64ec-0be8-417d-de7f-0400311d47d3"
      },
      "execution_count": null,
      "outputs": [
        {
          "output_type": "stream",
          "name": "stdout",
          "text": [
            "2.11.0\n"
          ]
        }
      ]
    },
    {
      "cell_type": "code",
      "source": [
        "acc = history.history['acc']\n",
        "val_acc = history.history['val_acc']\n",
        "loss = history.history['loss']\n",
        "val_loss = history.history['val_loss']\n",
        "\n",
        "epochs = range(len(acc))\n",
        "\n",
        "plt.plot(epochs, acc, 'r', label='Training acc')\n",
        "plt.plot(epochs, val_acc, 'g', label='Validation acc')\n",
        "plt.title('Training and validation accuracy of Experiment #2')\n",
        "plt.legend()\n",
        "\n",
        "plt.figure()\n",
        "plt.show()\n"
      ],
      "metadata": {
        "colab": {
          "base_uri": "https://localhost:8080/",
          "height": 298
        },
        "id": "394g-aqq8o9T",
        "outputId": "d2564d1e-6598-464c-a070-15cb15cec6a4"
      },
      "execution_count": null,
      "outputs": [
        {
          "output_type": "display_data",
          "data": {
            "text/plain": [
              "<Figure size 432x288 with 1 Axes>"
            ],
            "image/png": "[encoded data removed]"
          },
          "metadata": {
            "needs_background": "light"
          }
        },
        {
          "output_type": "display_data",
          "data": {
            "text/plain": [
              "<Figure size 432x288 with 0 Axes>"
            ]
          },
          "metadata": {}
        }
      ]
    },
    {
      "cell_type": "code",
      "source": [
        "y_pred = model.predict(X_test)\n",
        "\n",
        "performanceArray = pickle.load(open('/content/gdrive/MyDrive/MachineLearning/disaster_tweets/outputs/performance.pkl', 'rb'))\n",
        "\n",
        "\n",
        "\n",
        "accuracy = accuracy_score(y_test,y_pred.round())\n",
        "precision = precision_score(y_test,y_pred.round())\n",
        "recall=recall_score(y_test,y_pred.round())\n",
        "f1 = f1_score(y_test,y_pred.round())\n",
        "performanceArray.append([accuracy,precision,recall,f1])\n",
        "print('Experiment#1--> Accuracy: ',accuracy,' \\tPrecision: ',precision,'\\tRecall: ',recall,'\\tF1-Score: ',f1)\n",
        "\n",
        "# In order to store the performance( accuracy, precision, recall and F1) of each experiment \n",
        "pickle.dump(performanceArray, open('/content/gdrive/MyDrive/MachineLearning/disaster_tweets/outputs/performance.pkl', 'wb'))\n",
        "\n",
        "\n"
      ],
      "metadata": {
        "id": "6pyfi33r9ObP",
        "colab": {
          "base_uri": "https://localhost:8080/"
        },
        "outputId": "c54b5624-344e-4175-fea3-dc43dcb01b00"
      },
      "execution_count": null,
      "outputs": [
        {
          "output_type": "stream",
          "name": "stdout",
          "text": [
            "48/48 [==============================] - 16s 314ms/step\n",
            "Experiment#1--> Accuracy:  0.7715036112934996  \tPrecision:  0.8923076923076924 \tRecall:  0.5321100917431193 \tF1-Score:  0.6666666666666666\n"
          ]
        }
      ]
    },
    {
      "cell_type": "markdown",
      "source": [
        "SUMMARY"
      ],
      "metadata": {
        "id": "8_0BHEoTy6-S"
      }
    },
    {
      "cell_type": "code",
      "source": [
        "result = pickle.load(open('/content/gdrive/MyDrive/MachineLearning/disaster_tweets/outputs/performance.pkl','rb'))\n",
        "\n",
        "description = [\"Eperiment# 1:  Simple RNN\",\"Eperiment# 2: RNN and pre-trained Glove word embedding\" ,\"Eperiment# 3:  RNN with  and pre-trained twitter Glove word embedding\",\"Eperiment# 4:  RNN and pre-trained FastText word embedding\",\"Eperiment# 5: Simple LSTM  \",\"Eperiment# 6: LSTM and pre-trained Glove word embedding  \",\"Eperiment# 7: LSTM and pre-trained twitter-Glove word embedding  \",\"Eperiment# 8: LSTM and pre-trained FastText word embedding \", \"Eperiment# 9: BERT \"]\n",
        "\n",
        "accuracy = []\n",
        "precision= []\n",
        "recall=[]\n",
        "f1=[]\n",
        "\n",
        "for i in range(9):\n",
        "    accuracy.append(result[i][0])\n",
        "    precision.append(result[i][1])\n",
        "    recall.append(result[i][2])\n",
        "    f1.append(result[i][2])\n",
        "   \n"
      ],
      "metadata": {
        "id": "Qc3qSC_hy51K"
      },
      "execution_count": null,
      "outputs": []
    },
    {
      "cell_type": "code",
      "source": [
        "data = {'Experiment Description': description, 'Accuracy':accuracy,'Precision':precision,'Recall':recall,'F1-Score':f1 }  \n",
        "\n",
        "df1 = pd.DataFrame(data)"
      ],
      "metadata": {
        "id": "FDok37NAzAIT"
      },
      "execution_count": null,
      "outputs": []
    },
    {
      "cell_type": "code",
      "source": [
        "df1"
      ],
      "metadata": {
        "id": "RiBNV98bzEfW",
        "colab": {
          "base_uri": "https://localhost:8080/",
          "height": 332
        },
        "outputId": "80da58f3-53d4-4b9a-c3d6-e54ad433c512"
      },
      "execution_count": null,
      "outputs": [
        {
          "output_type": "execute_result",
          "data": {
            "text/plain": [
              "                              Experiment Description  Accuracy  Precision  \\\n",
              "0                          Eperiment# 1:  Simple RNN  0.735391   0.676512   \n",
              "1  Eperiment# 2: RNN and pre-trained Glove word e...  0.802364   0.841393   \n",
              "2  Eperiment# 3:  RNN with  and pre-trained twitt...  0.790545   0.778702   \n",
              "3  Eperiment# 4:  RNN and pre-trained FastText wo...  0.759028   0.713860   \n",
              "4                        Eperiment# 5: Simple LSTM    0.778726   0.716826   \n",
              "5  Eperiment# 6: LSTM and pre-trained Glove word ...  0.801707   0.768293   \n",
              "6  Eperiment# 7: LSTM and pre-trained twitter-Glo...  0.816152   0.830389   \n",
              "7  Eperiment# 8: LSTM and pre-trained FastText wo...  0.814183   0.812816   \n",
              "8                                Eperiment# 9: BERT   0.771504   0.892308   \n",
              "\n",
              "     Recall  F1-Score  \n",
              "0  0.735474  0.735474  \n",
              "1  0.665138  0.665138  \n",
              "2  0.715596  0.715596  \n",
              "3  0.732416  0.732416  \n",
              "4  0.801223  0.801223  \n",
              "5  0.770642  0.770642  \n",
              "6  0.718654  0.718654  \n",
              "7  0.737003  0.737003  \n",
              "8  0.532110  0.532110  "
            ],
            "text/html": [
              "\n",
              "  <div id=\"df-286cfa6e-f234-4e63-8ade-e4a6ab1d0e45\">\n",
              "    <div class=\"colab-df-container\">\n",
              "      <div>\n",
              "<style scoped>\n",
              "    .dataframe tbody tr th:only-of-type {\n",
              "        vertical-align: middle;\n",
              "    }\n",
              "\n",
              "    .dataframe tbody tr th {\n",
              "        vertical-align: top;\n",
              "    }\n",
              "\n",
              "    .dataframe thead th {\n",
              "        text-align: right;\n",
              "    }\n",
              "</style>\n",
              "<table border=\"1\" class=\"dataframe\">\n",
              "  <thead>\n",
              "    <tr style=\"text-align: right;\">\n",
              "      <th></th>\n",
              "      <th>Experiment Description</th>\n",
              "      <th>Accuracy</th>\n",
              "      <th>Precision</th>\n",
              "      <th>Recall</th>\n",
              "      <th>F1-Score</th>\n",
              "    </tr>\n",
              "  </thead>\n",
              "  <tbody>\n",
              "    <tr>\n",
              "      <th>0</th>\n",
              "      <td>Eperiment# 1:  Simple RNN</td>\n",
              "      <td>0.735391</td>\n",
              "      <td>0.676512</td>\n",
              "      <td>0.735474</td>\n",
              "      <td>0.735474</td>\n",
              "    </tr>\n",
              "    <tr>\n",
              "      <th>1</th>\n",
              "      <td>Eperiment# 2: RNN and pre-trained Glove word e...</td>\n",
              "      <td>0.802364</td>\n",
              "      <td>0.841393</td>\n",
              "      <td>0.665138</td>\n",
              "      <td>0.665138</td>\n",
              "    </tr>\n",
              "    <tr>\n",
              "      <th>2</th>\n",
              "      <td>Eperiment# 3:  RNN with  and pre-trained twitt...</td>\n",
              "      <td>0.790545</td>\n",
              "      <td>0.778702</td>\n",
              "      <td>0.715596</td>\n",
              "      <td>0.715596</td>\n",
              "    </tr>\n",
              "    <tr>\n",
              "      <th>3</th>\n",
              "      <td>Eperiment# 4:  RNN and pre-trained FastText wo...</td>\n",
              "      <td>0.759028</td>\n",
              "      <td>0.713860</td>\n",
              "      <td>0.732416</td>\n",
              "      <td>0.732416</td>\n",
              "    </tr>\n",
              "    <tr>\n",
              "      <th>4</th>\n",
              "      <td>Eperiment# 5: Simple LSTM</td>\n",
              "      <td>0.778726</td>\n",
              "      <td>0.716826</td>\n",
              "      <td>0.801223</td>\n",
              "      <td>0.801223</td>\n",
              "    </tr>\n",
              "    <tr>\n",
              "      <th>5</th>\n",
              "      <td>Eperiment# 6: LSTM and pre-trained Glove word ...</td>\n",
              "      <td>0.801707</td>\n",
              "      <td>0.768293</td>\n",
              "      <td>0.770642</td>\n",
              "      <td>0.770642</td>\n",
              "    </tr>\n",
              "    <tr>\n",
              "      <th>6</th>\n",
              "      <td>Eperiment# 7: LSTM and pre-trained twitter-Glo...</td>\n",
              "      <td>0.816152</td>\n",
              "      <td>0.830389</td>\n",
              "      <td>0.718654</td>\n",
              "      <td>0.718654</td>\n",
              "    </tr>\n",
              "    <tr>\n",
              "      <th>7</th>\n",
              "      <td>Eperiment# 8: LSTM and pre-trained FastText wo...</td>\n",
              "      <td>0.814183</td>\n",
              "      <td>0.812816</td>\n",
              "      <td>0.737003</td>\n",
              "      <td>0.737003</td>\n",
              "    </tr>\n",
              "    <tr>\n",
              "      <th>8</th>\n",
              "      <td>Eperiment# 9: BERT</td>\n",
              "      <td>0.771504</td>\n",
              "      <td>0.892308</td>\n",
              "      <td>0.532110</td>\n",
              "      <td>0.532110</td>\n",
              "    </tr>\n",
              "  </tbody>\n",
              "</table>\n",
              "</div>\n",
              "      <button class=\"colab-df-convert\" onclick=\"convertToInteractive('df-286cfa6e-f234-4e63-8ade-e4a6ab1d0e45')\"\n",
              "              title=\"Convert this dataframe to an interactive table.\"\n",
              "              style=\"display:none;\">\n",
              "        \n",
              "  <svg xmlns=\"http://www.w3.org/2000/svg\" height=\"24px\"viewBox=\"0 0 24 24\"\n",
              "       width=\"24px\">\n",
              "    <path d=\"M0 0h24v24H0V0z\" fill=\"none\"/>\n",
              "    <path d=\"M18.56 5.44l.94 2.06.94-2.06 2.06-.94-2.06-.94-.94-2.06-.94 2.06-2.06.94zm-11 1L8.5 8.5l.94-2.06 2.06-.94-2.06-.94L8.5 2.5l-.94 2.06-2.06.94zm10 10l.94 2.06.94-2.06 2.06-.94-2.06-.94-.94-2.06-.94 2.06-2.06.94z\"/><path d=\"M17.41 7.96l-1.37-1.37c-.4-.4-.92-.59-1.43-.59-.52 0-1.04.2-1.43.59L10.3 9.45l-7.72 7.72c-.78.78-.78 2.05 0 2.83L4 21.41c.39.39.9.59 1.41.59.51 0 1.02-.2 1.41-.59l7.78-7.78 2.81-2.81c.8-.78.8-2.07 0-2.86zM5.41 20L4 18.59l7.72-7.72 1.47 1.35L5.41 20z\"/>\n",
              "  </svg>\n",
              "      </button>\n",
              "      \n",
              "  <style>\n",
              "    .colab-df-container {\n",
              "      display:flex;\n",
              "      flex-wrap:wrap;\n",
              "      gap: 12px;\n",
              "    }\n",
              "\n",
              "    .colab-df-convert {\n",
              "      background-color: #E8F0FE;\n",
              "      border: none;\n",
              "      border-radius: 50%;\n",
              "      cursor: pointer;\n",
              "      display: none;\n",
              "      fill: #1967D2;\n",
              "      height: 32px;\n",
              "      padding: 0 0 0 0;\n",
              "      width: 32px;\n",
              "    }\n",
              "\n",
              "    .colab-df-convert:hover {\n",
              "      background-color: #E2EBFA;\n",
              "      box-shadow: 0px 1px 2px rgba(60, 64, 67, 0.3), 0px 1px 3px 1px rgba(60, 64, 67, 0.15);\n",
              "      fill: #174EA6;\n",
              "    }\n",
              "\n",
              "    [theme=dark] .colab-df-convert {\n",
              "      background-color: #3B4455;\n",
              "      fill: #D2E3FC;\n",
              "    }\n",
              "\n",
              "    [theme=dark] .colab-df-convert:hover {\n",
              "      background-color: #434B5C;\n",
              "      box-shadow: 0px 1px 3px 1px rgba(0, 0, 0, 0.15);\n",
              "      filter: drop-shadow(0px 1px 2px rgba(0, 0, 0, 0.3));\n",
              "      fill: #FFFFFF;\n",
              "    }\n",
              "  </style>\n",
              "\n",
              "      <script>\n",
              "        const buttonEl =\n",
              "          document.querySelector('#df-286cfa6e-f234-4e63-8ade-e4a6ab1d0e45 button.colab-df-convert');\n",
              "        buttonEl.style.display =\n",
              "          google.colab.kernel.accessAllowed ? 'block' : 'none';\n",
              "\n",
              "        async function convertToInteractive(key) {\n",
              "          const element = document.querySelector('#df-286cfa6e-f234-4e63-8ade-e4a6ab1d0e45');\n",
              "          const dataTable =\n",
              "            await google.colab.kernel.invokeFunction('convertToInteractive',\n",
              "                                                     [key], {});\n",
              "          if (!dataTable) return;\n",
              "\n",
              "          const docLinkHtml = 'Like what you see? Visit the ' +\n",
              "            '<a target=\"_blank\" href=https://colab.research.google.com/notebooks/data_table.ipynb>data table notebook</a>'\n",
              "            + ' to learn more about interactive tables.';\n",
              "          element.innerHTML = '';\n",
              "          dataTable['output_type'] = 'display_data';\n",
              "          await google.colab.output.renderOutput(dataTable, element);\n",
              "          const docLink = document.createElement('div');\n",
              "          docLink.innerHTML = docLinkHtml;\n",
              "          element.appendChild(docLink);\n",
              "        }\n",
              "      </script>\n",
              "    </div>\n",
              "  </div>\n",
              "  "
            ]
          },
          "metadata": {},
          "execution_count": 29
        }
      ]
    },
    {
      "cell_type": "code",
      "source": [],
      "metadata": {
        "id": "g9ccrjKLWI4W"
      },
      "execution_count": null,
      "outputs": []
    }
  ],
  "metadata": {
    "colab": {
      "provenance": []
    },
    "gpuClass": "standard",
    "kernelspec": {
      "display_name": "Python 3.10.6 64-bit",
      "language": "python",
      "name": "python3"
    },
    "language_info": {
      "codemirror_mode": {
        "name": "ipython",
        "version": 3
      },
      "file_extension": ".py",
      "mimetype": "text/x-python",
      "name": "python",
      "nbconvert_exporter": "python",
      "pygments_lexer": "ipython3",
      "version": "3.10.6"
    },
    "vscode": {
      "interpreter": {
        "hash": "fbc768028c3e6ead51d9a200ddcb2ec858ae62844dcd1994729a8279be9b48f2"
      }
    },
    "accelerator": "GPU"
  },
  "nbformat": 4,
  "nbformat_minor": 0
}